{
  "nbformat": 4,
  "nbformat_minor": 0,
  "metadata": {
    "colab": {
      "name": "ASL_prac.ipynb",
      "provenance": [],
      "collapsed_sections": [],
      "mount_file_id": "1SMXo_iKbLK0j_QeCjSTmxAmfri5ENvoF",
      "authorship_tag": "ABX9TyMroaINN9EVNcHnW9UGsJA5",
      "include_colab_link": true
    },
    "kernelspec": {
      "name": "python3",
      "display_name": "Python 3"
    },
    "language_info": {
      "name": "python"
    },
    "accelerator": "GPU"
  },
  "cells": [
    {
      "cell_type": "markdown",
      "metadata": {
        "id": "view-in-github",
        "colab_type": "text"
      },
      "source": [
        "<a href=\"https://colab.research.google.com/github/akfangus/DeepProject/blob/main/ASL_prac.ipynb\" target=\"_parent\"><img src=\"https://colab.research.google.com/assets/colab-badge.svg\" alt=\"Open In Colab\"/></a>"
      ]
    },
    {
      "cell_type": "code",
      "metadata": {
        "id": "ZvM4DAH9UjYu"
      },
      "source": [
        "# from torch.utils.data import Dataset, DataLoader\n",
        "# import os\n",
        "# import torch\n",
        "# from glob import glob\n",
        "# import matplotlib.pyplot as plt\n",
        "# from PIL import Image\n",
        "\n",
        "# import torchvision.transforms as transforms\n",
        "# import torchvision\n",
        "# from torchvision import models"
      ],
      "execution_count": null,
      "outputs": []
    },
    {
      "cell_type": "code",
      "metadata": {
        "id": "c1mY80BlDfMj"
      },
      "source": [
        "import numpy as np\n",
        "import os\n",
        "import torch\n",
        "import torchvision\n",
        "import torch.nn as nn\n",
        "import torch.nn.functional as F\n",
        "from torchvision import transforms,models,datasets\n",
        "import matplotlib.pyplot as plt\n",
        "from PIL import Image\n",
        "from torch import optim\n",
        "device = 'cuda' if torch.cuda.is_available() else 'cpu'\n",
        "import cv2\n",
        "from glob import glob\n",
        "import torchvision.transforms as transforms\n",
        "from torch.utils.data import DataLoader, Dataset"
      ],
      "execution_count": null,
      "outputs": []
    },
    {
      "cell_type": "code",
      "metadata": {
        "id": "vXDBWNXQba_y",
        "colab": {
          "base_uri": "https://localhost:8080/"
        },
        "outputId": "6ca27f1d-2ff5-4a83-e5e4-2c707cc423b0"
      },
      "source": [
        "device = 'cuda' if torch.cuda.is_available() else 'cpu'\n",
        "torch.manual_seed(777)\n",
        "if device =='cuda':\n",
        "    torch.cuda.manual_seed_all(777)\n",
        "print(device)"
      ],
      "execution_count": null,
      "outputs": [
        {
          "output_type": "stream",
          "name": "stdout",
          "text": [
            "cuda\n"
          ]
        }
      ]
    },
    {
      "cell_type": "code",
      "metadata": {
        "id": "8xA9BqYwms7u"
      },
      "source": [
        "%matplotlib inline"
      ],
      "execution_count": null,
      "outputs": []
    },
    {
      "cell_type": "markdown",
      "metadata": {
        "id": "d3gtAVOXZpB2"
      },
      "source": [
        "# Dataloader의 필요성\n",
        "- 자신의 이미지를 가지고 학습 시켜 자신의 프로젝트를 진행하기 위해 사용하는 라이브러리\n",
        "- 본인이 가지고 있는 디렉터리 구조를 로드\n",
        "\n",
        "## 대략적 구조\n",
        "- 학습하고자 하는 데이터 셋에 Dataset클래스로 정의\n",
        "- Dataloader 클래스에 인수로 줌\n",
        "- network에서 우리의 데이터를 사용할 수 있음.\n",
        "\n",
        "## PyTorch의 Dataset과 DataLoader를 이용하면 학습을 위한 방대한 데이터를 미니배치 단위로 처리할 수 있고, 데이터를 무작위로 섞음으로써 학습의 효율성을 향상시킬 수 있다. 또한 데이터를 여러개의 GPU를 사용해 병렬처리로 학습할 수도 있다. 아래의 코드는 Dataset과 DataLoader를 사용하지 않고 매 에폭마다 학습 데이터 전체를 입력해 학습하는 코드이다."
      ]
    },
    {
      "cell_type": "markdown",
      "metadata": {
        "id": "H9ma31diaBfH"
      },
      "source": [
        "# Dataset"
      ]
    },
    {
      "cell_type": "code",
      "metadata": {
        "colab": {
          "base_uri": "https://localhost:8080/"
        },
        "id": "wLub4_Iea0O8",
        "outputId": "feccc6e7-9e07-47e2-bd05-cea5eb4fdbf1"
      },
      "source": [
        "path = []\n",
        "# os.listdir = 경로에 포함되는 모든 디렉토리를 읽음\n",
        "for i in os.listdir('/content/drive/MyDrive/Colab Notebooks/ASL/ASL Alphabet/asl_alphabet_train/asl_alphabet_train'):\n",
        "  print(i)\n",
        "  # glob = 경로의 지종파일을 읽음.\n",
        "  for files in glob(f'/content/drive/MyDrive/Colab Notebooks/ASL/ASL Alphabet/asl_alphabet_train/asl_alphabet_train/{i}/*'):\n",
        "    path.append(files)"
      ],
      "execution_count": null,
      "outputs": [
        {
          "output_type": "stream",
          "name": "stdout",
          "text": [
            "T\n",
            "U\n",
            "Y\n",
            "Z\n",
            "V\n",
            "X\n",
            "R\n",
            "S\n",
            "space\n",
            "W\n",
            "J\n",
            "P\n",
            "L\n",
            "Q\n",
            "N\n",
            "K\n",
            "I\n",
            "M\n",
            "O\n",
            "nothing\n",
            "C\n",
            "del\n",
            "D\n",
            "H\n",
            "A\n",
            "F\n",
            "B\n",
            "E\n",
            "G\n"
          ]
        }
      ]
    },
    {
      "cell_type": "code",
      "metadata": {
        "id": "Y2cLaz7i2Djx"
      },
      "source": [
        "# path"
      ],
      "execution_count": null,
      "outputs": []
    },
    {
      "cell_type": "code",
      "metadata": {
        "id": "ncUpTB-rhxrW"
      },
      "source": [
        "#{} 딕셔너리, 형태로 해당 경로에 있는 디렉토리를 sorting한다음에 인덱스순서대로 딕셔너리화\n",
        "cmap = {v:i for i,v in enumerate(sorted(os.listdir('/content/drive/MyDrive/Colab Notebooks/ASL/ASL Alphabet/asl_alphabet_train/asl_alphabet_train')))}"
      ],
      "execution_count": null,
      "outputs": []
    },
    {
      "cell_type": "code",
      "metadata": {
        "colab": {
          "base_uri": "https://localhost:8080/"
        },
        "id": "i-lKC6xxmSwD",
        "outputId": "cf9214cf-d236-4bf7-c6ab-065ac9e66415"
      },
      "source": [
        "cmap"
      ],
      "execution_count": null,
      "outputs": [
        {
          "output_type": "execute_result",
          "data": {
            "text/plain": [
              "{'A': 0,\n",
              " 'B': 1,\n",
              " 'C': 2,\n",
              " 'D': 3,\n",
              " 'E': 4,\n",
              " 'F': 5,\n",
              " 'G': 6,\n",
              " 'H': 7,\n",
              " 'I': 8,\n",
              " 'J': 9,\n",
              " 'K': 10,\n",
              " 'L': 11,\n",
              " 'M': 12,\n",
              " 'N': 13,\n",
              " 'O': 14,\n",
              " 'P': 15,\n",
              " 'Q': 16,\n",
              " 'R': 17,\n",
              " 'S': 18,\n",
              " 'T': 19,\n",
              " 'U': 20,\n",
              " 'V': 21,\n",
              " 'W': 22,\n",
              " 'X': 23,\n",
              " 'Y': 24,\n",
              " 'Z': 25,\n",
              " 'del': 26,\n",
              " 'nothing': 27,\n",
              " 'space': 28}"
            ]
          },
          "metadata": {},
          "execution_count": 8
        }
      ]
    },
    {
      "cell_type": "code",
      "metadata": {
        "id": "NzL96JgQA9mF"
      },
      "source": [
        "class ASL(Dataset):\n",
        "    def __init__(self,path,cmap):\n",
        "      # 클래스 초기화 함수 ASK(path, cmap)값을 넣어서 초기설정\n",
        "        self.path = path\n",
        "        self.normalize = transforms.Normalize(mean = [0.485,0.456,0.406],std = [0.229,0.224,0.225])\n",
        "        self.cmap = cmap\n",
        "    def __len__(self):\n",
        "      # 길이를 return 하게해주는함수 len()을 쓸수있게됨\n",
        "        return len(self.path)\n",
        "    \n",
        "    def __getitem__(self,ix):\n",
        "      # 인덱스로 값을 출력할수 있게 해주는 함수\n",
        "        # opencv로 이미지를 읽어옴 opencv는 RGB가 아니라 BGR형식이기때문에 이미지에서 [:,:,::-1]로 채널을 거꾸로 읽어준다고한다.\n",
        "        im = cv2.imread(self.path[ix])[:,:,::-1]\n",
        "        # VGG16은 224,224를 인풋으로 받아온다고함.\n",
        "        im = cv2.resize(im,(224,224))\n",
        "        # 입력으로 하기위한 텐서변환.\n",
        "        im = torch.tensor(im/255)\n",
        "        # 인풋의 shape가 (width, height, channel)로 되어있는데 이걸 (channel, width, height) 형태로 변경해야하기 때문에 permute()함수를 씀.\n",
        "        im = im.permute(2,0,1)\n",
        "        # Nomalize init에서 선언한거 실행\n",
        "        im = self.normalize(im)\n",
        "        # 이미지 타겟 mapping하기위해 디렉토리에서 값을 뽑아옴\n",
        "        target = self.path[ix].split(\"/\")[-2]\n",
        "        # 매핑된값 label로 저장,\n",
        "        label = cmap[target]\n",
        "        \n",
        "        return im.float().to(device),torch.tensor(int(label)).long().to(device)    "
      ],
      "execution_count": null,
      "outputs": []
    },
    {
      "cell_type": "code",
      "metadata": {
        "colab": {
          "base_uri": "https://localhost:8080/"
        },
        "id": "uQeJN9ffD59s",
        "outputId": "b3f77a4a-1561-491c-b6b8-bbe837d5e243"
      },
      "source": [
        "# tensor (3,224,224)retuen\n",
        "data[0][0]\n",
        "# label tensor화하여 return\n",
        "data[0][1]"
      ],
      "execution_count": null,
      "outputs": [
        {
          "output_type": "execute_result",
          "data": {
            "text/plain": [
              "tensor(19, device='cuda:0')"
            ]
          },
          "metadata": {},
          "execution_count": 20
        }
      ]
    },
    {
      "cell_type": "code",
      "metadata": {
        "colab": {
          "base_uri": "https://localhost:8080/",
          "height": 306
        },
        "id": "NXUr14CDDh9V",
        "outputId": "362a8aa5-5277-464a-c2c7-376db637aa1a"
      },
      "source": [
        "data = ASL(path,cmap)\n",
        "\n",
        "im,label = data[0]\n",
        "# (3,224,224)로 되어있는거 (224,224,3)으로 변경해주기위한 permute()함수\n",
        "plt.imshow(im.cpu().permute(1,2,0))\n",
        "print(label)"
      ],
      "execution_count": null,
      "outputs": [
        {
          "output_type": "stream",
          "name": "stderr",
          "text": [
            "Clipping input data to the valid range for imshow with RGB data ([0..1] for floats or [0..255] for integers).\n"
          ]
        },
        {
          "output_type": "stream",
          "name": "stdout",
          "text": [
            "tensor(19, device='cuda:0')\n"
          ]
        },
        {
          "output_type": "display_data",
          "data": {
            "image/png": "[encoded data removed]",
            "text/plain": [
              "<Figure size 432x288 with 1 Axes>"
            ]
          },
          "metadata": {
            "needs_background": "light"
          }
        }
      ]
    },
    {
      "cell_type": "code",
      "metadata": {
        "id": "C_Q8o292EDxm"
      },
      "source": [
        "im,label = data[20000]\n",
        "plt.imshow(im.cpu().permute(1,2,0))\n",
        "print(label)"
      ],
      "execution_count": null,
      "outputs": []
    },
    {
      "cell_type": "code",
      "metadata": {
        "id": "ymno5zT0XA1R"
      },
      "source": [
        "from random import shuffle\n",
        "from random import seed"
      ],
      "execution_count": null,
      "outputs": []
    },
    {
      "cell_type": "code",
      "metadata": {
        "colab": {
          "base_uri": "https://localhost:8080/"
        },
        "id": "CW96no_WXQRb",
        "outputId": "71ed5a78-a6fb-43e1-f58f-5497e2f6d546"
      },
      "source": [
        "len(path)"
      ],
      "execution_count": null,
      "outputs": [
        {
          "output_type": "execute_result",
          "data": {
            "text/plain": [
              "86999"
            ]
          },
          "metadata": {},
          "execution_count": 22
        }
      ]
    },
    {
      "cell_type": "code",
      "metadata": {
        "id": "4wSNYJWsXAzp"
      },
      "source": [
        "seed(42) # 시드고정\n",
        "shuffle(path) # 저장된 이미지 path 셔플\n",
        "\n",
        "# 87000데이터니까 얼추 75000개로 나눠서 검증셋만들기\n",
        "train = path[:75000]\n",
        "val = path[75000:]\n",
        "# data불러오기\n",
        "train_data = ASL(train,cmap)\n",
        "val_data = ASL(val,cmap)\n",
        "# dataloader로 많은양의 데이터를 minibatch로 나누어서 진행 할수 있게 한다.\n",
        "train_dl = DataLoader(train_data, batch_size=32, shuffle=True, drop_last=True)\n",
        "val_dl = DataLoader(val_data, batch_size=32, shuffle=False, drop_last=True)"
      ],
      "execution_count": null,
      "outputs": []
    },
    {
      "cell_type": "code",
      "metadata": {
        "id": "Ah5LsDflXAxm"
      },
      "source": [
        "# 모델을 만들어보자\n",
        "# vgg16 선언.\n",
        "model = models.vgg16(pretrained=True)"
      ],
      "execution_count": null,
      "outputs": []
    },
    {
      "cell_type": "code",
      "metadata": {
        "id": "gY2PxLZaXAvq"
      },
      "source": [
        "# 모델의 일부를 고정하고 나머지를 훈련하려는 경우 고정하려는 매개변수의 requires_grad를 False로 설정.\n",
        "# 이경우는 전체 고정시키고 avgpool classifier를 재선언한 모델로 결국 Convolution 만 고정하려는 목적인거같다.\n",
        "for param in model.parameters():\n",
        "  param.requires_grad  = False\n",
        "\n",
        "# 원래는 (7,7)인데 (1,1)로 원본 그대로를? 하는건가?\n",
        "model.avgpool = nn.AdaptiveAvgPool2d(output_size=(1,1))\n",
        "\n",
        "model.classifier = nn.Sequential(\n",
        "    # 일자 벡터화\n",
        "    nn.Flatten(),\n",
        "    nn.Linear(512,128),\n",
        "    nn.ReLU(),\n",
        "    nn.Dropout(0.2),\n",
        "    nn.Linear(128,29),\n",
        "    nn.Softmax()\n",
        ")"
      ],
      "execution_count": null,
      "outputs": []
    },
    {
      "cell_type": "code",
      "metadata": {
        "colab": {
          "base_uri": "https://localhost:8080/"
        },
        "id": "VbIxlL-afdxv",
        "outputId": "f4b2f498-6ff0-4b43-f37c-5bba2ffa86f2"
      },
      "source": [
        "# loss function = CrossEntropy => 다중 클래스 분류에 자주 사용되는 Loss function => log_softmax와 nll_loss가 하나의 함수로 합쳐진 형태라고함.\n",
        "\n",
        "# optimizer = Adam ==> Adam method는 Adagrad + RMSProp\n",
        "# Adam은 stepsize가 gradient의 rescaling에 영향 받지않아 gradient가 커져도 stepsize는 bound 되어있어 어떠한 objectfunction을 사용한다 하더라도 안정적으로 최적화를 위한 하강이 가능하다고 한다.\n",
        "loss_fn = nn.CrossEntropyLoss()\n",
        "optimizer = torch.optim.Adam(model.parameters(), lr=1e-3)\n",
        "model.to(device)"
      ],
      "execution_count": null,
      "outputs": [
        {
          "output_type": "execute_result",
          "data": {
            "text/plain": [
              "VGG(\n",
              "  (features): Sequential(\n",
              "    (0): Conv2d(3, 64, kernel_size=(3, 3), stride=(1, 1), padding=(1, 1))\n",
              "    (1): ReLU(inplace=True)\n",
              "    (2): Conv2d(64, 64, kernel_size=(3, 3), stride=(1, 1), padding=(1, 1))\n",
              "    (3): ReLU(inplace=True)\n",
              "    (4): MaxPool2d(kernel_size=2, stride=2, padding=0, dilation=1, ceil_mode=False)\n",
              "    (5): Conv2d(64, 128, kernel_size=(3, 3), stride=(1, 1), padding=(1, 1))\n",
              "    (6): ReLU(inplace=True)\n",
              "    (7): Conv2d(128, 128, kernel_size=(3, 3), stride=(1, 1), padding=(1, 1))\n",
              "    (8): ReLU(inplace=True)\n",
              "    (9): MaxPool2d(kernel_size=2, stride=2, padding=0, dilation=1, ceil_mode=False)\n",
              "    (10): Conv2d(128, 256, kernel_size=(3, 3), stride=(1, 1), padding=(1, 1))\n",
              "    (11): ReLU(inplace=True)\n",
              "    (12): Conv2d(256, 256, kernel_size=(3, 3), stride=(1, 1), padding=(1, 1))\n",
              "    (13): ReLU(inplace=True)\n",
              "    (14): Conv2d(256, 256, kernel_size=(3, 3), stride=(1, 1), padding=(1, 1))\n",
              "    (15): ReLU(inplace=True)\n",
              "    (16): MaxPool2d(kernel_size=2, stride=2, padding=0, dilation=1, ceil_mode=False)\n",
              "    (17): Conv2d(256, 512, kernel_size=(3, 3), stride=(1, 1), padding=(1, 1))\n",
              "    (18): ReLU(inplace=True)\n",
              "    (19): Conv2d(512, 512, kernel_size=(3, 3), stride=(1, 1), padding=(1, 1))\n",
              "    (20): ReLU(inplace=True)\n",
              "    (21): Conv2d(512, 512, kernel_size=(3, 3), stride=(1, 1), padding=(1, 1))\n",
              "    (22): ReLU(inplace=True)\n",
              "    (23): MaxPool2d(kernel_size=2, stride=2, padding=0, dilation=1, ceil_mode=False)\n",
              "    (24): Conv2d(512, 512, kernel_size=(3, 3), stride=(1, 1), padding=(1, 1))\n",
              "    (25): ReLU(inplace=True)\n",
              "    (26): Conv2d(512, 512, kernel_size=(3, 3), stride=(1, 1), padding=(1, 1))\n",
              "    (27): ReLU(inplace=True)\n",
              "    (28): Conv2d(512, 512, kernel_size=(3, 3), stride=(1, 1), padding=(1, 1))\n",
              "    (29): ReLU(inplace=True)\n",
              "    (30): MaxPool2d(kernel_size=2, stride=2, padding=0, dilation=1, ceil_mode=False)\n",
              "  )\n",
              "  (avgpool): AdaptiveAvgPool2d(output_size=(1, 1))\n",
              "  (classifier): Sequential(\n",
              "    (0): Flatten(start_dim=1, end_dim=-1)\n",
              "    (1): Linear(in_features=512, out_features=128, bias=True)\n",
              "    (2): ReLU()\n",
              "    (3): Dropout(p=0.2, inplace=False)\n",
              "    (4): Linear(in_features=128, out_features=29, bias=True)\n",
              "    (5): Softmax(dim=None)\n",
              "  )\n",
              ")"
            ]
          },
          "metadata": {},
          "execution_count": 41
        }
      ]
    },
    {
      "cell_type": "code",
      "metadata": {
        "colab": {
          "base_uri": "https://localhost:8080/"
        },
        "id": "qCW2y1SOfdv7",
        "outputId": "50d65b69-5554-4d9f-c195-55e3e79f4647"
      },
      "source": [
        "!pip install torch-summary"
      ],
      "execution_count": null,
      "outputs": [
        {
          "output_type": "stream",
          "name": "stdout",
          "text": [
            "Collecting torch-summary\n",
            "  Downloading torch_summary-1.4.5-py3-none-any.whl (16 kB)\n",
            "Installing collected packages: torch-summary\n",
            "Successfully installed torch-summary-1.4.5\n"
          ]
        }
      ]
    },
    {
      "cell_type": "code",
      "metadata": {
        "colab": {
          "base_uri": "https://localhost:8080/"
        },
        "id": "ptLFS1H1fdt2",
        "outputId": "300b8723-23b1-49ec-e904-976008409d5a"
      },
      "source": [
        "from torchsummary import summary\n",
        "# 만들어진 모델 어떻게 돌아가는지 테스트 및 성능 해보는거같음.\n",
        "summary(model, torch.zeros(1,3,224,224))"
      ],
      "execution_count": null,
      "outputs": [
        {
          "output_type": "stream",
          "name": "stdout",
          "text": [
            "==========================================================================================\n",
            "Layer (type:depth-idx)                   Output Shape              Param #\n",
            "==========================================================================================\n",
            "├─Sequential: 1-1                        [-1, 512, 7, 7]           --\n",
            "|    └─Conv2d: 2-1                       [-1, 64, 224, 224]        (1,792)\n",
            "|    └─ReLU: 2-2                         [-1, 64, 224, 224]        --\n",
            "|    └─Conv2d: 2-3                       [-1, 64, 224, 224]        (36,928)\n",
            "|    └─ReLU: 2-4                         [-1, 64, 224, 224]        --\n",
            "|    └─MaxPool2d: 2-5                    [-1, 64, 112, 112]        --\n",
            "|    └─Conv2d: 2-6                       [-1, 128, 112, 112]       (73,856)\n",
            "|    └─ReLU: 2-7                         [-1, 128, 112, 112]       --\n",
            "|    └─Conv2d: 2-8                       [-1, 128, 112, 112]       (147,584)\n",
            "|    └─ReLU: 2-9                         [-1, 128, 112, 112]       --\n",
            "|    └─MaxPool2d: 2-10                   [-1, 128, 56, 56]         --\n",
            "|    └─Conv2d: 2-11                      [-1, 256, 56, 56]         (295,168)\n",
            "|    └─ReLU: 2-12                        [-1, 256, 56, 56]         --\n",
            "|    └─Conv2d: 2-13                      [-1, 256, 56, 56]         (590,080)\n",
            "|    └─ReLU: 2-14                        [-1, 256, 56, 56]         --\n",
            "|    └─Conv2d: 2-15                      [-1, 256, 56, 56]         (590,080)\n",
            "|    └─ReLU: 2-16                        [-1, 256, 56, 56]         --\n",
            "|    └─MaxPool2d: 2-17                   [-1, 256, 28, 28]         --\n",
            "|    └─Conv2d: 2-18                      [-1, 512, 28, 28]         (1,180,160)\n",
            "|    └─ReLU: 2-19                        [-1, 512, 28, 28]         --\n",
            "|    └─Conv2d: 2-20                      [-1, 512, 28, 28]         (2,359,808)\n",
            "|    └─ReLU: 2-21                        [-1, 512, 28, 28]         --\n",
            "|    └─Conv2d: 2-22                      [-1, 512, 28, 28]         (2,359,808)\n",
            "|    └─ReLU: 2-23                        [-1, 512, 28, 28]         --\n",
            "|    └─MaxPool2d: 2-24                   [-1, 512, 14, 14]         --\n",
            "|    └─Conv2d: 2-25                      [-1, 512, 14, 14]         (2,359,808)\n",
            "|    └─ReLU: 2-26                        [-1, 512, 14, 14]         --\n",
            "|    └─Conv2d: 2-27                      [-1, 512, 14, 14]         (2,359,808)\n",
            "|    └─ReLU: 2-28                        [-1, 512, 14, 14]         --\n",
            "|    └─Conv2d: 2-29                      [-1, 512, 14, 14]         (2,359,808)\n",
            "|    └─ReLU: 2-30                        [-1, 512, 14, 14]         --\n",
            "|    └─MaxPool2d: 2-31                   [-1, 512, 7, 7]           --\n",
            "├─AdaptiveAvgPool2d: 1-2                 [-1, 512, 1, 1]           --\n",
            "├─Sequential: 1-3                        [-1, 29]                  --\n",
            "|    └─Flatten: 2-32                     [-1, 512]                 --\n",
            "|    └─Linear: 2-33                      [-1, 128]                 65,664\n",
            "|    └─ReLU: 2-34                        [-1, 128]                 --\n",
            "|    └─Dropout: 2-35                     [-1, 128]                 --\n",
            "|    └─Linear: 2-36                      [-1, 29]                  3,741\n",
            "|    └─Softmax: 2-37                     [-1, 29]                  --\n",
            "==========================================================================================\n",
            "Total params: 14,784,093\n",
            "Trainable params: 69,405\n",
            "Non-trainable params: 14,714,688\n",
            "Total mult-adds (G): 15.36\n",
            "==========================================================================================\n",
            "Input size (MB): 0.57\n",
            "Forward/backward pass size (MB): 103.36\n",
            "Params size (MB): 56.40\n",
            "Estimated Total Size (MB): 160.33\n",
            "==========================================================================================\n"
          ]
        },
        {
          "output_type": "stream",
          "name": "stderr",
          "text": [
            "/usr/local/lib/python3.7/dist-packages/torch/nn/modules/container.py:139: UserWarning: Implicit dimension choice for softmax has been deprecated. Change the call to include dim=X as an argument.\n",
            "  input = module(input)\n"
          ]
        },
        {
          "output_type": "execute_result",
          "data": {
            "text/plain": [
              "==========================================================================================\n",
              "Layer (type:depth-idx)                   Output Shape              Param #\n",
              "==========================================================================================\n",
              "├─Sequential: 1-1                        [-1, 512, 7, 7]           --\n",
              "|    └─Conv2d: 2-1                       [-1, 64, 224, 224]        (1,792)\n",
              "|    └─ReLU: 2-2                         [-1, 64, 224, 224]        --\n",
              "|    └─Conv2d: 2-3                       [-1, 64, 224, 224]        (36,928)\n",
              "|    └─ReLU: 2-4                         [-1, 64, 224, 224]        --\n",
              "|    └─MaxPool2d: 2-5                    [-1, 64, 112, 112]        --\n",
              "|    └─Conv2d: 2-6                       [-1, 128, 112, 112]       (73,856)\n",
              "|    └─ReLU: 2-7                         [-1, 128, 112, 112]       --\n",
              "|    └─Conv2d: 2-8                       [-1, 128, 112, 112]       (147,584)\n",
              "|    └─ReLU: 2-9                         [-1, 128, 112, 112]       --\n",
              "|    └─MaxPool2d: 2-10                   [-1, 128, 56, 56]         --\n",
              "|    └─Conv2d: 2-11                      [-1, 256, 56, 56]         (295,168)\n",
              "|    └─ReLU: 2-12                        [-1, 256, 56, 56]         --\n",
              "|    └─Conv2d: 2-13                      [-1, 256, 56, 56]         (590,080)\n",
              "|    └─ReLU: 2-14                        [-1, 256, 56, 56]         --\n",
              "|    └─Conv2d: 2-15                      [-1, 256, 56, 56]         (590,080)\n",
              "|    └─ReLU: 2-16                        [-1, 256, 56, 56]         --\n",
              "|    └─MaxPool2d: 2-17                   [-1, 256, 28, 28]         --\n",
              "|    └─Conv2d: 2-18                      [-1, 512, 28, 28]         (1,180,160)\n",
              "|    └─ReLU: 2-19                        [-1, 512, 28, 28]         --\n",
              "|    └─Conv2d: 2-20                      [-1, 512, 28, 28]         (2,359,808)\n",
              "|    └─ReLU: 2-21                        [-1, 512, 28, 28]         --\n",
              "|    └─Conv2d: 2-22                      [-1, 512, 28, 28]         (2,359,808)\n",
              "|    └─ReLU: 2-23                        [-1, 512, 28, 28]         --\n",
              "|    └─MaxPool2d: 2-24                   [-1, 512, 14, 14]         --\n",
              "|    └─Conv2d: 2-25                      [-1, 512, 14, 14]         (2,359,808)\n",
              "|    └─ReLU: 2-26                        [-1, 512, 14, 14]         --\n",
              "|    └─Conv2d: 2-27                      [-1, 512, 14, 14]         (2,359,808)\n",
              "|    └─ReLU: 2-28                        [-1, 512, 14, 14]         --\n",
              "|    └─Conv2d: 2-29                      [-1, 512, 14, 14]         (2,359,808)\n",
              "|    └─ReLU: 2-30                        [-1, 512, 14, 14]         --\n",
              "|    └─MaxPool2d: 2-31                   [-1, 512, 7, 7]           --\n",
              "├─AdaptiveAvgPool2d: 1-2                 [-1, 512, 1, 1]           --\n",
              "├─Sequential: 1-3                        [-1, 29]                  --\n",
              "|    └─Flatten: 2-32                     [-1, 512]                 --\n",
              "|    └─Linear: 2-33                      [-1, 128]                 65,664\n",
              "|    └─ReLU: 2-34                        [-1, 128]                 --\n",
              "|    └─Dropout: 2-35                     [-1, 128]                 --\n",
              "|    └─Linear: 2-36                      [-1, 29]                  3,741\n",
              "|    └─Softmax: 2-37                     [-1, 29]                  --\n",
              "==========================================================================================\n",
              "Total params: 14,784,093\n",
              "Trainable params: 69,405\n",
              "Non-trainable params: 14,714,688\n",
              "Total mult-adds (G): 15.36\n",
              "==========================================================================================\n",
              "Input size (MB): 0.57\n",
              "Forward/backward pass size (MB): 103.36\n",
              "Params size (MB): 56.40\n",
              "Estimated Total Size (MB): 160.33\n",
              "=========================================================================================="
            ]
          },
          "metadata": {},
          "execution_count": 42
        }
      ]
    },
    {
      "cell_type": "code",
      "metadata": {
        "id": "2N8SOFGWXAtk"
      },
      "source": [
        "model.features.get_parameter"
      ],
      "execution_count": null,
      "outputs": []
    },
    {
      "cell_type": "code",
      "metadata": {
        "colab": {
          "base_uri": "https://localhost:8080/"
        },
        "id": "tmoQYe6cFJ9q",
        "outputId": "960ac29c-25b9-48f6-e592-a309d653f718"
      },
      "source": [
        "# for data, target in train_dl:\n",
        "#   print(data, target)\n",
        "len(train_dl)"
      ],
      "execution_count": null,
      "outputs": [
        {
          "output_type": "execute_result",
          "data": {
            "text/plain": [
              "2343"
            ]
          },
          "metadata": {},
          "execution_count": 44
        }
      ]
    },
    {
      "cell_type": "code",
      "metadata": {
        "colab": {
          "base_uri": "https://localhost:8080/",
          "height": 437
        },
        "id": "KK7jAobrDh7G",
        "outputId": "36b7807b-b39c-462d-a437-fb101e474d61"
      },
      "source": [
        "# 이제 학습 시켜보자\n",
        "train_losses, valid_losses = [],[]\n",
        "# 15epoch 수행 예정\n",
        "n_epochs=15\n",
        "\n",
        "for epochs in range(n_epochs):\n",
        "  # train, val loss값 초기화\n",
        "  train_loss=0.0\n",
        "  val_loss=0.0\n",
        "  # 모델을 학습 모드로 변환 / 평가 모드는 model.eval() 로 할 수 있다.\n",
        "  model.train()\n",
        "  for data, target in train_dl:\n",
        "    # 파이토치는 미분을 통해 얻은 기울기를 이전에 계산된 기울기 값에 누적시키는 특징이 있습니다\n",
        "    # 그렇기 때문에 optimizer.zero_grad()를 통해 미분값을 계속 0으로 초기화\n",
        "    optimizer.zero_grad()\n",
        "    # data에 대한 예측값 생성\n",
        "    prediction = model(data)\n",
        "    # 예측과 target에 대한 loss function수행\n",
        "    loss = loss_fn(prediction, target)\n",
        "    # loss에 backwoar()를 계산하면 모델을 구성하는 파라미터에 대한 gradient를 계산한다.\n",
        "    # backward()는 암묵적으로 loss값이 스칼라라고 가정하기때문에 scalar값으로 만들어주어야함.\n",
        "    # backpropagation으로 하는듯.\n",
        "    loss.backward()\n",
        "    # optimizer가 step()메소드를 통해 parameter를 업데이터한다.\n",
        "    optimizer.step()\n",
        "    train_loss += loss.item() * data.size(0)\n",
        "\n",
        "  # batch normalization 이나 dropout이 들어있는 모델은 batchsize에 따라 결과가 달라진다던가 실행 시킬때마다 결과가 달라져 학습에 영향을 미침 (드롭아웃 및 배치 정규화를 평가 모드로 설정하여야 합니다. 이것을 하지 않으면 추론 결과가 일관성 없게 출력)\n",
        "  # 훈련후 결과 계산만을 위해 model.eval()을 실행 시켜줘야한다고함.\n",
        "  model.eval()\n",
        "\n",
        "  for data, target in val_dl:\n",
        "    prediction = model(data)\n",
        "    loss = loss_fn(prediction, target)\n",
        "    val_loss += loss.item() * data.size(0)\n",
        "  \n",
        "  # for문에서 train_loss에 모든 loss의 합을 더햇으므로 최종 loss는 갯수만큼 나눠야겟죠?\n",
        "  train_loss = train_loss / len(train_dl.sampler)\n",
        "  val_loss = val_loss / len(val_dl.sampler)\n",
        "\n",
        "  # loss 리스트에 append\n",
        "  train_losses.append(train_loss)\n",
        "  valid_losses.append(val_loss)\n",
        "\n",
        "  print(\"Epoch : {} \\tTraining Loss: {:.6f} \\tValidation Loss {:.6f}\".format(epochs,train_loss,val_loss))\n"
      ],
      "execution_count": null,
      "outputs": [
        {
          "output_type": "stream",
          "name": "stderr",
          "text": [
            "/usr/local/lib/python3.7/dist-packages/torch/nn/modules/container.py:139: UserWarning: Implicit dimension choice for softmax has been deprecated. Change the call to include dim=X as an argument.\n",
            "  input = module(input)\n"
          ]
        },
        {
          "output_type": "error",
          "ename": "KeyboardInterrupt",
          "evalue": "ignored",
          "traceback": [
            "\u001b[0;31m---------------------------------------------------------------------------\u001b[0m",
            "\u001b[0;31mKeyboardInterrupt\u001b[0m                         Traceback (most recent call last)",
            "\u001b[0;32m<ipython-input-45-c510b1c58365>\u001b[0m in \u001b[0;36m<module>\u001b[0;34m()\u001b[0m\n\u001b[1;32m     10\u001b[0m   \u001b[0;31m# 모델을 학습 모드로 변환 / 평가 모드는 model.eval() 로 할 수 있다.\u001b[0m\u001b[0;34m\u001b[0m\u001b[0;34m\u001b[0m\u001b[0;34m\u001b[0m\u001b[0m\n\u001b[1;32m     11\u001b[0m   \u001b[0mmodel\u001b[0m\u001b[0;34m.\u001b[0m\u001b[0mtrain\u001b[0m\u001b[0;34m(\u001b[0m\u001b[0;34m)\u001b[0m\u001b[0;34m\u001b[0m\u001b[0;34m\u001b[0m\u001b[0m\n\u001b[0;32m---> 12\u001b[0;31m   \u001b[0;32mfor\u001b[0m \u001b[0mdata\u001b[0m\u001b[0;34m,\u001b[0m \u001b[0mtarget\u001b[0m \u001b[0;32min\u001b[0m \u001b[0mtrain_dl\u001b[0m\u001b[0;34m:\u001b[0m\u001b[0;34m\u001b[0m\u001b[0;34m\u001b[0m\u001b[0m\n\u001b[0m\u001b[1;32m     13\u001b[0m     \u001b[0;31m# 파이토치는 미분을 통해 얻은 기울기를 이전에 계산된 기울기 값에 누적시키는 특징이 있습니다\u001b[0m\u001b[0;34m\u001b[0m\u001b[0;34m\u001b[0m\u001b[0;34m\u001b[0m\u001b[0m\n\u001b[1;32m     14\u001b[0m     \u001b[0;31m# 그렇기 때문에 optimizer.zero_grad()를 통해 미분값을 계속 0으로 초기화\u001b[0m\u001b[0;34m\u001b[0m\u001b[0;34m\u001b[0m\u001b[0;34m\u001b[0m\u001b[0m\n",
            "\u001b[0;32m/usr/local/lib/python3.7/dist-packages/torch/utils/data/dataloader.py\u001b[0m in \u001b[0;36m__next__\u001b[0;34m(self)\u001b[0m\n\u001b[1;32m    519\u001b[0m             \u001b[0;32mif\u001b[0m \u001b[0mself\u001b[0m\u001b[0;34m.\u001b[0m\u001b[0m_sampler_iter\u001b[0m \u001b[0;32mis\u001b[0m \u001b[0;32mNone\u001b[0m\u001b[0;34m:\u001b[0m\u001b[0;34m\u001b[0m\u001b[0;34m\u001b[0m\u001b[0m\n\u001b[1;32m    520\u001b[0m                 \u001b[0mself\u001b[0m\u001b[0;34m.\u001b[0m\u001b[0m_reset\u001b[0m\u001b[0;34m(\u001b[0m\u001b[0;34m)\u001b[0m\u001b[0;34m\u001b[0m\u001b[0;34m\u001b[0m\u001b[0m\n\u001b[0;32m--> 521\u001b[0;31m             \u001b[0mdata\u001b[0m \u001b[0;34m=\u001b[0m \u001b[0mself\u001b[0m\u001b[0;34m.\u001b[0m\u001b[0m_next_data\u001b[0m\u001b[0;34m(\u001b[0m\u001b[0;34m)\u001b[0m\u001b[0;34m\u001b[0m\u001b[0;34m\u001b[0m\u001b[0m\n\u001b[0m\u001b[1;32m    522\u001b[0m             \u001b[0mself\u001b[0m\u001b[0;34m.\u001b[0m\u001b[0m_num_yielded\u001b[0m \u001b[0;34m+=\u001b[0m \u001b[0;36m1\u001b[0m\u001b[0;34m\u001b[0m\u001b[0;34m\u001b[0m\u001b[0m\n\u001b[1;32m    523\u001b[0m             \u001b[0;32mif\u001b[0m \u001b[0mself\u001b[0m\u001b[0;34m.\u001b[0m\u001b[0m_dataset_kind\u001b[0m \u001b[0;34m==\u001b[0m \u001b[0m_DatasetKind\u001b[0m\u001b[0;34m.\u001b[0m\u001b[0mIterable\u001b[0m \u001b[0;32mand\u001b[0m\u001b[0;31m \u001b[0m\u001b[0;31m\\\u001b[0m\u001b[0;34m\u001b[0m\u001b[0;34m\u001b[0m\u001b[0m\n",
            "\u001b[0;32m/usr/local/lib/python3.7/dist-packages/torch/utils/data/dataloader.py\u001b[0m in \u001b[0;36m_next_data\u001b[0;34m(self)\u001b[0m\n\u001b[1;32m    559\u001b[0m     \u001b[0;32mdef\u001b[0m \u001b[0m_next_data\u001b[0m\u001b[0;34m(\u001b[0m\u001b[0mself\u001b[0m\u001b[0;34m)\u001b[0m\u001b[0;34m:\u001b[0m\u001b[0;34m\u001b[0m\u001b[0;34m\u001b[0m\u001b[0m\n\u001b[1;32m    560\u001b[0m         \u001b[0mindex\u001b[0m \u001b[0;34m=\u001b[0m \u001b[0mself\u001b[0m\u001b[0;34m.\u001b[0m\u001b[0m_next_index\u001b[0m\u001b[0;34m(\u001b[0m\u001b[0;34m)\u001b[0m  \u001b[0;31m# may raise StopIteration\u001b[0m\u001b[0;34m\u001b[0m\u001b[0;34m\u001b[0m\u001b[0m\n\u001b[0;32m--> 561\u001b[0;31m         \u001b[0mdata\u001b[0m \u001b[0;34m=\u001b[0m \u001b[0mself\u001b[0m\u001b[0;34m.\u001b[0m\u001b[0m_dataset_fetcher\u001b[0m\u001b[0;34m.\u001b[0m\u001b[0mfetch\u001b[0m\u001b[0;34m(\u001b[0m\u001b[0mindex\u001b[0m\u001b[0;34m)\u001b[0m  \u001b[0;31m# may raise StopIteration\u001b[0m\u001b[0;34m\u001b[0m\u001b[0;34m\u001b[0m\u001b[0m\n\u001b[0m\u001b[1;32m    562\u001b[0m         \u001b[0;32mif\u001b[0m \u001b[0mself\u001b[0m\u001b[0;34m.\u001b[0m\u001b[0m_pin_memory\u001b[0m\u001b[0;34m:\u001b[0m\u001b[0;34m\u001b[0m\u001b[0;34m\u001b[0m\u001b[0m\n\u001b[1;32m    563\u001b[0m             \u001b[0mdata\u001b[0m \u001b[0;34m=\u001b[0m \u001b[0m_utils\u001b[0m\u001b[0;34m.\u001b[0m\u001b[0mpin_memory\u001b[0m\u001b[0;34m.\u001b[0m\u001b[0mpin_memory\u001b[0m\u001b[0;34m(\u001b[0m\u001b[0mdata\u001b[0m\u001b[0;34m)\u001b[0m\u001b[0;34m\u001b[0m\u001b[0;34m\u001b[0m\u001b[0m\n",
            "\u001b[0;32m/usr/local/lib/python3.7/dist-packages/torch/utils/data/_utils/fetch.py\u001b[0m in \u001b[0;36mfetch\u001b[0;34m(self, possibly_batched_index)\u001b[0m\n\u001b[1;32m     42\u001b[0m     \u001b[0;32mdef\u001b[0m \u001b[0mfetch\u001b[0m\u001b[0;34m(\u001b[0m\u001b[0mself\u001b[0m\u001b[0;34m,\u001b[0m \u001b[0mpossibly_batched_index\u001b[0m\u001b[0;34m)\u001b[0m\u001b[0;34m:\u001b[0m\u001b[0;34m\u001b[0m\u001b[0;34m\u001b[0m\u001b[0m\n\u001b[1;32m     43\u001b[0m         \u001b[0;32mif\u001b[0m \u001b[0mself\u001b[0m\u001b[0;34m.\u001b[0m\u001b[0mauto_collation\u001b[0m\u001b[0;34m:\u001b[0m\u001b[0;34m\u001b[0m\u001b[0;34m\u001b[0m\u001b[0m\n\u001b[0;32m---> 44\u001b[0;31m             \u001b[0mdata\u001b[0m \u001b[0;34m=\u001b[0m \u001b[0;34m[\u001b[0m\u001b[0mself\u001b[0m\u001b[0;34m.\u001b[0m\u001b[0mdataset\u001b[0m\u001b[0;34m[\u001b[0m\u001b[0midx\u001b[0m\u001b[0;34m]\u001b[0m \u001b[0;32mfor\u001b[0m \u001b[0midx\u001b[0m \u001b[0;32min\u001b[0m \u001b[0mpossibly_batched_index\u001b[0m\u001b[0;34m]\u001b[0m\u001b[0;34m\u001b[0m\u001b[0;34m\u001b[0m\u001b[0m\n\u001b[0m\u001b[1;32m     45\u001b[0m         \u001b[0;32melse\u001b[0m\u001b[0;34m:\u001b[0m\u001b[0;34m\u001b[0m\u001b[0;34m\u001b[0m\u001b[0m\n\u001b[1;32m     46\u001b[0m             \u001b[0mdata\u001b[0m \u001b[0;34m=\u001b[0m \u001b[0mself\u001b[0m\u001b[0;34m.\u001b[0m\u001b[0mdataset\u001b[0m\u001b[0;34m[\u001b[0m\u001b[0mpossibly_batched_index\u001b[0m\u001b[0;34m]\u001b[0m\u001b[0;34m\u001b[0m\u001b[0;34m\u001b[0m\u001b[0m\n",
            "\u001b[0;32m/usr/local/lib/python3.7/dist-packages/torch/utils/data/_utils/fetch.py\u001b[0m in \u001b[0;36m<listcomp>\u001b[0;34m(.0)\u001b[0m\n\u001b[1;32m     42\u001b[0m     \u001b[0;32mdef\u001b[0m \u001b[0mfetch\u001b[0m\u001b[0;34m(\u001b[0m\u001b[0mself\u001b[0m\u001b[0;34m,\u001b[0m \u001b[0mpossibly_batched_index\u001b[0m\u001b[0;34m)\u001b[0m\u001b[0;34m:\u001b[0m\u001b[0;34m\u001b[0m\u001b[0;34m\u001b[0m\u001b[0m\n\u001b[1;32m     43\u001b[0m         \u001b[0;32mif\u001b[0m \u001b[0mself\u001b[0m\u001b[0;34m.\u001b[0m\u001b[0mauto_collation\u001b[0m\u001b[0;34m:\u001b[0m\u001b[0;34m\u001b[0m\u001b[0;34m\u001b[0m\u001b[0m\n\u001b[0;32m---> 44\u001b[0;31m             \u001b[0mdata\u001b[0m \u001b[0;34m=\u001b[0m \u001b[0;34m[\u001b[0m\u001b[0mself\u001b[0m\u001b[0;34m.\u001b[0m\u001b[0mdataset\u001b[0m\u001b[0;34m[\u001b[0m\u001b[0midx\u001b[0m\u001b[0;34m]\u001b[0m \u001b[0;32mfor\u001b[0m \u001b[0midx\u001b[0m \u001b[0;32min\u001b[0m \u001b[0mpossibly_batched_index\u001b[0m\u001b[0;34m]\u001b[0m\u001b[0;34m\u001b[0m\u001b[0;34m\u001b[0m\u001b[0m\n\u001b[0m\u001b[1;32m     45\u001b[0m         \u001b[0;32melse\u001b[0m\u001b[0;34m:\u001b[0m\u001b[0;34m\u001b[0m\u001b[0;34m\u001b[0m\u001b[0m\n\u001b[1;32m     46\u001b[0m             \u001b[0mdata\u001b[0m \u001b[0;34m=\u001b[0m \u001b[0mself\u001b[0m\u001b[0;34m.\u001b[0m\u001b[0mdataset\u001b[0m\u001b[0;34m[\u001b[0m\u001b[0mpossibly_batched_index\u001b[0m\u001b[0;34m]\u001b[0m\u001b[0;34m\u001b[0m\u001b[0;34m\u001b[0m\u001b[0m\n",
            "\u001b[0;32m<ipython-input-9-c83d7c4418a4>\u001b[0m in \u001b[0;36m__getitem__\u001b[0;34m(self, ix)\u001b[0m\n\u001b[1;32m     12\u001b[0m       \u001b[0;31m# 인덱스로 값을 출력할수 있게 해주는 함수\u001b[0m\u001b[0;34m\u001b[0m\u001b[0;34m\u001b[0m\u001b[0;34m\u001b[0m\u001b[0m\n\u001b[1;32m     13\u001b[0m         \u001b[0;31m# opencv로 이미지를 읽어옴 opencv는 RGB가 아니라 BGR형식이기때문에 이미지에서 [:,:,::-1]로 채널을 거꾸로 읽어준다고한다.\u001b[0m\u001b[0;34m\u001b[0m\u001b[0;34m\u001b[0m\u001b[0;34m\u001b[0m\u001b[0m\n\u001b[0;32m---> 14\u001b[0;31m         \u001b[0mim\u001b[0m \u001b[0;34m=\u001b[0m \u001b[0mcv2\u001b[0m\u001b[0;34m.\u001b[0m\u001b[0mimread\u001b[0m\u001b[0;34m(\u001b[0m\u001b[0mself\u001b[0m\u001b[0;34m.\u001b[0m\u001b[0mpath\u001b[0m\u001b[0;34m[\u001b[0m\u001b[0mix\u001b[0m\u001b[0;34m]\u001b[0m\u001b[0;34m)\u001b[0m\u001b[0;34m[\u001b[0m\u001b[0;34m:\u001b[0m\u001b[0;34m,\u001b[0m\u001b[0;34m:\u001b[0m\u001b[0;34m,\u001b[0m\u001b[0;34m:\u001b[0m\u001b[0;34m:\u001b[0m\u001b[0;34m-\u001b[0m\u001b[0;36m1\u001b[0m\u001b[0;34m]\u001b[0m\u001b[0;34m\u001b[0m\u001b[0;34m\u001b[0m\u001b[0m\n\u001b[0m\u001b[1;32m     15\u001b[0m         \u001b[0;31m# VGG16은 224,224를 인풋으로 받아온다고함.\u001b[0m\u001b[0;34m\u001b[0m\u001b[0;34m\u001b[0m\u001b[0;34m\u001b[0m\u001b[0m\n\u001b[1;32m     16\u001b[0m         \u001b[0mim\u001b[0m \u001b[0;34m=\u001b[0m \u001b[0mcv2\u001b[0m\u001b[0;34m.\u001b[0m\u001b[0mresize\u001b[0m\u001b[0;34m(\u001b[0m\u001b[0mim\u001b[0m\u001b[0;34m,\u001b[0m\u001b[0;34m(\u001b[0m\u001b[0;36m224\u001b[0m\u001b[0;34m,\u001b[0m\u001b[0;36m224\u001b[0m\u001b[0;34m)\u001b[0m\u001b[0;34m)\u001b[0m\u001b[0;34m\u001b[0m\u001b[0;34m\u001b[0m\u001b[0m\n",
            "\u001b[0;31mKeyboardInterrupt\u001b[0m: "
          ]
        }
      ]
    },
    {
      "cell_type": "code",
      "metadata": {
        "id": "XgouExHkqAYa"
      },
      "source": [
        ""
      ],
      "execution_count": null,
      "outputs": []
    },
    {
      "cell_type": "code",
      "metadata": {
        "id": "1Q1MYA80qAWj"
      },
      "source": [
        "# 훈련이 끝났으니 test셋에 대해 이미지 데이터로드\n",
        "class ASLTest(Dataset):\n",
        "  # 초기화\n",
        "    def __init__(self,path,cmap):\n",
        "        self.path = path\n",
        "        self.normalize = transforms.Normalize(mean = [0.485,0.456,0.406],std = [0.229,0.224,0.225])\n",
        "        self.cmap = cmap\n",
        "    def __len__(self):\n",
        "        return len(self.path)\n",
        "    \n",
        "    def __getitem__(self,ix):\n",
        "        im = cv2.imread(self.path[ix])[:,:,::-1]\n",
        "        im = cv2.resize(im,(224,224))\n",
        "        im = torch.tensor(im/255)\n",
        "        im = im.permute(2,0,1)\n",
        "        im = self.normalize(im)\n",
        "        target = self.path[ix].split(\"/\")[-1].split(\"_\")[0]\n",
        "        label = cmap[target]\n",
        "        \n",
        "        return im.float().to(device),torch.tensor(int(label)).long().to(device)    "
      ],
      "execution_count": null,
      "outputs": []
    },
    {
      "cell_type": "code",
      "metadata": {
        "id": "I9xGXd8nqAUn"
      },
      "source": [
        "# test 이미지들 path 가져오기\n",
        "test_path = glob('/content/drive/MyDrive/Colab Notebooks/ASL/ASL Alphabet/asl_alphabet_test/asl_alphabet_test/*')\n",
        "# 데이터 로드를위한 클래스\n",
        "test_data = ASLTest(test_path,cmap)\n",
        "# 데이터로더\n",
        "test_dl = DataLoader(test_data, batch_size=16, shuffle=False)\n",
        "\n",
        "# acc 측정을 위한 정답수\n",
        "correct = 0\n",
        "# 전체\n",
        "total = 0\n",
        "\n",
        "#no_grad() with statement에 포함시키게 되면 Pytorch는 autograd engine을 꺼버린다\n",
        "# 더이상 자동으로 garient를 트래킹하지않음\n",
        "# autograd를 끔으로써 메모리사용량을 줄이고 속도를 높힘.\n",
        "with torch.no_grad():\n",
        "  for data in test_dl:\n",
        "    images, labels = data\n",
        "    outputs = model(images)\n",
        "    _, predicted = torch.max(outputs.data, 1)\n",
        "    total += labels.size(0)\n",
        "    correct +=(predicted == labels).sum().item()\n",
        "\n",
        "\n",
        "print('Accuracy of the network on the test images: %d %%' % (100 * correct / total))"
      ],
      "execution_count": null,
      "outputs": []
    },
    {
      "cell_type": "code",
      "metadata": {
        "id": "UI6dPFiBqASg"
      },
      "source": [
        "\n",
        "# 결과 출력\n",
        "for i  in range(len(test_path)):\n",
        "    images,labels = test_data[i]\n",
        "    plt.imshow(images.permute(1,2,0).cpu())\n",
        "    plt.title(labels.cpu().numpy())\n",
        "    plt.show()\n",
        "\n",
        "    batch = images.unsqueeze(0)\n",
        "    model.eval()\n",
        "    with torch.no_grad():\n",
        "        output = model(batch)\n",
        "        output = torch.argmax(output,1)\n",
        "        print(f\"Predicted is {output.cpu().numpy()[0]}\")"
      ],
      "execution_count": null,
      "outputs": []
    },
    {
      "cell_type": "code",
      "metadata": {
        "colab": {
          "base_uri": "https://localhost:8080/",
          "height": 137
        },
        "id": "CvNpRiqHqAQk",
        "outputId": "04d49fce-958b-456a-ebf4-9431b8b4bbc0"
      },
      "source": [
        "ㅂ3가ㅓㄷㅈ렂대려0ㄷㅁ너래ㅑㅁㄴ더리ㅏㅁ너리ㅏㅁㄴ어ㅣㅁ;너리마너리ㅏㅁㄴ러ㅣㅁ너래ㅑㅈㅁ더래ㅑ저리ㅏㄴ어ㅣㅏㄻㄴ이ㅏ럼ㄴ\n",
        "너무느려!!!!!!!!!!!!!!!!!너무느려!!!!!!!!!!!!!!!!!너무느려!!!!!!!!!!!!!!!!!너무느려!!!!!!!!!!!!!!!!!너무느려!!!!!!!!!!!!!!!!!\n",
        "너무느려!!!!!!!!!!!!!!!!!\n",
        "너무느려!!!!!!!!!!!!!!!!!\n",
        "너무느려!!!!!!!!!!!!!!!!!너무느려!!!!!!!!!!!!!!!!!너무느려!!!!!!!!!!!!!!!!!너무느려!!!!!!!!!!!!!!!!!너무느려!!!!!!!!!!!!!!!!!너무느려!!!!!!!!!!!!!!!!!너무느려!!!!!!!!!!!!!!!!!너무느려!!!!!!!!!!!!!!!!!\n",
        "너무느려!!!!!!!!!!!!!!!!!너무느려!!!!!!!!!!!!!!!!!너무느려!!!!!!!!!!!!!!!!!너무느려!!!!!!!!!!!!!!!!!너무느려!!!!!!!!!!!!!!!!!너무느려!!!!!!!!!!!!!!!!!너무느려!!!!!!!!!!!!!!!!!너무느려!!!!!!!!!!!!!!!!!너무느려!!!!!!!!!!!!!!!!!\n",
        "너무느려!!!!!!!!!!!!!!!!!너무느려!!!!!!!!!!!!!!!!!너무느려!!!!!!!!!!!!!!!!!너무느려!!!!!!!!!!!!!!!!!너무느려!!!!!!!!!!!!!!!!!너무느려!!!!!!!!!!!!!!!!!너무느려!!!!!!!!!!!!!!!!!\n",
        "너무느려!!!!!!!!!!!!!!!!!너무느려!!!!!!!!!!!!!!!!!너무느려!!!!!!!!!!!!!!!!!너무느려!!!!!!!!!!!!!!!!!너무느려!!!!!!!!!!!!!!!!!너무느려!!!!!!!!!!!!!!!!!너무느려!!!!!!!!!!!!!!!!!"
      ],
      "execution_count": null,
      "outputs": [
        {
          "output_type": "error",
          "ename": "SyntaxError",
          "evalue": "ignored",
          "traceback": [
            "\u001b[0;36m  File \u001b[0;32m\"<ipython-input-46-0a835390ad02>\"\u001b[0;36m, line \u001b[0;32m2\u001b[0m\n\u001b[0;31m    너무느려!!!!!!!!!!!!!!!!!너무느려!!!!!!!!!!!!!!!!!너무느려!!!!!!!!!!!!!!!!!너무느려!!!!!!!!!!!!!!!!!너무느려!!!!!!!!!!!!!!!!!\u001b[0m\n\u001b[0m        ^\u001b[0m\n\u001b[0;31mSyntaxError\u001b[0m\u001b[0;31m:\u001b[0m invalid syntax\n"
          ]
        }
      ]
    },
    {
      "cell_type": "code",
      "metadata": {
        "id": "luXRuf3jqAOV"
      },
      "source": [
        ""
      ],
      "execution_count": null,
      "outputs": []
    },
    {
      "cell_type": "code",
      "metadata": {
        "id": "qe9xpbLGqAMk"
      },
      "source": [
        ""
      ],
      "execution_count": null,
      "outputs": []
    },
    {
      "cell_type": "code",
      "metadata": {
        "id": "L4UCA6d0qAKf"
      },
      "source": [
        ""
      ],
      "execution_count": null,
      "outputs": []
    },
    {
      "cell_type": "code",
      "metadata": {
        "id": "MADW8d6zqAIb"
      },
      "source": [
        ""
      ],
      "execution_count": null,
      "outputs": []
    },
    {
      "cell_type": "code",
      "metadata": {
        "id": "vHmvNojsDh1F"
      },
      "source": [
        ""
      ],
      "execution_count": null,
      "outputs": []
    },
    {
      "cell_type": "code",
      "metadata": {
        "colab": {
          "base_uri": "https://localhost:8080/"
        },
        "id": "yarB6s2i_zO9",
        "outputId": "4a79d32e-2f80-45cd-d122-8b66e9ecec43"
      },
      "source": [
        "len(train_dl.sampler)"
      ],
      "execution_count": null,
      "outputs": [
        {
          "output_type": "execute_result",
          "data": {
            "text/plain": [
              "75000"
            ]
          },
          "metadata": {},
          "execution_count": 34
        }
      ]
    },
    {
      "cell_type": "code",
      "metadata": {
        "id": "jL_j-GDK_zM2"
      },
      "source": [
        ""
      ],
      "execution_count": null,
      "outputs": []
    },
    {
      "cell_type": "code",
      "metadata": {
        "id": "nkI0lak6_zKZ"
      },
      "source": [
        ""
      ],
      "execution_count": null,
      "outputs": []
    },
    {
      "cell_type": "code",
      "metadata": {
        "id": "2KZ9oszD_zIV"
      },
      "source": [
        ""
      ],
      "execution_count": null,
      "outputs": []
    },
    {
      "cell_type": "code",
      "metadata": {
        "id": "P313qufi_zGQ"
      },
      "source": [
        ""
      ],
      "execution_count": null,
      "outputs": []
    },
    {
      "cell_type": "code",
      "metadata": {
        "id": "Yd25Liet_zD1"
      },
      "source": [
        ""
      ],
      "execution_count": null,
      "outputs": []
    },
    {
      "cell_type": "code",
      "metadata": {
        "id": "9t5BbWun_zBs"
      },
      "source": [
        ""
      ],
      "execution_count": null,
      "outputs": []
    },
    {
      "cell_type": "code",
      "metadata": {
        "id": "n-6GOa9E_y_a"
      },
      "source": [
        ""
      ],
      "execution_count": null,
      "outputs": []
    },
    {
      "cell_type": "code",
      "metadata": {
        "id": "LBuHlN1A_y9G"
      },
      "source": [
        ""
      ],
      "execution_count": null,
      "outputs": []
    },
    {
      "cell_type": "code",
      "metadata": {
        "id": "RSLHC_1-_y62"
      },
      "source": [
        ""
      ],
      "execution_count": null,
      "outputs": []
    },
    {
      "cell_type": "code",
      "metadata": {
        "id": "rdYHydeF_y42"
      },
      "source": [
        ""
      ],
      "execution_count": null,
      "outputs": []
    },
    {
      "cell_type": "code",
      "metadata": {
        "id": "3Dz6Qkj3mSt-"
      },
      "source": [
        "transfrom_train = transforms.Compose([\n",
        "      transforms.Resize((200,200)),\n",
        "      transforms.ToTensor(),\n",
        "      transforms.Normalize((0.5,0.5,0.5),(0.5,0.5,0.5))\n",
        "])"
      ],
      "execution_count": null,
      "outputs": []
    },
    {
      "cell_type": "code",
      "metadata": {
        "id": "2ZoCpKphmSro"
      },
      "source": [
        "trainset = torchvision.datasets.ImageFolder(root='/content/drive/MyDrive/Colab Notebooks/ASL/ASL Alphabet/asl_alphabet_train/asl_alphabet_train',\n",
        "                                            transform=transfrom_train)"
      ],
      "execution_count": null,
      "outputs": []
    },
    {
      "cell_type": "code",
      "metadata": {
        "id": "AaY0zS1KmSpi",
        "colab": {
          "base_uri": "https://localhost:8080/"
        },
        "outputId": "a7bfc9df-1398-4cc4-89f9-e64c02bdb4c0"
      },
      "source": [
        "trainset"
      ],
      "execution_count": null,
      "outputs": [
        {
          "output_type": "execute_result",
          "data": {
            "text/plain": [
              "Dataset ImageFolder\n",
              "    Number of datapoints: 86999\n",
              "    Root location: /content/drive/MyDrive/Colab Notebooks/ASL/ASL Alphabet/asl_alphabet_train/asl_alphabet_train\n",
              "    StandardTransform\n",
              "Transform: Compose(\n",
              "               Resize(size=(200, 200), interpolation=bilinear, max_size=None, antialias=None)\n",
              "               ToTensor()\n",
              "               Normalize(mean=(0.5, 0.5, 0.5), std=(0.5, 0.5, 0.5))\n",
              "           )"
            ]
          },
          "metadata": {},
          "execution_count": 14
        }
      ]
    },
    {
      "cell_type": "code",
      "metadata": {
        "id": "VMIVnhHuZnW_"
      },
      "source": [
        "class MyDataSet(Dataset):\n",
        "  \n",
        "  def __init__(self):\n",
        "    pass\n",
        "    # 인자를 받아 인스턴스 변수를 초기화 \n",
        "\n",
        "  def __len__(self):\n",
        "    # 데이터 셋의 길이를 리턴한다.\n",
        "    return len()\n",
        "\n",
        "  def __getitem__(self):\n",
        "  # 학습 이미지와 이미지의 GT를 리턴한다.\n",
        "    return traning_data, ground_truth"
      ],
      "execution_count": null,
      "outputs": []
    },
    {
      "cell_type": "code",
      "metadata": {
        "id": "bXxBZP4-aJTR"
      },
      "source": [
        ""
      ],
      "execution_count": null,
      "outputs": []
    }
  ]
}