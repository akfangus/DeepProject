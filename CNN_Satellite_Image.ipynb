{
  "nbformat": 4,
  "nbformat_minor": 0,
  "metadata": {
    "colab": {
      "name": "CNN_Satellite_Image.ipynb",
      "provenance": [],
      "collapsed_sections": [],
      "mount_file_id": "1QXqwvJkI5JU8IreuEatMSuaOYvjMui89",
      "authorship_tag": "ABX9TyP4j4WOCMhV2pAXWIRmYMrS",
      "include_colab_link": true
    },
    "kernelspec": {
      "display_name": "Python 3",
      "name": "python3"
    },
    "language_info": {
      "name": "python"
    },
    "accelerator": "GPU",
    "widgets": {
      "application/vnd.jupyter.widget-state+json": {
        "2cd865ae2c494551b4f76d8099c42e43": {
          "model_module": "@jupyter-widgets/controls",
          "model_name": "HBoxModel",
          "model_module_version": "1.5.0",
          "state": {
            "_view_name": "HBoxView",
            "_dom_classes": [],
            "_model_name": "HBoxModel",
            "_view_module": "@jupyter-widgets/controls",
            "_model_module_version": "1.5.0",
            "_view_count": null,
            "_view_module_version": "1.5.0",
            "box_style": "",
            "layout": "IPY_MODEL_2c3c9fbc556f4740b8cb0908cf980940",
            "_model_module": "@jupyter-widgets/controls",
            "children": [
              "IPY_MODEL_e33c5184cfa74d7890a390d7e1666325",
              "IPY_MODEL_c48d5d30c68c4c069331a61d021d3e44",
              "IPY_MODEL_3ce4a389d0e2405bb23b1abb6385b4ba"
            ]
          }
        },
        "2c3c9fbc556f4740b8cb0908cf980940": {
          "model_module": "@jupyter-widgets/base",
          "model_name": "LayoutModel",
          "model_module_version": "1.2.0",
          "state": {
            "_view_name": "LayoutView",
            "grid_template_rows": null,
            "right": null,
            "justify_content": null,
            "_view_module": "@jupyter-widgets/base",
            "overflow": null,
            "_model_module_version": "1.2.0",
            "_view_count": null,
            "flex_flow": null,
            "width": null,
            "min_width": null,
            "border": null,
            "align_items": null,
            "bottom": null,
            "_model_module": "@jupyter-widgets/base",
            "top": null,
            "grid_column": null,
            "overflow_y": null,
            "overflow_x": null,
            "grid_auto_flow": null,
            "grid_area": null,
            "grid_template_columns": null,
            "flex": null,
            "_model_name": "LayoutModel",
            "justify_items": null,
            "grid_row": null,
            "max_height": null,
            "align_content": null,
            "visibility": null,
            "align_self": null,
            "height": null,
            "min_height": null,
            "padding": null,
            "grid_auto_rows": null,
            "grid_gap": null,
            "max_width": null,
            "order": null,
            "_view_module_version": "1.2.0",
            "grid_template_areas": null,
            "object_position": null,
            "object_fit": null,
            "grid_auto_columns": null,
            "margin": null,
            "display": null,
            "left": null
          }
        },
        "e33c5184cfa74d7890a390d7e1666325": {
          "model_module": "@jupyter-widgets/controls",
          "model_name": "HTMLModel",
          "model_module_version": "1.5.0",
          "state": {
            "_view_name": "HTMLView",
            "style": "IPY_MODEL_9e0c0910d5f045749b14130d9e664f7e",
            "_dom_classes": [],
            "description": "",
            "_model_name": "HTMLModel",
            "placeholder": "​",
            "_view_module": "@jupyter-widgets/controls",
            "_model_module_version": "1.5.0",
            "value": "100%",
            "_view_count": null,
            "_view_module_version": "1.5.0",
            "description_tooltip": null,
            "_model_module": "@jupyter-widgets/controls",
            "layout": "IPY_MODEL_f9a15e14ef174602a53fa2cfa0afdaeb"
          }
        },
        "c48d5d30c68c4c069331a61d021d3e44": {
          "model_module": "@jupyter-widgets/controls",
          "model_name": "FloatProgressModel",
          "model_module_version": "1.5.0",
          "state": {
            "_view_name": "ProgressView",
            "style": "IPY_MODEL_1586f00f618842629f0e809caeaa3524",
            "_dom_classes": [],
            "description": "",
            "_model_name": "FloatProgressModel",
            "bar_style": "success",
            "max": 553433881,
            "_view_module": "@jupyter-widgets/controls",
            "_model_module_version": "1.5.0",
            "value": 553433881,
            "_view_count": null,
            "_view_module_version": "1.5.0",
            "orientation": "horizontal",
            "min": 0,
            "description_tooltip": null,
            "_model_module": "@jupyter-widgets/controls",
            "layout": "IPY_MODEL_bb32f8dcd23645dc902732a0b613ab4e"
          }
        },
        "3ce4a389d0e2405bb23b1abb6385b4ba": {
          "model_module": "@jupyter-widgets/controls",
          "model_name": "HTMLModel",
          "model_module_version": "1.5.0",
          "state": {
            "_view_name": "HTMLView",
            "style": "IPY_MODEL_d64f7ef59eed46ce8f5cfd2fe1d72a35",
            "_dom_classes": [],
            "description": "",
            "_model_name": "HTMLModel",
            "placeholder": "​",
            "_view_module": "@jupyter-widgets/controls",
            "_model_module_version": "1.5.0",
            "value": " 528M/528M [00:05&lt;00:00, 97.1MB/s]",
            "_view_count": null,
            "_view_module_version": "1.5.0",
            "description_tooltip": null,
            "_model_module": "@jupyter-widgets/controls",
            "layout": "IPY_MODEL_b30b735d0cc3464083c0093ec1767e09"
          }
        },
        "9e0c0910d5f045749b14130d9e664f7e": {
          "model_module": "@jupyter-widgets/controls",
          "model_name": "DescriptionStyleModel",
          "model_module_version": "1.5.0",
          "state": {
            "_view_name": "StyleView",
            "_model_name": "DescriptionStyleModel",
            "description_width": "",
            "_view_module": "@jupyter-widgets/base",
            "_model_module_version": "1.5.0",
            "_view_count": null,
            "_view_module_version": "1.2.0",
            "_model_module": "@jupyter-widgets/controls"
          }
        },
        "f9a15e14ef174602a53fa2cfa0afdaeb": {
          "model_module": "@jupyter-widgets/base",
          "model_name": "LayoutModel",
          "model_module_version": "1.2.0",
          "state": {
            "_view_name": "LayoutView",
            "grid_template_rows": null,
            "right": null,
            "justify_content": null,
            "_view_module": "@jupyter-widgets/base",
            "overflow": null,
            "_model_module_version": "1.2.0",
            "_view_count": null,
            "flex_flow": null,
            "width": null,
            "min_width": null,
            "border": null,
            "align_items": null,
            "bottom": null,
            "_model_module": "@jupyter-widgets/base",
            "top": null,
            "grid_column": null,
            "overflow_y": null,
            "overflow_x": null,
            "grid_auto_flow": null,
            "grid_area": null,
            "grid_template_columns": null,
            "flex": null,
            "_model_name": "LayoutModel",
            "justify_items": null,
            "grid_row": null,
            "max_height": null,
            "align_content": null,
            "visibility": null,
            "align_self": null,
            "height": null,
            "min_height": null,
            "padding": null,
            "grid_auto_rows": null,
            "grid_gap": null,
            "max_width": null,
            "order": null,
            "_view_module_version": "1.2.0",
            "grid_template_areas": null,
            "object_position": null,
            "object_fit": null,
            "grid_auto_columns": null,
            "margin": null,
            "display": null,
            "left": null
          }
        },
        "1586f00f618842629f0e809caeaa3524": {
          "model_module": "@jupyter-widgets/controls",
          "model_name": "ProgressStyleModel",
          "model_module_version": "1.5.0",
          "state": {
            "_view_name": "StyleView",
            "_model_name": "ProgressStyleModel",
            "description_width": "",
            "_view_module": "@jupyter-widgets/base",
            "_model_module_version": "1.5.0",
            "_view_count": null,
            "_view_module_version": "1.2.0",
            "bar_color": null,
            "_model_module": "@jupyter-widgets/controls"
          }
        },
        "bb32f8dcd23645dc902732a0b613ab4e": {
          "model_module": "@jupyter-widgets/base",
          "model_name": "LayoutModel",
          "model_module_version": "1.2.0",
          "state": {
            "_view_name": "LayoutView",
            "grid_template_rows": null,
            "right": null,
            "justify_content": null,
            "_view_module": "@jupyter-widgets/base",
            "overflow": null,
            "_model_module_version": "1.2.0",
            "_view_count": null,
            "flex_flow": null,
            "width": null,
            "min_width": null,
            "border": null,
            "align_items": null,
            "bottom": null,
            "_model_module": "@jupyter-widgets/base",
            "top": null,
            "grid_column": null,
            "overflow_y": null,
            "overflow_x": null,
            "grid_auto_flow": null,
            "grid_area": null,
            "grid_template_columns": null,
            "flex": null,
            "_model_name": "LayoutModel",
            "justify_items": null,
            "grid_row": null,
            "max_height": null,
            "align_content": null,
            "visibility": null,
            "align_self": null,
            "height": null,
            "min_height": null,
            "padding": null,
            "grid_auto_rows": null,
            "grid_gap": null,
            "max_width": null,
            "order": null,
            "_view_module_version": "1.2.0",
            "grid_template_areas": null,
            "object_position": null,
            "object_fit": null,
            "grid_auto_columns": null,
            "margin": null,
            "display": null,
            "left": null
          }
        },
        "d64f7ef59eed46ce8f5cfd2fe1d72a35": {
          "model_module": "@jupyter-widgets/controls",
          "model_name": "DescriptionStyleModel",
          "model_module_version": "1.5.0",
          "state": {
            "_view_name": "StyleView",
            "_model_name": "DescriptionStyleModel",
            "description_width": "",
            "_view_module": "@jupyter-widgets/base",
            "_model_module_version": "1.5.0",
            "_view_count": null,
            "_view_module_version": "1.2.0",
            "_model_module": "@jupyter-widgets/controls"
          }
        },
        "b30b735d0cc3464083c0093ec1767e09": {
          "model_module": "@jupyter-widgets/base",
          "model_name": "LayoutModel",
          "model_module_version": "1.2.0",
          "state": {
            "_view_name": "LayoutView",
            "grid_template_rows": null,
            "right": null,
            "justify_content": null,
            "_view_module": "@jupyter-widgets/base",
            "overflow": null,
            "_model_module_version": "1.2.0",
            "_view_count": null,
            "flex_flow": null,
            "width": null,
            "min_width": null,
            "border": null,
            "align_items": null,
            "bottom": null,
            "_model_module": "@jupyter-widgets/base",
            "top": null,
            "grid_column": null,
            "overflow_y": null,
            "overflow_x": null,
            "grid_auto_flow": null,
            "grid_area": null,
            "grid_template_columns": null,
            "flex": null,
            "_model_name": "LayoutModel",
            "justify_items": null,
            "grid_row": null,
            "max_height": null,
            "align_content": null,
            "visibility": null,
            "align_self": null,
            "height": null,
            "min_height": null,
            "padding": null,
            "grid_auto_rows": null,
            "grid_gap": null,
            "max_width": null,
            "order": null,
            "_view_module_version": "1.2.0",
            "grid_template_areas": null,
            "object_position": null,
            "object_fit": null,
            "grid_auto_columns": null,
            "margin": null,
            "display": null,
            "left": null
          }
        }
      }
    }
  },
  "cells": [
    {
      "cell_type": "markdown",
      "metadata": {
        "id": "view-in-github",
        "colab_type": "text"
      },
      "source": [
        "<a href=\"https://colab.research.google.com/github/akfangus/DeepProject/blob/main/CNN_Satellite_Image.ipynb\" target=\"_parent\"><img src=\"https://colab.research.google.com/assets/colab-badge.svg\" alt=\"Open In Colab\"/></a>"
      ]
    },
    {
      "cell_type": "code",
      "metadata": {
        "colab": {
          "base_uri": "https://localhost:8080/"
        },
        "id": "x8PWDrBkJvPA",
        "outputId": "16c159a1-cccf-49e3-a076-8d41985a59b1"
      },
      "source": [
        "  # !sudo apt-get install -y fonts-nanum\n",
        "  # !sudo fc-cache -fv\n",
        "  # !rm ~/.cache/matplotlib -rf"
      ],
      "execution_count": null,
      "outputs": [
        {
          "output_type": "stream",
          "name": "stdout",
          "text": [
            "Reading package lists... Done\n",
            "Building dependency tree       \n",
            "Reading state information... Done\n",
            "The following package was automatically installed and is no longer required:\n",
            "  libnvidia-common-460\n",
            "Use 'sudo apt autoremove' to remove it.\n",
            "The following NEW packages will be installed:\n",
            "  fonts-nanum\n",
            "0 upgraded, 1 newly installed, 0 to remove and 37 not upgraded.\n",
            "Need to get 9,604 kB of archives.\n",
            "After this operation, 29.5 MB of additional disk space will be used.\n",
            "Get:1 http://archive.ubuntu.com/ubuntu bionic/universe amd64 fonts-nanum all 20170925-1 [9,604 kB]\n",
            "Fetched 9,604 kB in 0s (44.0 MB/s)\n",
            "debconf: unable to initialize frontend: Dialog\n",
            "debconf: (No usable dialog-like program is installed, so the dialog based frontend cannot be used. at /usr/share/perl5/Debconf/FrontEnd/Dialog.pm line 76, <> line 1.)\n",
            "debconf: falling back to frontend: Readline\n",
            "debconf: unable to initialize frontend: Readline\n",
            "debconf: (This frontend requires a controlling tty.)\n",
            "debconf: falling back to frontend: Teletype\n",
            "dpkg-preconfigure: unable to re-open stdin: \n",
            "Selecting previously unselected package fonts-nanum.\n",
            "(Reading database ... 155062 files and directories currently installed.)\n",
            "Preparing to unpack .../fonts-nanum_20170925-1_all.deb ...\n",
            "Unpacking fonts-nanum (20170925-1) ...\n",
            "Setting up fonts-nanum (20170925-1) ...\n",
            "Processing triggers for fontconfig (2.12.6-0ubuntu2) ...\n",
            "/usr/share/fonts: caching, new cache contents: 0 fonts, 1 dirs\n",
            "/usr/share/fonts/truetype: caching, new cache contents: 0 fonts, 3 dirs\n",
            "/usr/share/fonts/truetype/humor-sans: caching, new cache contents: 1 fonts, 0 dirs\n",
            "/usr/share/fonts/truetype/liberation: caching, new cache contents: 16 fonts, 0 dirs\n",
            "/usr/share/fonts/truetype/nanum: caching, new cache contents: 10 fonts, 0 dirs\n",
            "/usr/local/share/fonts: caching, new cache contents: 0 fonts, 0 dirs\n",
            "/root/.local/share/fonts: skipping, no such directory\n",
            "/root/.fonts: skipping, no such directory\n",
            "/var/cache/fontconfig: cleaning cache directory\n",
            "/root/.cache/fontconfig: not cleaning non-existent cache directory\n",
            "/root/.fontconfig: not cleaning non-existent cache directory\n",
            "fc-cache: succeeded\n"
          ]
        }
      ]
    },
    {
      "cell_type": "code",
      "metadata": {
        "id": "-o2NiFDukDmu"
      },
      "source": [
        "import numpy as np\n",
        "import os\n",
        "import torch\n",
        "import torchvision\n",
        "import torch.nn as nn\n",
        "import torch.nn.functional as F\n",
        "from torchvision import transforms,models,datasets\n",
        "import matplotlib.pyplot as plt\n",
        "from PIL import Image\n",
        "from torch import optim\n",
        "device = 'cuda' if torch.cuda.is_available() else 'cpu'\n",
        "import cv2\n",
        "from glob import glob\n",
        "import torchvision.transforms as transforms\n",
        "from torch.utils.data import DataLoader, Dataset\n",
        "\n",
        "from tqdm import tqdm"
      ],
      "execution_count": 27,
      "outputs": []
    },
    {
      "cell_type": "code",
      "metadata": {
        "id": "VrwuZ_iil5Ik"
      },
      "source": [
        "%matplotlib inline\n",
        "plt.rc('font', family='NanumBarunGothic')"
      ],
      "execution_count": 2,
      "outputs": []
    },
    {
      "cell_type": "code",
      "metadata": {
        "colab": {
          "base_uri": "https://localhost:8080/"
        },
        "id": "GX56ZrLNl8dd",
        "outputId": "fc3c8b31-6566-4ee7-81d7-2ce7086659c3"
      },
      "source": [
        "from google.colab import drive\n",
        "drive.mount('/content/drive')"
      ],
      "execution_count": 3,
      "outputs": [
        {
          "output_type": "stream",
          "name": "stdout",
          "text": [
            "Drive already mounted at /content/drive; to attempt to forcibly remount, call drive.mount(\"/content/drive\", force_remount=True).\n"
          ]
        }
      ]
    },
    {
      "cell_type": "code",
      "metadata": {
        "id": "617RbDrvl9X-",
        "colab": {
          "base_uri": "https://localhost:8080/"
        },
        "outputId": "d48cf465-e49a-4da6-da62-ce8b2c7300df"
      },
      "source": [
        "path=[]\n",
        "\n",
        "for i in os.listdir('/content/drive/MyDrive/Colab Notebooks/Satellite Image/data'):\n",
        "  print(i)\n",
        "  for item in glob(f'/content/drive/MyDrive/Colab Notebooks/Satellite Image/data/{i}/*'):\n",
        "    path.append(item)\n",
        "\n",
        "len(path)\n"
      ],
      "execution_count": 4,
      "outputs": [
        {
          "output_type": "stream",
          "name": "stdout",
          "text": [
            "desert\n",
            "green_area\n",
            "water\n",
            "cloudy\n"
          ]
        },
        {
          "output_type": "execute_result",
          "data": {
            "text/plain": [
              "5632"
            ]
          },
          "metadata": {},
          "execution_count": 4
        }
      ]
    },
    {
      "cell_type": "code",
      "metadata": {
        "id": "qERmO7JwGiiW"
      },
      "source": [
        "#{} 딕셔너리, 형태로 해당 경로에 있는 디렉토리를 sorting한다음에 인덱스순서대로 딕셔너리화\n",
        "cmap = {v:i for i,v in enumerate(sorted(os.listdir('/content/drive/MyDrive/Colab Notebooks/Satellite Image/data')))}"
      ],
      "execution_count": 5,
      "outputs": []
    },
    {
      "cell_type": "code",
      "metadata": {
        "colab": {
          "base_uri": "https://localhost:8080/"
        },
        "id": "G_8Iv-txGo73",
        "outputId": "adbf1488-d6b9-4d64-9e1f-31d05ef85410"
      },
      "source": [
        "cmap"
      ],
      "execution_count": 6,
      "outputs": [
        {
          "output_type": "execute_result",
          "data": {
            "text/plain": [
              "{'cloudy': 0, 'desert': 1, 'green_area': 2, 'water': 3}"
            ]
          },
          "metadata": {},
          "execution_count": 6
        }
      ]
    },
    {
      "cell_type": "code",
      "metadata": {
        "colab": {
          "base_uri": "https://localhost:8080/",
          "height": 1000
        },
        "id": "fE7LL14vGElm",
        "outputId": "64f1e726-a97e-4e5a-de17-d85e6582794f"
      },
      "source": [
        "for i in range(10):\n",
        "  plt.figure()\n",
        "  imim = cv2.imread(path[i])[:,:,::-1]\n",
        "  plt.imshow(imim)\n",
        "  plt.title(f\"{i} 번째 image\")\n",
        "\n",
        "plt.show()"
      ],
      "execution_count": 7,
      "outputs": [
        {
          "output_type": "stream",
          "name": "stderr",
          "text": [
            "findfont: Font family ['NanumBarunGothic'] not found. Falling back to DejaVu Sans.\n",
            "/usr/local/lib/python3.7/dist-packages/matplotlib/backends/backend_agg.py:214: RuntimeWarning: Glyph 48264 missing from current font.\n",
            "  font.set_text(s, 0.0, flags=flags)\n",
            "/usr/local/lib/python3.7/dist-packages/matplotlib/backends/backend_agg.py:214: RuntimeWarning: Glyph 51704 missing from current font.\n",
            "  font.set_text(s, 0.0, flags=flags)\n",
            "findfont: Font family ['NanumBarunGothic'] not found. Falling back to DejaVu Sans.\n",
            "/usr/local/lib/python3.7/dist-packages/matplotlib/backends/backend_agg.py:183: RuntimeWarning: Glyph 48264 missing from current font.\n",
            "  font.set_text(s, 0, flags=flags)\n",
            "/usr/local/lib/python3.7/dist-packages/matplotlib/backends/backend_agg.py:183: RuntimeWarning: Glyph 51704 missing from current font.\n",
            "  font.set_text(s, 0, flags=flags)\n"
          ]
        },
        {
          "output_type": "display_data",
          "data": {
            "image/png": "[encoded data removed]",
            "text/plain": [
              "<Figure size 432x288 with 1 Axes>"
            ]
          },
          "metadata": {
            "needs_background": "light"
          }
        },
        {
          "output_type": "display_data",
          "data": {
            "image/png": "[encoded data removed]",
            "text/plain": [
              "<Figure size 432x288 with 1 Axes>"
            ]
          },
          "metadata": {
            "needs_background": "light"
          }
        },
        {
          "output_type": "display_data",
          "data": {
            "image/png": "[encoded data removed]",
            "text/plain": [
              "<Figure size 432x288 with 1 Axes>"
            ]
          },
          "metadata": {
            "needs_background": "light"
          }
        },
        {
          "output_type": "display_data",
          "data": {
            "image/png": "[encoded data removed]",
            "text/plain": [
              "<Figure size 432x288 with 1 Axes>"
            ]
          },
          "metadata": {
            "needs_background": "light"
          }
        },
        {
          "output_type": "display_data",
          "data": {
            "image/png": "[encoded data removed]",
            "text/plain": [
              "<Figure size 432x288 with 1 Axes>"
            ]
          },
          "metadata": {
            "needs_background": "light"
          }
        },
        {
          "output_type": "display_data",
          "data": {
            "image/png": "[encoded data removed]",
            "text/plain": [
              "<Figure size 432x288 with 1 Axes>"
            ]
          },
          "metadata": {
            "needs_background": "light"
          }
        },
        {
          "output_type": "display_data",
          "data": {
            "image/png": "[encoded data removed]",
            "text/plain": [
              "<Figure size 432x288 with 1 Axes>"
            ]
          },
          "metadata": {
            "needs_background": "light"
          }
        },
        {
          "output_type": "display_data",
          "data": {
            "image/png": "[encoded data removed]",
            "text/plain": [
              "<Figure size 432x288 with 1 Axes>"
            ]
          },
          "metadata": {
            "needs_background": "light"
          }
        },
        {
          "output_type": "display_data",
          "data": {
            "image/png": "[encoded data removed]",
            "text/plain": [
              "<Figure size 432x288 with 1 Axes>"
            ]
          },
          "metadata": {
            "needs_background": "light"
          }
        },
        {
          "output_type": "display_data",
          "data": {
            "image/png": "[encoded data removed]",
            "text/plain": [
              "<Figure size 432x288 with 1 Axes>"
            ]
          },
          "metadata": {
            "needs_background": "light"
          }
        }
      ]
    },
    {
      "cell_type": "code",
      "metadata": {
        "id": "ApBGf9pKZfJr"
      },
      "source": [
        "# trans = transforms.Compose([\n",
        "#     transforms.ToTensor()])\n",
        "\n",
        "# input = cv2.imread(path[0])\n",
        "# print(input.shape)\n",
        "# input = cv2.cvtColor(input, cv2.COLOR_BGR2RGB)\n",
        "# print(input.shape)\n",
        "# input = trans(input)\n",
        "# print(input.shape)"
      ],
      "execution_count": null,
      "outputs": []
    },
    {
      "cell_type": "code",
      "metadata": {
        "id": "5k38FpkbHu0N"
      },
      "source": [
        "# VGG16 안쓴 일반 모델로 해보겟음   => VGG16과 비교? => normalize도 안하고 생이미지 그대로\n",
        "class Satellite_Normal(Dataset):\n",
        "  def __init__(self, path, cmap):\n",
        "    # 클래스 초기화 함수\n",
        "    self.path = path\n",
        "    self.normalize = transforms.Compose([\n",
        "                                         \n",
        "              # transforms.Resize(256),              \n",
        "              transforms.ToTensor(),\n",
        "              # transforms.Normalize(mean=[0.5,0.5,0.5], std=[0.5,0.5,0.5])                    \n",
        "    ])\n",
        "    self.cmap = cmap\n",
        "\n",
        "  def __len__(self):\n",
        "    return len(self.path)\n",
        "\n",
        "  def __getitem__(self, ix):\n",
        "    # size는 256*256\n",
        "    im = cv2.imread(self.path[ix])    \n",
        "    im = cv2.cvtColor(im, cv2.COLOR_BGR2RGB)\n",
        "    im = cv2.resize(im,(256,256))\n",
        "    # im = cv2.resize(im, ())\n",
        "    # im  = torch.tensor(im/255)\n",
        "    im = self.normalize(im)\n",
        "    # im = im.permute(2,0,1)\n",
        "    \n",
        "\n",
        "  # 타겟 매핑\n",
        "    target = self.path[ix].split('/')[-2]\n",
        "    label = cmap[target]\n",
        "\n",
        "    return im.float().to(device),torch.tensor(int(label)).long().to(device)\n",
        "\n",
        "\n"
      ],
      "execution_count": 8,
      "outputs": []
    },
    {
      "cell_type": "code",
      "metadata": {
        "id": "oNEwDEYiQpeh"
      },
      "source": [
        "data = Satellite_Normal(path, cmap)"
      ],
      "execution_count": null,
      "outputs": []
    },
    {
      "cell_type": "code",
      "metadata": {
        "colab": {
          "base_uri": "https://localhost:8080/"
        },
        "id": "hon48wcIbxrK",
        "outputId": "6022a202-ff4a-4e71-e3d6-509bd9c3297b"
      },
      "source": [
        "data[0][0].shape"
      ],
      "execution_count": null,
      "outputs": [
        {
          "output_type": "execute_result",
          "data": {
            "text/plain": [
              "torch.Size([3, 256, 256])"
            ]
          },
          "metadata": {},
          "execution_count": 166
        }
      ]
    },
    {
      "cell_type": "code",
      "metadata": {
        "id": "REzv0Oi4XnFF"
      },
      "source": [
        "from random import shuffle\n",
        "from random import seed"
      ],
      "execution_count": 9,
      "outputs": []
    },
    {
      "cell_type": "code",
      "metadata": {
        "colab": {
          "base_uri": "https://localhost:8080/"
        },
        "id": "W_EgM-b6Z2-V",
        "outputId": "bd8652fa-8e8e-42ec-ef54-622cf045de2b"
      },
      "source": [
        "len(path)"
      ],
      "execution_count": null,
      "outputs": [
        {
          "output_type": "execute_result",
          "data": {
            "text/plain": [
              "5632"
            ]
          },
          "metadata": {},
          "execution_count": 128
        }
      ]
    },
    {
      "cell_type": "code",
      "metadata": {
        "id": "AuboWTUaZDzo"
      },
      "source": [
        "seed(42)\n",
        "shuffle(path)"
      ],
      "execution_count": 10,
      "outputs": []
    },
    {
      "cell_type": "code",
      "metadata": {
        "id": "6dwe2KzUaTDt"
      },
      "source": [
        "num = int(len(path) * 0.8)"
      ],
      "execution_count": 11,
      "outputs": []
    },
    {
      "cell_type": "code",
      "metadata": {
        "id": "leV4ChwoXm4V"
      },
      "source": [
        "train = path[:num]\n",
        "val = path[num:]\n",
        "\n",
        "train_data = Satellite_Normal(train, cmap)\n",
        "val_data = Satellite_Normal(val, cmap)\n",
        "\n",
        "train_dl = DataLoader(train_data, batch_size=32, shuffle = True, drop_last=True)\n",
        "val_dl = DataLoader(val_data, batch_size=32, shuffle = False, drop_last=True)"
      ],
      "execution_count": 12,
      "outputs": []
    },
    {
      "cell_type": "code",
      "metadata": {
        "colab": {
          "base_uri": "https://localhost:8080/",
          "height": 35
        },
        "id": "X4d5CxElQzlN",
        "outputId": "a0ae1658-0279-4a6f-d81f-5d87fa4b6296"
      },
      "source": [
        "device"
      ],
      "execution_count": 13,
      "outputs": [
        {
          "output_type": "execute_result",
          "data": {
            "application/vnd.google.colaboratory.intrinsic+json": {
              "type": "string"
            },
            "text/plain": [
              "'cuda'"
            ]
          },
          "metadata": {},
          "execution_count": 13
        }
      ]
    },
    {
      "cell_type": "code",
      "metadata": {
        "id": "9igX6XlteUVT"
      },
      "source": [
        "class CNN(nn.Module):\n",
        "  def __init__(self):\n",
        "    super(CNN, self).__init__()\n",
        "    # self.keep_prob = 0.5\n",
        "    self.layer1 = nn.Sequential(\n",
        "        nn.Conv2d(3,32, kernel_size=3, stride=1, padding=1),\n",
        "        nn.ReLU(),\n",
        "        nn.MaxPool2d(kernel_size=2, stride=2)\n",
        "    )\n",
        "    self.layer2 = nn.Sequential(\n",
        "        nn.Conv2d(32,64, kernel_size=3, stride=1, padding=1),\n",
        "        nn.ReLU(),\n",
        "        nn.MaxPool2d(kernel_size=2, stride=2)\n",
        "    )\n",
        "    self.layer3 = nn.Sequential(\n",
        "        nn.Conv2d(64,128, kernel_size=3, stride=1, padding=1),\n",
        "        nn.ReLU(),\n",
        "        nn.MaxPool2d(kernel_size=2, stride=2)\n",
        "    )\n",
        "    self.layer4 = nn.Sequential(\n",
        "        nn.Conv2d(128,128, kernel_size=3, stride=1, padding=1),\n",
        "        nn.ReLU(),\n",
        "        nn.MaxPool2d(kernel_size=2, stride=2)\n",
        "    )\n",
        "    self.fc1 = nn.Sequential(\n",
        "        # nn.Flatten(),\n",
        "        nn.Linear(16*16*128,64),\n",
        "        nn.ReLU(),\n",
        "        nn.Dropout(0.2)\n",
        "    )\n",
        "    self.fc2 = nn.Sequential(\n",
        "        nn.Linear(64,4),\n",
        "        nn.Softmax()\n",
        "    )\n",
        "        # L5 Final FC 625 inputs -> 10 outputs\n",
        "    # self.fc2 = torch.nn.Linear(625, 10, bias=True)\n",
        "    # torch.nn.init.xavier_uniform_(self.fc2.weight)\n",
        "\n",
        "\n",
        "\n",
        "  def forward(self, x):\n",
        "    out = self.layer1(x)\n",
        "    out = self.layer2(out)\n",
        "    out = self.layer3(out)\n",
        "    out = self.layer4(out)\n",
        "    out = out.view(out.size(0), -1)\n",
        "    out = self.fc1(out)\n",
        "    out = self.fc2(out)\n",
        "\n",
        "    return out"
      ],
      "execution_count": 14,
      "outputs": []
    },
    {
      "cell_type": "code",
      "metadata": {
        "id": "JqlIXA_El6MA"
      },
      "source": [
        "model = CNN().to(device)"
      ],
      "execution_count": 15,
      "outputs": []
    },
    {
      "cell_type": "code",
      "metadata": {
        "id": "aVSEZg3OyzIc"
      },
      "source": [
        "loss_fn = nn.CrossEntropyLoss()\n",
        "optimizer = torch.optim.Adam(model.parameters(), lr=1e-3)"
      ],
      "execution_count": 16,
      "outputs": []
    },
    {
      "cell_type": "code",
      "metadata": {
        "colab": {
          "base_uri": "https://localhost:8080/"
        },
        "id": "PPhoy1qfzbx8",
        "outputId": "ce7b88ba-52b0-4468-c8d7-7cab194b2d58"
      },
      "source": [
        "model.to(device)"
      ],
      "execution_count": 17,
      "outputs": [
        {
          "output_type": "execute_result",
          "data": {
            "text/plain": [
              "CNN(\n",
              "  (layer1): Sequential(\n",
              "    (0): Conv2d(3, 32, kernel_size=(3, 3), stride=(1, 1), padding=(1, 1))\n",
              "    (1): ReLU()\n",
              "    (2): MaxPool2d(kernel_size=2, stride=2, padding=0, dilation=1, ceil_mode=False)\n",
              "  )\n",
              "  (layer2): Sequential(\n",
              "    (0): Conv2d(32, 64, kernel_size=(3, 3), stride=(1, 1), padding=(1, 1))\n",
              "    (1): ReLU()\n",
              "    (2): MaxPool2d(kernel_size=2, stride=2, padding=0, dilation=1, ceil_mode=False)\n",
              "  )\n",
              "  (layer3): Sequential(\n",
              "    (0): Conv2d(64, 128, kernel_size=(3, 3), stride=(1, 1), padding=(1, 1))\n",
              "    (1): ReLU()\n",
              "    (2): MaxPool2d(kernel_size=2, stride=2, padding=0, dilation=1, ceil_mode=False)\n",
              "  )\n",
              "  (layer4): Sequential(\n",
              "    (0): Conv2d(128, 128, kernel_size=(3, 3), stride=(1, 1), padding=(1, 1))\n",
              "    (1): ReLU()\n",
              "    (2): MaxPool2d(kernel_size=2, stride=2, padding=0, dilation=1, ceil_mode=False)\n",
              "  )\n",
              "  (fc1): Sequential(\n",
              "    (0): Linear(in_features=32768, out_features=64, bias=True)\n",
              "    (1): ReLU()\n",
              "    (2): Dropout(p=0.2, inplace=False)\n",
              "  )\n",
              "  (fc2): Sequential(\n",
              "    (0): Linear(in_features=64, out_features=4, bias=True)\n",
              "    (1): Softmax(dim=None)\n",
              "  )\n",
              ")"
            ]
          },
          "metadata": {},
          "execution_count": 17
        }
      ]
    },
    {
      "cell_type": "code",
      "metadata": {
        "colab": {
          "base_uri": "https://localhost:8080/"
        },
        "id": "J5udjcInl8B6",
        "outputId": "1423e8c5-b5ec-4299-8a7e-47531193a3a6"
      },
      "source": [
        "from torchsummary import summary\n",
        "# 만들어진 모델 어떻게 돌아가는지 테스트 및 성능 해보는거같음.\n",
        "summary(model, input_size=(3,256,256))"
      ],
      "execution_count": 18,
      "outputs": [
        {
          "output_type": "stream",
          "name": "stdout",
          "text": [
            "----------------------------------------------------------------\n",
            "        Layer (type)               Output Shape         Param #\n",
            "================================================================\n",
            "            Conv2d-1         [-1, 32, 256, 256]             896\n",
            "              ReLU-2         [-1, 32, 256, 256]               0\n",
            "         MaxPool2d-3         [-1, 32, 128, 128]               0\n",
            "            Conv2d-4         [-1, 64, 128, 128]          18,496\n",
            "              ReLU-5         [-1, 64, 128, 128]               0\n",
            "         MaxPool2d-6           [-1, 64, 64, 64]               0\n",
            "            Conv2d-7          [-1, 128, 64, 64]          73,856\n",
            "              ReLU-8          [-1, 128, 64, 64]               0\n",
            "         MaxPool2d-9          [-1, 128, 32, 32]               0\n",
            "           Conv2d-10          [-1, 128, 32, 32]         147,584\n",
            "             ReLU-11          [-1, 128, 32, 32]               0\n",
            "        MaxPool2d-12          [-1, 128, 16, 16]               0\n",
            "           Linear-13                   [-1, 64]       2,097,216\n",
            "             ReLU-14                   [-1, 64]               0\n",
            "          Dropout-15                   [-1, 64]               0\n",
            "           Linear-16                    [-1, 4]             260\n",
            "          Softmax-17                    [-1, 4]               0\n",
            "================================================================\n",
            "Total params: 2,338,308\n",
            "Trainable params: 2,338,308\n",
            "Non-trainable params: 0\n",
            "----------------------------------------------------------------\n",
            "Input size (MB): 0.75\n",
            "Forward/backward pass size (MB): 65.25\n",
            "Params size (MB): 8.92\n",
            "Estimated Total Size (MB): 74.92\n",
            "----------------------------------------------------------------\n"
          ]
        },
        {
          "output_type": "stream",
          "name": "stderr",
          "text": [
            "/usr/local/lib/python3.7/dist-packages/torch/nn/functional.py:718: UserWarning: Named tensors and all their associated APIs are an experimental feature and subject to change. Please do not use them for anything important until they are released as stable. (Triggered internally at  /pytorch/c10/core/TensorImpl.h:1156.)\n",
            "  return torch.max_pool2d(input, kernel_size, stride, padding, dilation, ceil_mode)\n",
            "/usr/local/lib/python3.7/dist-packages/torch/nn/modules/container.py:139: UserWarning: Implicit dimension choice for softmax has been deprecated. Change the call to include dim=X as an argument.\n",
            "  input = module(input)\n"
          ]
        }
      ]
    },
    {
      "cell_type": "code",
      "metadata": {
        "colab": {
          "base_uri": "https://localhost:8080/"
        },
        "id": "EwzNm1IC0D3G",
        "outputId": "b50a4f0b-4395-41a0-bf60-038476c5fce4"
      },
      "source": [
        "len(train_dl)"
      ],
      "execution_count": null,
      "outputs": [
        {
          "output_type": "execute_result",
          "data": {
            "text/plain": [
              "140"
            ]
          },
          "metadata": {},
          "execution_count": 174
        }
      ]
    },
    {
      "cell_type": "code",
      "metadata": {
        "id": "IktRIRh_qCnu"
      },
      "source": [
        "# 잘 되는지 안되는지 샘플 몇개만 뽑아서 해보자\n",
        "train_sample = path[:100]\n",
        "\n",
        "train_data_sample = Satellite_Normal(train_sample, cmap)\n",
        "\n",
        "\n",
        "train_dl_sample = DataLoader(train_data_sample, batch_size=32, shuffle = True, drop_last=True)"
      ],
      "execution_count": 19,
      "outputs": []
    },
    {
      "cell_type": "code",
      "metadata": {
        "colab": {
          "base_uri": "https://localhost:8080/"
        },
        "id": "5OITZSaDqqHc",
        "outputId": "311d9c21-33bb-4443-c57f-b046faf90751"
      },
      "source": [
        "# 이제 학습 시켜보자 (샘플)\n",
        "train_losses, valid_losses = [],[]\n",
        "# 15epoch 수행 예정\n",
        "n_epochs=15\n",
        "\n",
        "for epochs in tqdm(range(n_epochs)):\n",
        "  # train, val loss값 초기화\n",
        "  train_loss=0.0\n",
        "  val_loss=0.0\n",
        "  # 모델을 학습 모드로 변환 / 평가 모드는 model.eval() 로 할 수 있다.\n",
        "  model.train()\n",
        "  for data, target in tqdm(train_dl_sample):\n",
        "    # 파이토치는 미분을 통해 얻은 기울기를 이전에 계산된 기울기 값에 누적시키는 특징이 있습니다\n",
        "    # 그렇기 때문에 optimizer.zero_grad()를 통해 미분값을 계속 0으로 초기화\n",
        "    optimizer.zero_grad()\n",
        "    # data에 대한 예측값 생성\n",
        "    prediction = model(data)\n",
        "    # 예측과 target에 대한 loss function수행\n",
        "    loss = loss_fn(prediction, target)\n",
        "    # loss에 backwoar()를 계산하면 모델을 구성하는 파라미터에 대한 gradient를 계산한다.\n",
        "    # backward()는 암묵적으로 loss값이 스칼라라고 가정하기때문에 scalar값으로 만들어주어야함.\n",
        "    # backpropagation으로 하는듯.\n",
        "    loss.backward()\n",
        "    # optimizer가 step()메소드를 통해 parameter를 업데이터한다.\n",
        "    optimizer.step()\n",
        "    train_loss += loss.item() * data.size(0)\n",
        "\n",
        "  # batch normalization 이나 dropout이 들어있는 모델은 batchsize에 따라 결과가 달라진다던가 실행 시킬때마다 결과가 달라져 학습에 영향을 미침 (드롭아웃 및 배치 정규화를 평가 모드로 설정하여야 합니다. 이것을 하지 않으면 추론 결과가 일관성 없게 출력)\n",
        "  # 훈련후 결과 계산만을 위해 model.eval()을 실행 시켜줘야한다고함.\n",
        "  # model.eval()\n",
        "\n",
        "  # for data, target in val_dl:\n",
        "  #   prediction = model(data)\n",
        "  #   loss = loss_fn(prediction, target)\n",
        "  #   val_loss += loss.item() * data.size(0)\n",
        "  \n",
        "  # for문에서 train_loss에 모든 loss의 합을 더햇으므로 최종 loss는 갯수만큼 나눠야겟죠?\n",
        "  train_loss = train_loss / len(train_data_sample)\n",
        "  # val_loss = val_loss / len(val_dl.sampler)\n",
        "\n",
        "  # loss 리스트에 append\n",
        "  train_losses.append(train_loss)\n",
        "  # valid_losses.append(val_loss)\n",
        "\n",
        "  print(\"Epoch : {} \\tTraining Loss: {:.6f} \\t\".format(epochs,train_loss))\n"
      ],
      "execution_count": 23,
      "outputs": [
        {
          "output_type": "stream",
          "name": "stderr",
          "text": [
            "  0%|          | 0/15 [00:00<?, ?it/s]\n",
            "  0%|          | 0/3 [00:00<?, ?it/s]\u001b[A/usr/local/lib/python3.7/dist-packages/torch/nn/modules/container.py:139: UserWarning: Implicit dimension choice for softmax has been deprecated. Change the call to include dim=X as an argument.\n",
            "  input = module(input)\n",
            "\n",
            " 33%|███▎      | 1/3 [00:00<00:01,  1.59it/s]\u001b[A\n",
            " 67%|██████▋   | 2/3 [00:01<00:00,  1.57it/s]\u001b[A\n",
            "100%|██████████| 3/3 [00:02<00:00,  1.42it/s]\n",
            "  7%|▋         | 1/15 [00:02<00:29,  2.13s/it]"
          ]
        },
        {
          "output_type": "stream",
          "name": "stdout",
          "text": [
            "Epoch : 0 \tTraining Loss: 1.233139 \t\n"
          ]
        },
        {
          "output_type": "stream",
          "name": "stderr",
          "text": [
            "\n",
            "  0%|          | 0/3 [00:00<?, ?it/s]\u001b[A\n",
            " 33%|███▎      | 1/3 [00:00<00:00,  2.50it/s]\u001b[A\n",
            " 67%|██████▋   | 2/3 [00:00<00:00,  2.61it/s]\u001b[A\n",
            "100%|██████████| 3/3 [00:01<00:00,  2.60it/s]\n",
            " 13%|█▎        | 2/15 [00:03<00:20,  1.57s/it]"
          ]
        },
        {
          "output_type": "stream",
          "name": "stdout",
          "text": [
            "Epoch : 1 \tTraining Loss: 1.170805 \t\n"
          ]
        },
        {
          "output_type": "stream",
          "name": "stderr",
          "text": [
            "\n",
            "  0%|          | 0/3 [00:00<?, ?it/s]\u001b[A\n",
            " 33%|███▎      | 1/3 [00:00<00:00,  2.66it/s]\u001b[A\n",
            " 67%|██████▋   | 2/3 [00:00<00:00,  2.70it/s]\u001b[A\n",
            "100%|██████████| 3/3 [00:01<00:00,  2.64it/s]\n",
            " 20%|██        | 3/15 [00:04<00:16,  1.38s/it]"
          ]
        },
        {
          "output_type": "stream",
          "name": "stdout",
          "text": [
            "Epoch : 2 \tTraining Loss: 1.145246 \t\n"
          ]
        },
        {
          "output_type": "stream",
          "name": "stderr",
          "text": [
            "\n",
            "  0%|          | 0/3 [00:00<?, ?it/s]\u001b[A\n",
            " 33%|███▎      | 1/3 [00:00<00:00,  2.73it/s]\u001b[A\n",
            " 67%|██████▋   | 2/3 [00:00<00:00,  2.69it/s]\u001b[A\n",
            "100%|██████████| 3/3 [00:01<00:00,  2.65it/s]\n",
            " 27%|██▋       | 4/15 [00:05<00:14,  1.29s/it]"
          ]
        },
        {
          "output_type": "stream",
          "name": "stdout",
          "text": [
            "Epoch : 3 \tTraining Loss: 1.130026 \t\n"
          ]
        },
        {
          "output_type": "stream",
          "name": "stderr",
          "text": [
            "\n",
            "  0%|          | 0/3 [00:00<?, ?it/s]\u001b[A\n",
            " 33%|███▎      | 1/3 [00:00<00:00,  2.78it/s]\u001b[A\n",
            " 67%|██████▋   | 2/3 [00:00<00:00,  2.77it/s]\u001b[A\n",
            "100%|██████████| 3/3 [00:01<00:00,  2.70it/s]\n",
            " 33%|███▎      | 5/15 [00:06<00:12,  1.23s/it]"
          ]
        },
        {
          "output_type": "stream",
          "name": "stdout",
          "text": [
            "Epoch : 4 \tTraining Loss: 1.127187 \t\n"
          ]
        },
        {
          "output_type": "stream",
          "name": "stderr",
          "text": [
            "\n",
            "  0%|          | 0/3 [00:00<?, ?it/s]\u001b[A\n",
            " 33%|███▎      | 1/3 [00:00<00:00,  2.76it/s]\u001b[A\n",
            " 67%|██████▋   | 2/3 [00:00<00:00,  2.69it/s]\u001b[A\n",
            "100%|██████████| 3/3 [00:01<00:00,  2.69it/s]\n",
            " 40%|████      | 6/15 [00:07<00:10,  1.19s/it]"
          ]
        },
        {
          "output_type": "stream",
          "name": "stdout",
          "text": [
            "Epoch : 5 \tTraining Loss: 1.131140 \t\n"
          ]
        },
        {
          "output_type": "stream",
          "name": "stderr",
          "text": [
            "\n",
            "  0%|          | 0/3 [00:00<?, ?it/s]\u001b[A\n",
            " 33%|███▎      | 1/3 [00:00<00:00,  2.74it/s]\u001b[A\n",
            " 67%|██████▋   | 2/3 [00:00<00:00,  2.70it/s]\u001b[A\n",
            "100%|██████████| 3/3 [00:01<00:00,  2.69it/s]\n",
            " 47%|████▋     | 7/15 [00:08<00:09,  1.18s/it]"
          ]
        },
        {
          "output_type": "stream",
          "name": "stdout",
          "text": [
            "Epoch : 6 \tTraining Loss: 1.140807 \t\n"
          ]
        },
        {
          "output_type": "stream",
          "name": "stderr",
          "text": [
            "\n",
            "  0%|          | 0/3 [00:00<?, ?it/s]\u001b[A\n",
            " 33%|███▎      | 1/3 [00:00<00:00,  2.73it/s]\u001b[A\n",
            " 67%|██████▋   | 2/3 [00:00<00:00,  2.68it/s]\u001b[A\n",
            "100%|██████████| 3/3 [00:01<00:00,  2.61it/s]\n",
            " 53%|█████▎    | 8/15 [00:10<00:08,  1.17s/it]"
          ]
        },
        {
          "output_type": "stream",
          "name": "stdout",
          "text": [
            "Epoch : 7 \tTraining Loss: 1.146130 \t\n"
          ]
        },
        {
          "output_type": "stream",
          "name": "stderr",
          "text": [
            "\n",
            "  0%|          | 0/3 [00:00<?, ?it/s]\u001b[A\n",
            " 33%|███▎      | 1/3 [00:00<00:00,  2.70it/s]\u001b[A\n",
            " 67%|██████▋   | 2/3 [00:00<00:00,  2.68it/s]\u001b[A\n",
            "100%|██████████| 3/3 [00:01<00:00,  2.67it/s]\n",
            " 60%|██████    | 9/15 [00:11<00:06,  1.16s/it]"
          ]
        },
        {
          "output_type": "stream",
          "name": "stdout",
          "text": [
            "Epoch : 8 \tTraining Loss: 1.107488 \t\n"
          ]
        },
        {
          "output_type": "stream",
          "name": "stderr",
          "text": [
            "\n",
            "  0%|          | 0/3 [00:00<?, ?it/s]\u001b[A\n",
            " 33%|███▎      | 1/3 [00:00<00:00,  2.69it/s]\u001b[A\n",
            " 67%|██████▋   | 2/3 [00:00<00:00,  2.69it/s]\u001b[A\n",
            "100%|██████████| 3/3 [00:01<00:00,  2.64it/s]\n",
            " 67%|██████▋   | 10/15 [00:12<00:05,  1.16s/it]"
          ]
        },
        {
          "output_type": "stream",
          "name": "stdout",
          "text": [
            "Epoch : 9 \tTraining Loss: 1.110866 \t\n"
          ]
        },
        {
          "output_type": "stream",
          "name": "stderr",
          "text": [
            "\n",
            "  0%|          | 0/3 [00:00<?, ?it/s]\u001b[A\n",
            " 33%|███▎      | 1/3 [00:00<00:00,  2.65it/s]\u001b[A\n",
            " 67%|██████▋   | 2/3 [00:00<00:00,  2.62it/s]\u001b[A\n",
            "100%|██████████| 3/3 [00:01<00:00,  2.65it/s]\n",
            " 73%|███████▎  | 11/15 [00:13<00:04,  1.16s/it]"
          ]
        },
        {
          "output_type": "stream",
          "name": "stdout",
          "text": [
            "Epoch : 10 \tTraining Loss: 1.164506 \t\n"
          ]
        },
        {
          "output_type": "stream",
          "name": "stderr",
          "text": [
            "\n",
            "  0%|          | 0/3 [00:00<?, ?it/s]\u001b[A\n",
            " 33%|███▎      | 1/3 [00:00<00:00,  2.78it/s]\u001b[A\n",
            " 67%|██████▋   | 2/3 [00:00<00:00,  2.73it/s]\u001b[A\n",
            "100%|██████████| 3/3 [00:01<00:00,  2.68it/s]\n",
            " 80%|████████  | 12/15 [00:14<00:03,  1.15s/it]"
          ]
        },
        {
          "output_type": "stream",
          "name": "stdout",
          "text": [
            "Epoch : 11 \tTraining Loss: 1.141812 \t\n"
          ]
        },
        {
          "output_type": "stream",
          "name": "stderr",
          "text": [
            "\n",
            "  0%|          | 0/3 [00:00<?, ?it/s]\u001b[A\n",
            " 33%|███▎      | 1/3 [00:00<00:00,  2.80it/s]\u001b[A\n",
            " 67%|██████▋   | 2/3 [00:00<00:00,  2.68it/s]\u001b[A\n",
            "100%|██████████| 3/3 [00:01<00:00,  2.69it/s]\n",
            " 87%|████████▋ | 13/15 [00:15<00:02,  1.15s/it]"
          ]
        },
        {
          "output_type": "stream",
          "name": "stdout",
          "text": [
            "Epoch : 12 \tTraining Loss: 1.123219 \t\n"
          ]
        },
        {
          "output_type": "stream",
          "name": "stderr",
          "text": [
            "\n",
            "  0%|          | 0/3 [00:00<?, ?it/s]\u001b[A\n",
            " 33%|███▎      | 1/3 [00:00<00:00,  2.69it/s]\u001b[A\n",
            " 67%|██████▋   | 2/3 [00:00<00:00,  2.71it/s]\u001b[A\n",
            "100%|██████████| 3/3 [00:01<00:00,  2.72it/s]\n",
            " 93%|█████████▎| 14/15 [00:17<00:01,  1.14s/it]"
          ]
        },
        {
          "output_type": "stream",
          "name": "stdout",
          "text": [
            "Epoch : 13 \tTraining Loss: 1.116980 \t\n"
          ]
        },
        {
          "output_type": "stream",
          "name": "stderr",
          "text": [
            "\n",
            "  0%|          | 0/3 [00:00<?, ?it/s]\u001b[A\n",
            " 33%|███▎      | 1/3 [00:00<00:00,  2.62it/s]\u001b[A\n",
            " 67%|██████▋   | 2/3 [00:00<00:00,  2.64it/s]\u001b[A\n",
            "100%|██████████| 3/3 [00:01<00:00,  2.62it/s]\n",
            "100%|██████████| 15/15 [00:18<00:00,  1.21s/it]"
          ]
        },
        {
          "output_type": "stream",
          "name": "stdout",
          "text": [
            "Epoch : 14 \tTraining Loss: 1.140867 \t\n"
          ]
        },
        {
          "output_type": "stream",
          "name": "stderr",
          "text": [
            "\n"
          ]
        }
      ]
    },
    {
      "cell_type": "code",
      "metadata": {
        "id": "hepWc9tMqrKL"
      },
      "source": [
        ""
      ],
      "execution_count": null,
      "outputs": []
    },
    {
      "cell_type": "code",
      "metadata": {
        "id": "FmAz4vz5qrFA"
      },
      "source": [
        ""
      ],
      "execution_count": null,
      "outputs": []
    },
    {
      "cell_type": "code",
      "metadata": {
        "colab": {
          "base_uri": "https://localhost:8080/"
        },
        "id": "l--ybJ0M0D1U",
        "outputId": "2fdc9cd6-1e52-40e1-cdb7-529ca325c571"
      },
      "source": [
        "# 이제 학습 시켜보자 (실제 데이터)\n",
        "train_losses, valid_losses = [],[]\n",
        "# 15epoch 수행 예정\n",
        "n_epochs=5\n",
        "\n",
        "for epochs in tqdm(range(n_epochs)):\n",
        "  # train, val loss값 초기화\n",
        "  train_loss=0.0\n",
        "  val_loss=0.0\n",
        "  # 모델을 학습 모드로 변환 / 평가 모드는 model.eval() 로 할 수 있다.\n",
        "  model.train()\n",
        "  for data, target in tqdm(train_dl):\n",
        "    # 파이토치는 미분을 통해 얻은 기울기를 이전에 계산된 기울기 값에 누적시키는 특징이 있습니다\n",
        "    # 그렇기 때문에 optimizer.zero_grad()를 통해 미분값을 계속 0으로 초기화\n",
        "    optimizer.zero_grad()\n",
        "    # data에 대한 예측값 생성\n",
        "    prediction = model(data)\n",
        "    # 예측과 target에 대한 loss function수행\n",
        "    loss = loss_fn(prediction, target)\n",
        "    # loss에 backwoar()를 계산하면 모델을 구성하는 파라미터에 대한 gradient를 계산한다.\n",
        "    # backward()는 암묵적으로 loss값이 스칼라라고 가정하기때문에 scalar값으로 만들어주어야함.\n",
        "    # backpropagation으로 하는듯.\n",
        "    loss.backward()\n",
        "    # optimizer가 step()메소드를 통해 parameter를 업데이터한다.\n",
        "    optimizer.step()\n",
        "    train_loss += loss.item() * data.size(0)\n",
        "\n",
        "  # batch normalization 이나 dropout이 들어있는 모델은 batchsize에 따라 결과가 달라진다던가 실행 시킬때마다 결과가 달라져 학습에 영향을 미침 (드롭아웃 및 배치 정규화를 평가 모드로 설정하여야 합니다. 이것을 하지 않으면 추론 결과가 일관성 없게 출력)\n",
        "  # 훈련후 결과 계산만을 위해 model.eval()을 실행 시켜줘야한다고함.\n",
        "  model.eval()\n",
        "\n",
        "  for data, target in val_dl:\n",
        "    prediction = model(data)\n",
        "    loss = loss_fn(prediction, target)\n",
        "    val_loss += loss.item() * data.size(0)\n",
        "  \n",
        "  # for문에서 train_loss에 모든 loss의 합을 더햇으므로 최종 loss는 갯수만큼 나눠야겟죠?\n",
        "  train_loss = train_loss / len(train_dl)\n",
        "  val_loss = val_loss / len(val_dl)\n",
        "\n",
        "  # loss 리스트에 append\n",
        "  train_losses.append(train_loss)\n",
        "  valid_losses.append(val_loss)\n",
        "\n",
        "  print(\"Epoch : {} \\tTraining Loss: {:.6f} \\tValidation Loss {:.6f}\".format(epochs,train_loss,val_loss))\n"
      ],
      "execution_count": 25,
      "outputs": [
        {
          "output_type": "stream",
          "name": "stderr",
          "text": [
            "  0%|          | 0/5 [00:00<?, ?it/s]\n",
            "  0%|          | 0/140 [00:00<?, ?it/s]\u001b[A/usr/local/lib/python3.7/dist-packages/torch/nn/modules/container.py:139: UserWarning: Implicit dimension choice for softmax has been deprecated. Change the call to include dim=X as an argument.\n",
            "  input = module(input)\n",
            "\n",
            "  1%|          | 1/140 [00:05<12:04,  5.21s/it]\u001b[A\n",
            "  1%|▏         | 2/140 [00:10<11:35,  5.04s/it]\u001b[A\n",
            "  2%|▏         | 3/140 [00:18<14:51,  6.51s/it]\u001b[A\n",
            "  3%|▎         | 4/140 [00:22<12:51,  5.67s/it]\u001b[A\n",
            "  4%|▎         | 5/140 [00:28<12:29,  5.55s/it]\u001b[A\n",
            "  4%|▍         | 6/140 [00:32<11:21,  5.08s/it]\u001b[A\n",
            "  5%|▌         | 7/140 [00:37<11:31,  5.20s/it]\u001b[A\n",
            "  6%|▌         | 8/140 [00:43<11:50,  5.38s/it]\u001b[A\n",
            "  6%|▋         | 9/140 [00:48<11:24,  5.22s/it]\u001b[A\n",
            "  7%|▋         | 10/140 [00:53<11:27,  5.29s/it]\u001b[A\n",
            "  8%|▊         | 11/140 [00:58<10:48,  5.02s/it]\u001b[A\n",
            "  9%|▊         | 12/140 [01:02<10:29,  4.92s/it]\u001b[A\n",
            "  9%|▉         | 13/140 [01:07<10:17,  4.86s/it]\u001b[A\n",
            " 10%|█         | 14/140 [01:12<10:00,  4.77s/it]\u001b[A\n",
            " 11%|█         | 15/140 [01:16<09:29,  4.55s/it]\u001b[A\n",
            " 11%|█▏        | 16/140 [01:22<10:21,  5.01s/it]\u001b[A\n",
            " 12%|█▏        | 17/140 [01:28<10:52,  5.30s/it]\u001b[A\n",
            " 13%|█▎        | 18/140 [01:33<10:48,  5.32s/it]\u001b[A\n",
            " 14%|█▎        | 19/140 [01:37<10:07,  5.02s/it]\u001b[A\n",
            " 14%|█▍        | 20/140 [01:43<10:27,  5.23s/it]\u001b[A\n",
            " 15%|█▌        | 21/140 [01:49<10:30,  5.30s/it]\u001b[A\n",
            " 16%|█▌        | 22/140 [01:53<09:44,  4.95s/it]\u001b[A\n",
            " 16%|█▋        | 23/140 [01:57<09:19,  4.78s/it]\u001b[A\n",
            " 17%|█▋        | 24/140 [02:02<09:26,  4.89s/it]\u001b[A\n",
            " 18%|█▊        | 25/140 [02:08<09:41,  5.06s/it]\u001b[A\n",
            " 19%|█▊        | 26/140 [02:13<09:34,  5.04s/it]\u001b[A\n",
            " 19%|█▉        | 27/140 [02:18<09:29,  5.04s/it]\u001b[A\n",
            " 20%|██        | 28/140 [02:23<09:32,  5.11s/it]\u001b[A\n",
            " 21%|██        | 29/140 [02:28<09:16,  5.02s/it]\u001b[A\n",
            " 21%|██▏       | 30/140 [02:33<09:16,  5.06s/it]\u001b[A\n",
            " 22%|██▏       | 31/140 [02:39<09:30,  5.23s/it]\u001b[A\n",
            " 23%|██▎       | 32/140 [02:44<09:21,  5.20s/it]\u001b[A\n",
            " 24%|██▎       | 33/140 [02:49<09:16,  5.20s/it]\u001b[A\n",
            " 24%|██▍       | 34/140 [02:55<09:35,  5.43s/it]\u001b[A\n",
            " 25%|██▌       | 35/140 [03:00<09:15,  5.29s/it]\u001b[A\n",
            " 26%|██▌       | 36/140 [03:05<09:18,  5.37s/it]\u001b[A\n",
            " 26%|██▋       | 37/140 [03:11<09:14,  5.38s/it]\u001b[A\n",
            " 27%|██▋       | 38/140 [03:16<09:10,  5.40s/it]\u001b[A\n",
            " 28%|██▊       | 39/140 [03:23<09:30,  5.65s/it]\u001b[A\n",
            " 29%|██▊       | 40/140 [03:28<09:03,  5.44s/it]\u001b[A\n",
            " 29%|██▉       | 41/140 [03:33<09:03,  5.49s/it]\u001b[A\n",
            " 30%|███       | 42/140 [03:38<08:43,  5.34s/it]\u001b[A\n",
            " 31%|███       | 43/140 [03:44<08:48,  5.44s/it]\u001b[A\n",
            " 31%|███▏      | 44/140 [03:48<08:17,  5.18s/it]\u001b[A\n",
            " 32%|███▏      | 45/140 [03:54<08:19,  5.26s/it]\u001b[A\n",
            " 33%|███▎      | 46/140 [03:58<07:54,  5.04s/it]\u001b[A\n",
            " 34%|███▎      | 47/140 [04:04<07:58,  5.14s/it]\u001b[A\n",
            " 34%|███▍      | 48/140 [04:09<07:59,  5.21s/it]\u001b[A\n",
            " 35%|███▌      | 49/140 [04:14<07:38,  5.04s/it]\u001b[A\n",
            " 36%|███▌      | 50/140 [04:19<07:42,  5.14s/it]\u001b[A\n",
            " 36%|███▋      | 51/140 [04:24<07:42,  5.19s/it]\u001b[A\n",
            " 37%|███▋      | 52/140 [04:30<07:42,  5.26s/it]\u001b[A\n",
            " 38%|███▊      | 53/140 [04:34<07:14,  4.99s/it]\u001b[A\n",
            " 39%|███▊      | 54/140 [04:39<07:16,  5.08s/it]\u001b[A\n",
            " 39%|███▉      | 55/140 [04:45<07:21,  5.20s/it]\u001b[A\n",
            " 40%|████      | 56/140 [04:50<07:16,  5.20s/it]\u001b[A\n",
            " 41%|████      | 57/140 [04:56<07:27,  5.39s/it]\u001b[A\n",
            " 41%|████▏     | 58/140 [05:01<07:09,  5.24s/it]\u001b[A\n",
            " 42%|████▏     | 59/140 [05:07<07:17,  5.40s/it]\u001b[A\n",
            " 43%|████▎     | 60/140 [05:11<06:57,  5.22s/it]\u001b[A\n",
            " 44%|████▎     | 61/140 [05:16<06:43,  5.11s/it]\u001b[A\n",
            " 44%|████▍     | 62/140 [05:22<06:42,  5.17s/it]\u001b[A\n",
            " 45%|████▌     | 63/140 [05:26<06:17,  4.91s/it]\u001b[A\n",
            " 46%|████▌     | 64/140 [05:32<06:47,  5.36s/it]\u001b[A\n",
            " 46%|████▋     | 65/140 [05:37<06:21,  5.09s/it]\u001b[A\n",
            " 47%|████▋     | 66/140 [05:41<06:06,  4.96s/it]\u001b[A\n",
            " 48%|████▊     | 67/140 [05:47<06:18,  5.19s/it]\u001b[A\n",
            " 49%|████▊     | 68/140 [05:53<06:25,  5.36s/it]\u001b[A\n",
            " 49%|████▉     | 69/140 [05:57<05:57,  5.03s/it]\u001b[A\n",
            " 50%|█████     | 70/140 [06:02<05:55,  5.08s/it]\u001b[A\n",
            " 51%|█████     | 71/140 [06:08<06:01,  5.24s/it]\u001b[A\n",
            " 51%|█████▏    | 72/140 [06:13<05:50,  5.15s/it]\u001b[A\n",
            " 52%|█████▏    | 73/140 [06:19<05:56,  5.33s/it]\u001b[A\n",
            " 53%|█████▎    | 74/140 [06:23<05:33,  5.06s/it]\u001b[A\n",
            " 54%|█████▎    | 75/140 [06:29<05:38,  5.21s/it]\u001b[A\n",
            " 54%|█████▍    | 76/140 [06:34<05:38,  5.29s/it]\u001b[A\n",
            " 55%|█████▌    | 77/140 [06:40<05:37,  5.36s/it]\u001b[A\n",
            " 56%|█████▌    | 78/140 [06:46<05:52,  5.68s/it]\u001b[A\n",
            " 56%|█████▋    | 79/140 [06:52<05:54,  5.80s/it]\u001b[A\n",
            " 57%|█████▋    | 80/140 [06:57<05:37,  5.62s/it]\u001b[A\n",
            " 58%|█████▊    | 81/140 [07:02<05:08,  5.23s/it]\u001b[A\n",
            " 59%|█████▊    | 82/140 [07:06<04:54,  5.08s/it]\u001b[A\n",
            " 59%|█████▉    | 83/140 [07:11<04:45,  5.02s/it]\u001b[A\n",
            " 60%|██████    | 84/140 [07:17<04:46,  5.11s/it]\u001b[A\n",
            " 61%|██████    | 85/140 [07:22<04:49,  5.26s/it]\u001b[A\n",
            " 61%|██████▏   | 86/140 [07:27<04:38,  5.15s/it]\u001b[A\n",
            " 62%|██████▏   | 87/140 [07:32<04:25,  5.02s/it]\u001b[A\n",
            " 63%|██████▎   | 88/140 [07:37<04:28,  5.16s/it]\u001b[A\n",
            " 64%|██████▎   | 89/140 [07:44<04:47,  5.64s/it]\u001b[A\n",
            " 64%|██████▍   | 90/140 [07:49<04:38,  5.56s/it]\u001b[A\n",
            " 65%|██████▌   | 91/140 [07:55<04:37,  5.66s/it]\u001b[A\n",
            " 66%|██████▌   | 92/140 [08:00<04:22,  5.46s/it]\u001b[A\n",
            " 66%|██████▋   | 93/140 [08:05<04:02,  5.17s/it]\u001b[A\n",
            " 67%|██████▋   | 94/140 [08:10<03:57,  5.16s/it]\u001b[A\n",
            " 68%|██████▊   | 95/140 [08:15<03:53,  5.19s/it]\u001b[A\n",
            " 69%|██████▊   | 96/140 [08:21<03:50,  5.23s/it]\u001b[A\n",
            " 69%|██████▉   | 97/140 [08:26<03:46,  5.26s/it]\u001b[A\n",
            " 70%|███████   | 98/140 [08:30<03:32,  5.05s/it]\u001b[A\n",
            " 71%|███████   | 99/140 [08:35<03:26,  5.03s/it]\u001b[A\n",
            " 71%|███████▏  | 100/140 [08:40<03:19,  5.00s/it]\u001b[A\n",
            " 72%|███████▏  | 101/140 [08:45<03:11,  4.90s/it]\u001b[A\n",
            " 73%|███████▎  | 102/140 [08:51<03:15,  5.14s/it]\u001b[A\n",
            " 74%|███████▎  | 103/140 [08:56<03:11,  5.18s/it]\u001b[A\n",
            " 74%|███████▍  | 104/140 [09:01<03:05,  5.16s/it]\u001b[A\n",
            " 75%|███████▌  | 105/140 [09:09<03:30,  6.00s/it]\u001b[A\n",
            " 76%|███████▌  | 106/140 [09:15<03:27,  6.11s/it]\u001b[A\n",
            " 76%|███████▋  | 107/140 [09:21<03:15,  5.93s/it]\u001b[A\n",
            " 77%|███████▋  | 108/140 [09:26<02:58,  5.57s/it]\u001b[A\n",
            " 78%|███████▊  | 109/140 [09:32<03:03,  5.91s/it]\u001b[A\n",
            " 79%|███████▊  | 110/140 [09:37<02:48,  5.62s/it]\u001b[A\n",
            " 79%|███████▉  | 111/140 [09:43<02:45,  5.71s/it]\u001b[A\n",
            " 80%|████████  | 112/140 [09:47<02:25,  5.19s/it]\u001b[A\n",
            " 81%|████████  | 113/140 [09:53<02:25,  5.39s/it]\u001b[A\n",
            " 81%|████████▏ | 114/140 [09:58<02:18,  5.33s/it]\u001b[A\n",
            " 82%|████████▏ | 115/140 [10:04<02:15,  5.44s/it]\u001b[A\n",
            " 83%|████████▎ | 116/140 [10:08<02:02,  5.12s/it]\u001b[A\n",
            " 84%|████████▎ | 117/140 [10:13<01:56,  5.07s/it]\u001b[A\n",
            " 84%|████████▍ | 118/140 [10:18<01:51,  5.07s/it]\u001b[A\n",
            " 85%|████████▌ | 119/140 [10:24<01:50,  5.26s/it]\u001b[A\n",
            " 86%|████████▌ | 120/140 [10:29<01:42,  5.12s/it]\u001b[A\n",
            " 86%|████████▋ | 121/140 [10:34<01:39,  5.21s/it]\u001b[A\n",
            " 87%|████████▋ | 122/140 [10:40<01:34,  5.27s/it]\u001b[A\n",
            " 88%|████████▊ | 123/140 [10:45<01:27,  5.17s/it]\u001b[A\n",
            " 89%|████████▊ | 124/140 [10:51<01:26,  5.41s/it]\u001b[A\n",
            " 89%|████████▉ | 125/140 [10:55<01:16,  5.11s/it]\u001b[A\n",
            " 90%|█████████ | 126/140 [10:59<01:08,  4.92s/it]\u001b[A\n",
            " 91%|█████████ | 127/140 [11:05<01:06,  5.15s/it]\u001b[A\n",
            " 91%|█████████▏| 128/140 [11:11<01:04,  5.36s/it]\u001b[A\n",
            " 92%|█████████▏| 129/140 [11:17<00:59,  5.43s/it]\u001b[A\n",
            " 93%|█████████▎| 130/140 [11:21<00:51,  5.16s/it]\u001b[A\n",
            " 94%|█████████▎| 131/140 [11:26<00:44,  4.94s/it]\u001b[A\n",
            " 94%|█████████▍| 132/140 [11:31<00:41,  5.18s/it]\u001b[A\n",
            " 95%|█████████▌| 133/140 [11:36<00:35,  5.09s/it]\u001b[A\n",
            " 96%|█████████▌| 134/140 [11:42<00:31,  5.33s/it]\u001b[A\n",
            " 96%|█████████▋| 135/140 [11:47<00:26,  5.33s/it]\u001b[A\n",
            " 97%|█████████▋| 136/140 [11:54<00:22,  5.68s/it]\u001b[A\n",
            " 98%|█████████▊| 137/140 [12:00<00:16,  5.67s/it]\u001b[A\n",
            " 99%|█████████▊| 138/140 [12:05<00:11,  5.57s/it]\u001b[A\n",
            " 99%|█████████▉| 139/140 [12:11<00:05,  5.73s/it]\u001b[A\n",
            "100%|██████████| 140/140 [12:16<00:00,  5.26s/it]\n",
            " 20%|██        | 1/5 [16:02<1:04:11, 962.92s/it]"
          ]
        },
        {
          "output_type": "stream",
          "name": "stdout",
          "text": [
            "Epoch : 0 \tTraining Loss: 37.063797 \tValidation Loss 38.396101\n"
          ]
        },
        {
          "output_type": "stream",
          "name": "stderr",
          "text": [
            "\n",
            "  0%|          | 0/140 [00:00<?, ?it/s]\u001b[A\n",
            "  1%|          | 1/140 [00:00<01:45,  1.32it/s]\u001b[A\n",
            "  1%|▏         | 2/140 [00:01<01:15,  1.83it/s]\u001b[A\n",
            "  2%|▏         | 3/140 [00:01<01:14,  1.84it/s]\u001b[A\n",
            "  3%|▎         | 4/140 [00:02<01:13,  1.86it/s]\u001b[A\n",
            "  4%|▎         | 5/140 [00:02<01:04,  2.10it/s]\u001b[A\n",
            "  4%|▍         | 6/140 [00:02<00:58,  2.29it/s]\u001b[A\n",
            "  5%|▌         | 7/140 [00:03<00:55,  2.42it/s]\u001b[A\n",
            "  6%|▌         | 8/140 [00:03<00:53,  2.49it/s]\u001b[A\n",
            "  6%|▋         | 9/140 [00:04<00:51,  2.56it/s]\u001b[A\n",
            "  7%|▋         | 10/140 [00:04<00:49,  2.63it/s]\u001b[A\n",
            "  8%|▊         | 11/140 [00:04<00:56,  2.30it/s]\u001b[A\n",
            "  9%|▊         | 12/140 [00:05<00:52,  2.43it/s]\u001b[A\n",
            "  9%|▉         | 13/140 [00:05<00:50,  2.50it/s]\u001b[A\n",
            " 10%|█         | 14/140 [00:06<00:49,  2.53it/s]\u001b[A\n",
            " 11%|█         | 15/140 [00:06<00:48,  2.58it/s]\u001b[A\n",
            " 11%|█▏        | 16/140 [00:06<00:47,  2.62it/s]\u001b[A\n",
            " 12%|█▏        | 17/140 [00:07<00:46,  2.65it/s]\u001b[A\n",
            " 13%|█▎        | 18/140 [00:07<00:45,  2.65it/s]\u001b[A\n",
            " 14%|█▎        | 19/140 [00:07<00:45,  2.68it/s]\u001b[A\n",
            " 14%|█▍        | 20/140 [00:08<00:45,  2.66it/s]\u001b[A\n",
            " 15%|█▌        | 21/140 [00:08<00:44,  2.68it/s]\u001b[A\n",
            " 16%|█▌        | 22/140 [00:09<00:43,  2.71it/s]\u001b[A\n",
            " 16%|█▋        | 23/140 [00:09<00:43,  2.71it/s]\u001b[A\n",
            " 17%|█▋        | 24/140 [00:09<00:43,  2.67it/s]\u001b[A\n",
            " 18%|█▊        | 25/140 [00:10<00:43,  2.66it/s]\u001b[A\n",
            " 19%|█▊        | 26/140 [00:10<00:42,  2.69it/s]\u001b[A\n",
            " 19%|█▉        | 27/140 [00:10<00:42,  2.67it/s]\u001b[A\n",
            " 20%|██        | 28/140 [00:11<00:42,  2.67it/s]\u001b[A\n",
            " 21%|██        | 29/140 [00:11<00:41,  2.66it/s]\u001b[A\n",
            " 21%|██▏       | 30/140 [00:12<00:40,  2.68it/s]\u001b[A\n",
            " 22%|██▏       | 31/140 [00:12<00:40,  2.69it/s]\u001b[A\n",
            " 23%|██▎       | 32/140 [00:12<00:40,  2.68it/s]\u001b[A\n",
            " 24%|██▎       | 33/140 [00:13<00:39,  2.69it/s]\u001b[A\n",
            " 24%|██▍       | 34/140 [00:13<00:39,  2.70it/s]\u001b[A\n",
            " 25%|██▌       | 35/140 [00:13<00:39,  2.68it/s]\u001b[A\n",
            " 26%|██▌       | 36/140 [00:14<00:39,  2.63it/s]\u001b[A\n",
            " 26%|██▋       | 37/140 [00:14<00:38,  2.65it/s]\u001b[A\n",
            " 27%|██▋       | 38/140 [00:15<00:38,  2.65it/s]\u001b[A\n",
            " 28%|██▊       | 39/140 [00:15<00:37,  2.69it/s]\u001b[A\n",
            " 29%|██▊       | 40/140 [00:15<00:37,  2.69it/s]\u001b[A\n",
            " 29%|██▉       | 41/140 [00:16<00:36,  2.70it/s]\u001b[A\n",
            " 30%|███       | 42/140 [00:16<00:36,  2.67it/s]\u001b[A\n",
            " 31%|███       | 43/140 [00:16<00:36,  2.69it/s]\u001b[A\n",
            " 31%|███▏      | 44/140 [00:17<00:35,  2.70it/s]\u001b[A\n",
            " 32%|███▏      | 45/140 [00:17<00:35,  2.67it/s]\u001b[A\n",
            " 33%|███▎      | 46/140 [00:18<00:35,  2.68it/s]\u001b[A\n",
            " 34%|███▎      | 47/140 [00:18<00:34,  2.70it/s]\u001b[A\n",
            " 34%|███▍      | 48/140 [00:18<00:34,  2.68it/s]\u001b[A\n",
            " 35%|███▌      | 49/140 [00:19<00:39,  2.32it/s]\u001b[A\n",
            " 36%|███▌      | 50/140 [00:19<00:37,  2.43it/s]\u001b[A\n",
            " 36%|███▋      | 51/140 [00:20<00:35,  2.50it/s]\u001b[A\n",
            " 37%|███▋      | 52/140 [00:20<00:33,  2.60it/s]\u001b[A\n",
            " 38%|███▊      | 53/140 [00:20<00:33,  2.61it/s]\u001b[A\n",
            " 39%|███▊      | 54/140 [00:21<00:32,  2.64it/s]\u001b[A\n",
            " 39%|███▉      | 55/140 [00:21<00:31,  2.66it/s]\u001b[A\n",
            " 40%|████      | 56/140 [00:21<00:31,  2.64it/s]\u001b[A\n",
            " 41%|████      | 57/140 [00:22<00:31,  2.65it/s]\u001b[A\n",
            " 41%|████▏     | 58/140 [00:22<00:30,  2.70it/s]\u001b[A\n",
            " 42%|████▏     | 59/140 [00:23<00:35,  2.31it/s]\u001b[A\n",
            " 43%|████▎     | 60/140 [00:23<00:36,  2.22it/s]\u001b[A\n",
            " 44%|████▎     | 61/140 [00:24<00:34,  2.32it/s]\u001b[A\n",
            " 44%|████▍     | 62/140 [00:24<00:33,  2.36it/s]\u001b[A\n",
            " 45%|████▌     | 63/140 [00:24<00:31,  2.48it/s]\u001b[A\n",
            " 46%|████▌     | 64/140 [00:25<00:29,  2.57it/s]\u001b[A\n",
            " 46%|████▋     | 65/140 [00:25<00:28,  2.62it/s]\u001b[A\n",
            " 47%|████▋     | 66/140 [00:25<00:27,  2.65it/s]\u001b[A\n",
            " 48%|████▊     | 67/140 [00:26<00:27,  2.64it/s]\u001b[A\n",
            " 49%|████▊     | 68/140 [00:26<00:26,  2.68it/s]\u001b[A\n",
            " 49%|████▉     | 69/140 [00:27<00:26,  2.68it/s]\u001b[A\n",
            " 50%|█████     | 70/140 [00:27<00:29,  2.36it/s]\u001b[A\n",
            " 51%|█████     | 71/140 [00:28<00:32,  2.14it/s]\u001b[A\n",
            " 51%|█████▏    | 72/140 [00:28<00:29,  2.28it/s]\u001b[A\n",
            " 52%|█████▏    | 73/140 [00:28<00:28,  2.38it/s]\u001b[A\n",
            " 53%|█████▎    | 74/140 [00:29<00:26,  2.47it/s]\u001b[A\n",
            " 54%|█████▎    | 75/140 [00:29<00:25,  2.53it/s]\u001b[A\n",
            " 54%|█████▍    | 76/140 [00:30<00:25,  2.54it/s]\u001b[A\n",
            " 55%|█████▌    | 77/140 [00:30<00:24,  2.59it/s]\u001b[A\n",
            " 56%|█████▌    | 78/140 [00:30<00:23,  2.63it/s]\u001b[A\n",
            " 56%|█████▋    | 79/140 [00:31<00:23,  2.61it/s]\u001b[A\n",
            " 57%|█████▋    | 80/140 [00:31<00:22,  2.65it/s]\u001b[A\n",
            " 58%|█████▊    | 81/140 [00:31<00:22,  2.67it/s]\u001b[A\n",
            " 59%|█████▊    | 82/140 [00:32<00:21,  2.66it/s]\u001b[A\n",
            " 59%|█████▉    | 83/140 [00:32<00:21,  2.68it/s]\u001b[A\n",
            " 60%|██████    | 84/140 [00:33<00:21,  2.66it/s]\u001b[A\n",
            " 61%|██████    | 85/140 [00:33<00:20,  2.71it/s]\u001b[A\n",
            " 61%|██████▏   | 86/140 [00:33<00:19,  2.71it/s]\u001b[A\n",
            " 62%|██████▏   | 87/140 [00:34<00:19,  2.69it/s]\u001b[A\n",
            " 63%|██████▎   | 88/140 [00:34<00:19,  2.72it/s]\u001b[A\n",
            " 64%|██████▎   | 89/140 [00:34<00:19,  2.67it/s]\u001b[A\n",
            " 64%|██████▍   | 90/140 [00:35<00:18,  2.65it/s]\u001b[A\n",
            " 65%|██████▌   | 91/140 [00:35<00:18,  2.67it/s]\u001b[A\n",
            " 66%|██████▌   | 92/140 [00:36<00:17,  2.71it/s]\u001b[A\n",
            " 66%|██████▋   | 93/140 [00:36<00:17,  2.71it/s]\u001b[A\n",
            " 67%|██████▋   | 94/140 [00:36<00:18,  2.43it/s]\u001b[A\n",
            " 68%|██████▊   | 95/140 [00:37<00:18,  2.50it/s]\u001b[A\n",
            " 69%|██████▊   | 96/140 [00:37<00:17,  2.54it/s]\u001b[A\n",
            " 69%|██████▉   | 97/140 [00:38<00:16,  2.59it/s]\u001b[A\n",
            " 70%|███████   | 98/140 [00:38<00:18,  2.27it/s]\u001b[A\n",
            " 71%|███████   | 99/140 [00:38<00:17,  2.39it/s]\u001b[A\n",
            " 71%|███████▏  | 100/140 [00:39<00:17,  2.23it/s]\u001b[A\n",
            " 72%|███████▏  | 101/140 [00:39<00:16,  2.37it/s]\u001b[A\n",
            " 73%|███████▎  | 102/140 [00:40<00:15,  2.45it/s]\u001b[A\n",
            " 74%|███████▎  | 103/140 [00:40<00:18,  2.05it/s]\u001b[A\n",
            " 74%|███████▍  | 104/140 [00:41<00:16,  2.20it/s]\u001b[A\n",
            " 75%|███████▌  | 105/140 [00:41<00:15,  2.32it/s]\u001b[A\n",
            " 76%|███████▌  | 106/140 [00:41<00:13,  2.43it/s]\u001b[A\n",
            " 76%|███████▋  | 107/140 [00:42<00:13,  2.51it/s]\u001b[A\n",
            " 77%|███████▋  | 108/140 [00:42<00:12,  2.54it/s]\u001b[A\n",
            " 78%|███████▊  | 109/140 [00:43<00:14,  2.21it/s]\u001b[A\n",
            " 79%|███████▊  | 110/140 [00:43<00:12,  2.34it/s]\u001b[A\n",
            " 79%|███████▉  | 111/140 [00:44<00:11,  2.45it/s]\u001b[A\n",
            " 80%|████████  | 112/140 [00:44<00:13,  2.06it/s]\u001b[A\n",
            " 81%|████████  | 113/140 [00:45<00:12,  2.23it/s]\u001b[A\n",
            " 81%|████████▏ | 114/140 [00:45<00:11,  2.34it/s]\u001b[A\n",
            " 82%|████████▏ | 115/140 [00:45<00:10,  2.46it/s]\u001b[A\n",
            " 83%|████████▎ | 116/140 [00:46<00:09,  2.54it/s]\u001b[A\n",
            " 84%|████████▎ | 117/140 [00:46<00:08,  2.59it/s]\u001b[A\n",
            " 84%|████████▍ | 118/140 [00:46<00:08,  2.64it/s]\u001b[A\n",
            " 85%|████████▌ | 119/140 [00:47<00:07,  2.66it/s]\u001b[A\n",
            " 86%|████████▌ | 120/140 [00:47<00:07,  2.68it/s]\u001b[A\n",
            " 86%|████████▋ | 121/140 [00:48<00:07,  2.69it/s]\u001b[A\n",
            " 87%|████████▋ | 122/140 [00:48<00:06,  2.69it/s]\u001b[A\n",
            " 88%|████████▊ | 123/140 [00:48<00:06,  2.65it/s]\u001b[A\n",
            " 89%|████████▊ | 124/140 [00:49<00:06,  2.64it/s]\u001b[A\n",
            " 89%|████████▉ | 125/140 [00:49<00:05,  2.64it/s]\u001b[A\n",
            " 90%|█████████ | 126/140 [00:50<00:06,  2.28it/s]\u001b[A\n",
            " 91%|█████████ | 127/140 [00:50<00:05,  2.39it/s]\u001b[A\n",
            " 91%|█████████▏| 128/140 [00:50<00:04,  2.50it/s]\u001b[A\n",
            " 92%|█████████▏| 129/140 [00:51<00:04,  2.56it/s]\u001b[A\n",
            " 93%|█████████▎| 130/140 [00:51<00:03,  2.59it/s]\u001b[A\n",
            " 94%|█████████▎| 131/140 [00:51<00:03,  2.61it/s]\u001b[A\n",
            " 94%|█████████▍| 132/140 [00:52<00:03,  2.66it/s]\u001b[A\n",
            " 95%|█████████▌| 133/140 [00:52<00:02,  2.68it/s]\u001b[A\n",
            " 96%|█████████▌| 134/140 [00:53<00:02,  2.71it/s]\u001b[A\n",
            " 96%|█████████▋| 135/140 [00:53<00:01,  2.70it/s]\u001b[A\n",
            " 97%|█████████▋| 136/140 [00:53<00:01,  2.73it/s]\u001b[A\n",
            " 98%|█████████▊| 137/140 [00:54<00:01,  2.71it/s]\u001b[A\n",
            " 99%|█████████▊| 138/140 [00:54<00:00,  2.26it/s]\u001b[A\n",
            " 99%|█████████▉| 139/140 [00:55<00:00,  2.40it/s]\u001b[A\n",
            "100%|██████████| 140/140 [00:55<00:00,  2.52it/s]\n",
            " 40%|████      | 2/5 [17:07<21:42, 434.27s/it]  "
          ]
        },
        {
          "output_type": "stream",
          "name": "stdout",
          "text": [
            "Epoch : 1 \tTraining Loss: 38.564535 \tValidation Loss 39.375344\n"
          ]
        },
        {
          "output_type": "stream",
          "name": "stderr",
          "text": [
            "\n",
            "  0%|          | 0/140 [00:00<?, ?it/s]\u001b[A\n",
            "  1%|          | 1/140 [00:00<00:58,  2.37it/s]\u001b[A\n",
            "  1%|▏         | 2/140 [00:00<00:56,  2.44it/s]\u001b[A\n",
            "  2%|▏         | 3/140 [00:01<00:55,  2.47it/s]\u001b[A\n",
            "  3%|▎         | 4/140 [00:01<00:55,  2.47it/s]\u001b[A\n",
            "  4%|▎         | 5/140 [00:01<00:52,  2.57it/s]\u001b[A\n",
            "  4%|▍         | 6/140 [00:02<00:51,  2.59it/s]\u001b[A\n",
            "  5%|▌         | 7/140 [00:02<00:50,  2.65it/s]\u001b[A\n",
            "  6%|▌         | 8/140 [00:03<00:49,  2.65it/s]\u001b[A\n",
            "  6%|▋         | 9/140 [00:03<00:49,  2.65it/s]\u001b[A\n",
            "  7%|▋         | 10/140 [00:03<00:48,  2.66it/s]\u001b[A\n",
            "  8%|▊         | 11/140 [00:04<00:48,  2.67it/s]\u001b[A\n",
            "  9%|▊         | 12/140 [00:04<00:47,  2.67it/s]\u001b[A\n",
            "  9%|▉         | 13/140 [00:04<00:46,  2.71it/s]\u001b[A\n",
            " 10%|█         | 14/140 [00:05<00:46,  2.69it/s]\u001b[A\n",
            " 11%|█         | 15/140 [00:05<00:46,  2.70it/s]\u001b[A\n",
            " 11%|█▏        | 16/140 [00:06<00:45,  2.72it/s]\u001b[A\n",
            " 12%|█▏        | 17/140 [00:06<00:45,  2.71it/s]\u001b[A\n",
            " 13%|█▎        | 18/140 [00:06<00:45,  2.71it/s]\u001b[A\n",
            " 14%|█▎        | 19/140 [00:07<00:44,  2.71it/s]\u001b[A\n",
            " 14%|█▍        | 20/140 [00:07<00:44,  2.72it/s]\u001b[A\n",
            " 15%|█▌        | 21/140 [00:07<00:43,  2.72it/s]\u001b[A\n",
            " 16%|█▌        | 22/140 [00:08<00:44,  2.67it/s]\u001b[A\n",
            " 16%|█▋        | 23/140 [00:08<00:43,  2.68it/s]\u001b[A\n",
            " 17%|█▋        | 24/140 [00:09<00:43,  2.68it/s]\u001b[A\n",
            " 18%|█▊        | 25/140 [00:09<00:42,  2.68it/s]\u001b[A\n",
            " 19%|█▊        | 26/140 [00:09<00:41,  2.73it/s]\u001b[A\n",
            " 19%|█▉        | 27/140 [00:10<00:41,  2.72it/s]\u001b[A\n",
            " 20%|██        | 28/140 [00:10<00:40,  2.74it/s]\u001b[A\n",
            " 21%|██        | 29/140 [00:10<00:40,  2.74it/s]\u001b[A\n",
            " 21%|██▏       | 30/140 [00:11<00:40,  2.73it/s]\u001b[A\n",
            " 22%|██▏       | 31/140 [00:11<00:39,  2.73it/s]\u001b[A\n",
            " 23%|██▎       | 32/140 [00:11<00:40,  2.69it/s]\u001b[A\n",
            " 24%|██▎       | 33/140 [00:12<00:39,  2.70it/s]\u001b[A\n",
            " 24%|██▍       | 34/140 [00:12<00:39,  2.70it/s]\u001b[A\n",
            " 25%|██▌       | 35/140 [00:13<00:38,  2.72it/s]\u001b[A\n",
            " 26%|██▌       | 36/140 [00:13<00:38,  2.71it/s]\u001b[A\n",
            " 26%|██▋       | 37/140 [00:13<00:38,  2.69it/s]\u001b[A\n",
            " 27%|██▋       | 38/140 [00:14<00:37,  2.70it/s]\u001b[A\n",
            " 28%|██▊       | 39/140 [00:14<00:37,  2.68it/s]\u001b[A\n",
            " 29%|██▊       | 40/140 [00:14<00:37,  2.69it/s]\u001b[A\n",
            " 29%|██▉       | 41/140 [00:15<00:36,  2.70it/s]\u001b[A\n",
            " 30%|███       | 42/140 [00:15<00:36,  2.70it/s]\u001b[A\n",
            " 31%|███       | 43/140 [00:16<00:35,  2.72it/s]\u001b[A\n",
            " 31%|███▏      | 44/140 [00:16<00:35,  2.71it/s]\u001b[A\n",
            " 32%|███▏      | 45/140 [00:16<00:35,  2.68it/s]\u001b[A\n",
            " 33%|███▎      | 46/140 [00:17<00:35,  2.66it/s]\u001b[A\n",
            " 34%|███▎      | 47/140 [00:17<00:34,  2.67it/s]\u001b[A\n",
            " 34%|███▍      | 48/140 [00:17<00:34,  2.67it/s]\u001b[A\n",
            " 35%|███▌      | 49/140 [00:18<00:33,  2.68it/s]\u001b[A\n",
            " 36%|███▌      | 50/140 [00:18<00:33,  2.65it/s]\u001b[A\n",
            " 36%|███▋      | 51/140 [00:19<00:33,  2.66it/s]\u001b[A\n",
            " 37%|███▋      | 52/140 [00:19<00:32,  2.67it/s]\u001b[A\n",
            " 38%|███▊      | 53/140 [00:19<00:32,  2.65it/s]\u001b[A\n",
            " 39%|███▊      | 54/140 [00:20<00:32,  2.62it/s]\u001b[A\n",
            " 39%|███▉      | 55/140 [00:20<00:32,  2.58it/s]\u001b[A\n",
            " 40%|████      | 56/140 [00:20<00:32,  2.61it/s]\u001b[A\n",
            " 41%|████      | 57/140 [00:21<00:32,  2.59it/s]\u001b[A\n",
            " 41%|████▏     | 58/140 [00:21<00:31,  2.61it/s]\u001b[A\n",
            " 42%|████▏     | 59/140 [00:22<00:30,  2.65it/s]\u001b[A\n",
            " 43%|████▎     | 60/140 [00:22<00:30,  2.63it/s]\u001b[A\n",
            " 44%|████▎     | 61/140 [00:22<00:29,  2.64it/s]\u001b[A\n",
            " 44%|████▍     | 62/140 [00:23<00:29,  2.64it/s]\u001b[A\n",
            " 45%|████▌     | 63/140 [00:23<00:29,  2.63it/s]\u001b[A\n",
            " 46%|████▌     | 64/140 [00:24<00:29,  2.62it/s]\u001b[A\n",
            " 46%|████▋     | 65/140 [00:24<00:28,  2.63it/s]\u001b[A\n",
            " 47%|████▋     | 66/140 [00:24<00:27,  2.65it/s]\u001b[A\n",
            " 48%|████▊     | 67/140 [00:25<00:27,  2.65it/s]\u001b[A\n",
            " 49%|████▊     | 68/140 [00:25<00:27,  2.66it/s]\u001b[A\n",
            " 49%|████▉     | 69/140 [00:25<00:26,  2.66it/s]\u001b[A\n",
            " 50%|█████     | 70/140 [00:26<00:26,  2.64it/s]\u001b[A\n",
            " 51%|█████     | 71/140 [00:26<00:26,  2.61it/s]\u001b[A\n",
            " 51%|█████▏    | 72/140 [00:27<00:25,  2.65it/s]\u001b[A\n",
            " 52%|█████▏    | 73/140 [00:27<00:25,  2.66it/s]\u001b[A\n",
            " 53%|█████▎    | 74/140 [00:27<00:24,  2.69it/s]\u001b[A\n",
            " 54%|█████▎    | 75/140 [00:28<00:23,  2.71it/s]\u001b[A\n",
            " 54%|█████▍    | 76/140 [00:28<00:23,  2.71it/s]\u001b[A\n",
            " 55%|█████▌    | 77/140 [00:28<00:23,  2.69it/s]\u001b[A\n",
            " 56%|█████▌    | 78/140 [00:29<00:23,  2.68it/s]\u001b[A\n",
            " 56%|█████▋    | 79/140 [00:29<00:23,  2.65it/s]\u001b[A\n",
            " 57%|█████▋    | 80/140 [00:30<00:22,  2.67it/s]\u001b[A\n",
            " 58%|█████▊    | 81/140 [00:30<00:22,  2.67it/s]\u001b[A\n",
            " 59%|█████▊    | 82/140 [00:30<00:21,  2.67it/s]\u001b[A\n",
            " 59%|█████▉    | 83/140 [00:31<00:21,  2.63it/s]\u001b[A\n",
            " 60%|██████    | 84/140 [00:31<00:21,  2.63it/s]\u001b[A\n",
            " 61%|██████    | 85/140 [00:31<00:20,  2.65it/s]\u001b[A\n",
            " 61%|██████▏   | 86/140 [00:32<00:20,  2.67it/s]\u001b[A\n",
            " 62%|██████▏   | 87/140 [00:32<00:19,  2.67it/s]\u001b[A\n",
            " 63%|██████▎   | 88/140 [00:33<00:19,  2.67it/s]\u001b[A\n",
            " 64%|██████▎   | 89/140 [00:33<00:19,  2.64it/s]\u001b[A\n",
            " 64%|██████▍   | 90/140 [00:33<00:18,  2.69it/s]\u001b[A\n",
            " 65%|██████▌   | 91/140 [00:34<00:17,  2.72it/s]\u001b[A\n",
            " 66%|██████▌   | 92/140 [00:34<00:17,  2.74it/s]\u001b[A\n",
            " 66%|██████▋   | 93/140 [00:34<00:17,  2.72it/s]\u001b[A\n",
            " 67%|██████▋   | 94/140 [00:35<00:16,  2.72it/s]\u001b[A\n",
            " 68%|██████▊   | 95/140 [00:35<00:16,  2.70it/s]\u001b[A\n",
            " 69%|██████▊   | 96/140 [00:35<00:16,  2.69it/s]\u001b[A\n",
            " 69%|██████▉   | 97/140 [00:36<00:16,  2.67it/s]\u001b[A\n",
            " 70%|███████   | 98/140 [00:36<00:15,  2.70it/s]\u001b[A\n",
            " 71%|███████   | 99/140 [00:37<00:15,  2.67it/s]\u001b[A\n",
            " 71%|███████▏  | 100/140 [00:37<00:14,  2.68it/s]\u001b[A\n",
            " 72%|███████▏  | 101/140 [00:37<00:14,  2.73it/s]\u001b[A\n",
            " 73%|███████▎  | 102/140 [00:38<00:13,  2.74it/s]\u001b[A\n",
            " 74%|███████▎  | 103/140 [00:38<00:13,  2.72it/s]\u001b[A\n",
            " 74%|███████▍  | 104/140 [00:38<00:13,  2.73it/s]\u001b[A\n",
            " 75%|███████▌  | 105/140 [00:39<00:12,  2.69it/s]\u001b[A\n",
            " 76%|███████▌  | 106/140 [00:39<00:12,  2.69it/s]\u001b[A\n",
            " 76%|███████▋  | 107/140 [00:40<00:12,  2.68it/s]\u001b[A\n",
            " 77%|███████▋  | 108/140 [00:40<00:11,  2.69it/s]\u001b[A\n",
            " 78%|███████▊  | 109/140 [00:40<00:11,  2.69it/s]\u001b[A\n",
            " 79%|███████▊  | 110/140 [00:41<00:11,  2.69it/s]\u001b[A\n",
            " 79%|███████▉  | 111/140 [00:41<00:11,  2.63it/s]\u001b[A\n",
            " 80%|████████  | 112/140 [00:41<00:10,  2.65it/s]\u001b[A\n",
            " 81%|████████  | 113/140 [00:42<00:10,  2.65it/s]\u001b[A\n",
            " 81%|████████▏ | 114/140 [00:42<00:09,  2.68it/s]\u001b[A\n",
            " 82%|████████▏ | 115/140 [00:43<00:09,  2.64it/s]\u001b[A\n",
            " 83%|████████▎ | 116/140 [00:43<00:09,  2.64it/s]\u001b[A\n",
            " 84%|████████▎ | 117/140 [00:43<00:08,  2.67it/s]\u001b[A\n",
            " 84%|████████▍ | 118/140 [00:44<00:08,  2.71it/s]\u001b[A\n",
            " 85%|████████▌ | 119/140 [00:44<00:07,  2.70it/s]\u001b[A\n",
            " 86%|████████▌ | 120/140 [00:44<00:07,  2.73it/s]\u001b[A\n",
            " 86%|████████▋ | 121/140 [00:45<00:06,  2.72it/s]\u001b[A\n",
            " 87%|████████▋ | 122/140 [00:45<00:06,  2.74it/s]\u001b[A\n",
            " 88%|████████▊ | 123/140 [00:45<00:06,  2.73it/s]\u001b[A\n",
            " 89%|████████▊ | 124/140 [00:46<00:05,  2.73it/s]\u001b[A\n",
            " 89%|████████▉ | 125/140 [00:46<00:05,  2.71it/s]\u001b[A\n",
            " 90%|█████████ | 126/140 [00:47<00:05,  2.71it/s]\u001b[A\n",
            " 91%|█████████ | 127/140 [00:47<00:04,  2.70it/s]\u001b[A\n",
            " 91%|█████████▏| 128/140 [00:47<00:04,  2.70it/s]\u001b[A\n",
            " 92%|█████████▏| 129/140 [00:48<00:04,  2.68it/s]\u001b[A\n",
            " 93%|█████████▎| 130/140 [00:48<00:03,  2.70it/s]\u001b[A\n",
            " 94%|█████████▎| 131/140 [00:48<00:03,  2.69it/s]\u001b[A\n",
            " 94%|█████████▍| 132/140 [00:49<00:02,  2.71it/s]\u001b[A\n",
            " 95%|█████████▌| 133/140 [00:49<00:02,  2.67it/s]\u001b[A\n",
            " 96%|█████████▌| 134/140 [00:50<00:02,  2.69it/s]\u001b[A\n",
            " 96%|█████████▋| 135/140 [00:50<00:01,  2.68it/s]\u001b[A\n",
            " 97%|█████████▋| 136/140 [00:50<00:01,  2.68it/s]\u001b[A\n",
            " 98%|█████████▊| 137/140 [00:51<00:01,  2.68it/s]\u001b[A\n",
            " 99%|█████████▊| 138/140 [00:51<00:00,  2.70it/s]\u001b[A\n",
            " 99%|█████████▉| 139/140 [00:51<00:00,  2.70it/s]\u001b[A\n",
            "100%|██████████| 140/140 [00:52<00:00,  2.68it/s]\n",
            " 60%|██████    | 3/5 [18:08<08:47, 263.79s/it]"
          ]
        },
        {
          "output_type": "stream",
          "name": "stdout",
          "text": [
            "Epoch : 2 \tTraining Loss: 35.436878 \tValidation Loss 37.985534\n"
          ]
        },
        {
          "output_type": "stream",
          "name": "stderr",
          "text": [
            "\n",
            "  0%|          | 0/140 [00:00<?, ?it/s]\u001b[A\n",
            "  1%|          | 1/140 [00:00<00:58,  2.38it/s]\u001b[A\n",
            "  1%|▏         | 2/140 [00:00<00:57,  2.38it/s]\u001b[A\n",
            "  2%|▏         | 3/140 [00:01<00:55,  2.48it/s]\u001b[A\n",
            "  3%|▎         | 4/140 [00:01<00:54,  2.51it/s]\u001b[A\n",
            "  4%|▎         | 5/140 [00:01<00:52,  2.56it/s]\u001b[A\n",
            "  4%|▍         | 6/140 [00:02<00:51,  2.60it/s]\u001b[A\n",
            "  5%|▌         | 7/140 [00:02<00:51,  2.59it/s]\u001b[A\n",
            "  6%|▌         | 8/140 [00:03<00:50,  2.61it/s]\u001b[A\n",
            "  6%|▋         | 9/140 [00:03<00:49,  2.63it/s]\u001b[A\n",
            "  7%|▋         | 10/140 [00:03<00:49,  2.65it/s]\u001b[A\n",
            "  8%|▊         | 11/140 [00:04<00:48,  2.67it/s]\u001b[A\n",
            "  9%|▊         | 12/140 [00:04<00:48,  2.62it/s]\u001b[A\n",
            "  9%|▉         | 13/140 [00:05<00:48,  2.64it/s]\u001b[A\n",
            " 10%|█         | 14/140 [00:05<00:47,  2.64it/s]\u001b[A\n",
            " 11%|█         | 15/140 [00:05<00:47,  2.65it/s]\u001b[A\n",
            " 11%|█▏        | 16/140 [00:06<00:46,  2.64it/s]\u001b[A\n",
            " 12%|█▏        | 17/140 [00:06<00:46,  2.64it/s]\u001b[A\n",
            " 13%|█▎        | 18/140 [00:06<00:45,  2.66it/s]\u001b[A\n",
            " 14%|█▎        | 19/140 [00:07<00:45,  2.65it/s]\u001b[A\n",
            " 14%|█▍        | 20/140 [00:07<00:45,  2.65it/s]\u001b[A\n",
            " 15%|█▌        | 21/140 [00:08<00:44,  2.66it/s]\u001b[A\n",
            " 16%|█▌        | 22/140 [00:08<00:44,  2.67it/s]\u001b[A\n",
            " 16%|█▋        | 23/140 [00:08<00:43,  2.68it/s]\u001b[A\n",
            " 17%|█▋        | 24/140 [00:09<00:43,  2.67it/s]\u001b[A\n",
            " 18%|█▊        | 25/140 [00:09<00:42,  2.68it/s]\u001b[A\n",
            " 19%|█▊        | 26/140 [00:09<00:42,  2.68it/s]\u001b[A\n",
            " 19%|█▉        | 27/140 [00:10<00:41,  2.70it/s]\u001b[A\n",
            " 20%|██        | 28/140 [00:10<00:41,  2.69it/s]\u001b[A\n",
            " 21%|██        | 29/140 [00:11<00:41,  2.68it/s]\u001b[A\n",
            " 21%|██▏       | 30/140 [00:11<00:41,  2.66it/s]\u001b[A\n",
            " 22%|██▏       | 31/140 [00:11<00:41,  2.64it/s]\u001b[A\n",
            " 23%|██▎       | 32/140 [00:12<00:40,  2.67it/s]\u001b[A\n",
            " 24%|██▎       | 33/140 [00:12<00:39,  2.70it/s]\u001b[A\n",
            " 24%|██▍       | 34/140 [00:12<00:39,  2.71it/s]\u001b[A\n",
            " 25%|██▌       | 35/140 [00:13<00:38,  2.72it/s]\u001b[A\n",
            " 26%|██▌       | 36/140 [00:13<00:38,  2.72it/s]\u001b[A\n",
            " 26%|██▋       | 37/140 [00:13<00:37,  2.72it/s]\u001b[A\n",
            " 27%|██▋       | 38/140 [00:14<00:37,  2.73it/s]\u001b[A\n",
            " 28%|██▊       | 39/140 [00:14<00:37,  2.68it/s]\u001b[A\n",
            " 29%|██▊       | 40/140 [00:15<00:37,  2.66it/s]\u001b[A\n",
            " 29%|██▉       | 41/140 [00:15<00:37,  2.67it/s]\u001b[A\n",
            " 30%|███       | 42/140 [00:15<00:36,  2.67it/s]\u001b[A\n",
            " 31%|███       | 43/140 [00:16<00:36,  2.68it/s]\u001b[A\n",
            " 31%|███▏      | 44/140 [00:16<00:35,  2.70it/s]\u001b[A\n",
            " 32%|███▏      | 45/140 [00:16<00:35,  2.69it/s]\u001b[A\n",
            " 33%|███▎      | 46/140 [00:17<00:34,  2.69it/s]\u001b[A\n",
            " 34%|███▎      | 47/140 [00:17<00:34,  2.69it/s]\u001b[A\n",
            " 34%|███▍      | 48/140 [00:18<00:34,  2.70it/s]\u001b[A\n",
            " 35%|███▌      | 49/140 [00:18<00:33,  2.69it/s]\u001b[A\n",
            " 36%|███▌      | 50/140 [00:18<00:33,  2.69it/s]\u001b[A\n",
            " 36%|███▋      | 51/140 [00:19<00:32,  2.71it/s]\u001b[A\n",
            " 37%|███▋      | 52/140 [00:19<00:32,  2.72it/s]\u001b[A\n",
            " 38%|███▊      | 53/140 [00:19<00:31,  2.73it/s]\u001b[A\n",
            " 39%|███▊      | 54/140 [00:20<00:31,  2.73it/s]\u001b[A\n",
            " 39%|███▉      | 55/140 [00:20<00:31,  2.74it/s]\u001b[A\n",
            " 40%|████      | 56/140 [00:20<00:30,  2.75it/s]\u001b[A\n",
            " 41%|████      | 57/140 [00:21<00:30,  2.72it/s]\u001b[A\n",
            " 41%|████▏     | 58/140 [00:21<00:30,  2.68it/s]\u001b[A\n",
            " 42%|████▏     | 59/140 [00:22<00:30,  2.68it/s]\u001b[A\n",
            " 43%|████▎     | 60/140 [00:22<00:29,  2.69it/s]\u001b[A\n",
            " 44%|████▎     | 61/140 [00:22<00:29,  2.71it/s]\u001b[A\n",
            " 44%|████▍     | 62/140 [00:23<00:28,  2.69it/s]\u001b[A\n",
            " 45%|████▌     | 63/140 [00:23<00:28,  2.68it/s]\u001b[A\n",
            " 46%|████▌     | 64/140 [00:23<00:28,  2.69it/s]\u001b[A\n",
            " 46%|████▋     | 65/140 [00:24<00:27,  2.68it/s]\u001b[A\n",
            " 47%|████▋     | 66/140 [00:24<00:27,  2.70it/s]\u001b[A\n",
            " 48%|████▊     | 67/140 [00:25<00:27,  2.70it/s]\u001b[A\n",
            " 49%|████▊     | 68/140 [00:25<00:26,  2.70it/s]\u001b[A\n",
            " 49%|████▉     | 69/140 [00:25<00:26,  2.67it/s]\u001b[A\n",
            " 50%|█████     | 70/140 [00:26<00:25,  2.71it/s]\u001b[A\n",
            " 51%|█████     | 71/140 [00:26<00:25,  2.70it/s]\u001b[A\n",
            " 51%|█████▏    | 72/140 [00:26<00:25,  2.67it/s]\u001b[A\n",
            " 52%|█████▏    | 73/140 [00:27<00:24,  2.69it/s]\u001b[A\n",
            " 53%|█████▎    | 74/140 [00:27<00:24,  2.70it/s]\u001b[A\n",
            " 54%|█████▎    | 75/140 [00:28<00:23,  2.73it/s]\u001b[A\n",
            " 54%|█████▍    | 76/140 [00:28<00:23,  2.75it/s]\u001b[A\n",
            " 55%|█████▌    | 77/140 [00:28<00:23,  2.73it/s]\u001b[A\n",
            " 56%|█████▌    | 78/140 [00:29<00:22,  2.74it/s]\u001b[A\n",
            " 56%|█████▋    | 79/140 [00:29<00:22,  2.74it/s]\u001b[A\n",
            " 57%|█████▋    | 80/140 [00:29<00:22,  2.71it/s]\u001b[A\n",
            " 58%|█████▊    | 81/140 [00:30<00:21,  2.73it/s]\u001b[A\n",
            " 59%|█████▊    | 82/140 [00:30<00:21,  2.73it/s]\u001b[A\n",
            " 59%|█████▉    | 83/140 [00:30<00:20,  2.73it/s]\u001b[A\n",
            " 60%|██████    | 84/140 [00:31<00:20,  2.74it/s]\u001b[A\n",
            " 61%|██████    | 85/140 [00:31<00:20,  2.74it/s]\u001b[A\n",
            " 61%|██████▏   | 86/140 [00:32<00:19,  2.70it/s]\u001b[A\n",
            " 62%|██████▏   | 87/140 [00:32<00:19,  2.69it/s]\u001b[A\n",
            " 63%|██████▎   | 88/140 [00:32<00:19,  2.70it/s]\u001b[A\n",
            " 64%|██████▎   | 89/140 [00:33<00:18,  2.69it/s]\u001b[A\n",
            " 64%|██████▍   | 90/140 [00:33<00:18,  2.67it/s]\u001b[A\n",
            " 65%|██████▌   | 91/140 [00:33<00:18,  2.69it/s]\u001b[A\n",
            " 66%|██████▌   | 92/140 [00:34<00:17,  2.71it/s]\u001b[A\n",
            " 66%|██████▋   | 93/140 [00:34<00:17,  2.71it/s]\u001b[A\n",
            " 67%|██████▋   | 94/140 [00:35<00:16,  2.71it/s]\u001b[A\n",
            " 68%|██████▊   | 95/140 [00:35<00:16,  2.71it/s]\u001b[A\n",
            " 69%|██████▊   | 96/140 [00:35<00:16,  2.67it/s]\u001b[A\n",
            " 69%|██████▉   | 97/140 [00:36<00:16,  2.68it/s]\u001b[A\n",
            " 70%|███████   | 98/140 [00:36<00:15,  2.67it/s]\u001b[A\n",
            " 71%|███████   | 99/140 [00:36<00:15,  2.65it/s]\u001b[A\n",
            " 71%|███████▏  | 100/140 [00:37<00:14,  2.67it/s]\u001b[A\n",
            " 72%|███████▏  | 101/140 [00:37<00:14,  2.71it/s]\u001b[A\n",
            " 73%|███████▎  | 102/140 [00:38<00:14,  2.71it/s]\u001b[A\n",
            " 74%|███████▎  | 103/140 [00:38<00:13,  2.67it/s]\u001b[A\n",
            " 74%|███████▍  | 104/140 [00:38<00:13,  2.69it/s]\u001b[A\n",
            " 75%|███████▌  | 105/140 [00:39<00:12,  2.71it/s]\u001b[A\n",
            " 76%|███████▌  | 106/140 [00:39<00:12,  2.72it/s]\u001b[A\n",
            " 76%|███████▋  | 107/140 [00:39<00:12,  2.71it/s]\u001b[A\n",
            " 77%|███████▋  | 108/140 [00:40<00:11,  2.68it/s]\u001b[A\n",
            " 78%|███████▊  | 109/140 [00:40<00:11,  2.69it/s]\u001b[A\n",
            " 79%|███████▊  | 110/140 [00:40<00:11,  2.71it/s]\u001b[A\n",
            " 79%|███████▉  | 111/140 [00:41<00:10,  2.71it/s]\u001b[A\n",
            " 80%|████████  | 112/140 [00:41<00:10,  2.69it/s]\u001b[A\n",
            " 81%|████████  | 113/140 [00:42<00:09,  2.71it/s]\u001b[A\n",
            " 81%|████████▏ | 114/140 [00:42<00:09,  2.71it/s]\u001b[A\n",
            " 82%|████████▏ | 115/140 [00:42<00:09,  2.73it/s]\u001b[A\n",
            " 83%|████████▎ | 116/140 [00:43<00:08,  2.72it/s]\u001b[A\n",
            " 84%|████████▎ | 117/140 [00:43<00:08,  2.73it/s]\u001b[A\n",
            " 84%|████████▍ | 118/140 [00:43<00:08,  2.68it/s]\u001b[A\n",
            " 85%|████████▌ | 119/140 [00:44<00:07,  2.71it/s]\u001b[A\n",
            " 86%|████████▌ | 120/140 [00:44<00:07,  2.72it/s]\u001b[A\n",
            " 86%|████████▋ | 121/140 [00:45<00:07,  2.71it/s]\u001b[A\n",
            " 87%|████████▋ | 122/140 [00:45<00:06,  2.70it/s]\u001b[A\n",
            " 88%|████████▊ | 123/140 [00:45<00:06,  2.71it/s]\u001b[A\n",
            " 89%|████████▊ | 124/140 [00:46<00:05,  2.69it/s]\u001b[A\n",
            " 89%|████████▉ | 125/140 [00:46<00:05,  2.69it/s]\u001b[A\n",
            " 90%|█████████ | 126/140 [00:46<00:05,  2.69it/s]\u001b[A\n",
            " 91%|█████████ | 127/140 [00:47<00:04,  2.66it/s]\u001b[A\n",
            " 91%|█████████▏| 128/140 [00:47<00:04,  2.70it/s]\u001b[A\n",
            " 92%|█████████▏| 129/140 [00:48<00:04,  2.72it/s]\u001b[A\n",
            " 93%|█████████▎| 130/140 [00:48<00:03,  2.70it/s]\u001b[A\n",
            " 94%|█████████▎| 131/140 [00:48<00:03,  2.72it/s]\u001b[A\n",
            " 94%|█████████▍| 132/140 [00:49<00:02,  2.74it/s]\u001b[A\n",
            " 95%|█████████▌| 133/140 [00:49<00:02,  2.73it/s]\u001b[A\n",
            " 96%|█████████▌| 134/140 [00:49<00:02,  2.75it/s]\u001b[A\n",
            " 96%|█████████▋| 135/140 [00:50<00:01,  2.74it/s]\u001b[A\n",
            " 97%|█████████▋| 136/140 [00:50<00:01,  2.72it/s]\u001b[A\n",
            " 98%|█████████▊| 137/140 [00:50<00:01,  2.73it/s]\u001b[A\n",
            " 99%|█████████▊| 138/140 [00:51<00:00,  2.70it/s]\u001b[A\n",
            " 99%|█████████▉| 139/140 [00:51<00:00,  2.68it/s]\u001b[A\n",
            "100%|██████████| 140/140 [00:52<00:00,  2.69it/s]\n",
            " 80%|████████  | 4/5 [19:08<03:03, 183.60s/it]"
          ]
        },
        {
          "output_type": "stream",
          "name": "stdout",
          "text": [
            "Epoch : 3 \tTraining Loss: 35.046438 \tValidation Loss 34.692597\n"
          ]
        },
        {
          "output_type": "stream",
          "name": "stderr",
          "text": [
            "\n",
            "  0%|          | 0/140 [00:00<?, ?it/s]\u001b[A\n",
            "  1%|          | 1/140 [00:00<00:58,  2.38it/s]\u001b[A\n",
            "  1%|▏         | 2/140 [00:00<00:58,  2.36it/s]\u001b[A\n",
            "  2%|▏         | 3/140 [00:01<00:56,  2.43it/s]\u001b[A\n",
            "  3%|▎         | 4/140 [00:01<00:53,  2.53it/s]\u001b[A\n",
            "  4%|▎         | 5/140 [00:01<00:52,  2.57it/s]\u001b[A\n",
            "  4%|▍         | 6/140 [00:02<00:51,  2.60it/s]\u001b[A\n",
            "  5%|▌         | 7/140 [00:02<00:50,  2.63it/s]\u001b[A\n",
            "  6%|▌         | 8/140 [00:03<00:49,  2.65it/s]\u001b[A\n",
            "  6%|▋         | 9/140 [00:03<00:48,  2.68it/s]\u001b[A\n",
            "  7%|▋         | 10/140 [00:03<00:49,  2.64it/s]\u001b[A\n",
            "  8%|▊         | 11/140 [00:04<00:48,  2.67it/s]\u001b[A\n",
            "  9%|▊         | 12/140 [00:04<00:47,  2.71it/s]\u001b[A\n",
            "  9%|▉         | 13/140 [00:04<00:46,  2.71it/s]\u001b[A\n",
            " 10%|█         | 14/140 [00:05<00:46,  2.70it/s]\u001b[A\n",
            " 11%|█         | 15/140 [00:05<00:46,  2.69it/s]\u001b[A\n",
            " 11%|█▏        | 16/140 [00:06<00:45,  2.70it/s]\u001b[A\n",
            " 12%|█▏        | 17/140 [00:06<00:45,  2.73it/s]\u001b[A\n",
            " 13%|█▎        | 18/140 [00:06<00:44,  2.71it/s]\u001b[A\n",
            " 14%|█▎        | 19/140 [00:07<00:44,  2.72it/s]\u001b[A\n",
            " 14%|█▍        | 20/140 [00:07<00:44,  2.73it/s]\u001b[A\n",
            " 15%|█▌        | 21/140 [00:07<00:43,  2.71it/s]\u001b[A\n",
            " 16%|█▌        | 22/140 [00:08<00:43,  2.69it/s]\u001b[A\n",
            " 16%|█▋        | 23/140 [00:08<00:43,  2.70it/s]\u001b[A\n",
            " 17%|█▋        | 24/140 [00:09<00:42,  2.72it/s]\u001b[A\n",
            " 18%|█▊        | 25/140 [00:09<00:42,  2.71it/s]\u001b[A\n",
            " 19%|█▊        | 26/140 [00:09<00:42,  2.69it/s]\u001b[A\n",
            " 19%|█▉        | 27/140 [00:10<00:42,  2.66it/s]\u001b[A\n",
            " 20%|██        | 28/140 [00:10<00:41,  2.69it/s]\u001b[A\n",
            " 21%|██        | 29/140 [00:10<00:41,  2.66it/s]\u001b[A\n",
            " 21%|██▏       | 30/140 [00:11<00:41,  2.63it/s]\u001b[A\n",
            " 22%|██▏       | 31/140 [00:11<00:41,  2.64it/s]\u001b[A\n",
            " 23%|██▎       | 32/140 [00:12<00:40,  2.67it/s]\u001b[A\n",
            " 24%|██▎       | 33/140 [00:12<00:39,  2.68it/s]\u001b[A\n",
            " 24%|██▍       | 34/140 [00:12<00:39,  2.69it/s]\u001b[A\n",
            " 25%|██▌       | 35/140 [00:13<00:38,  2.71it/s]\u001b[A\n",
            " 26%|██▌       | 36/140 [00:13<00:38,  2.71it/s]\u001b[A\n",
            " 26%|██▋       | 37/140 [00:13<00:38,  2.71it/s]\u001b[A\n",
            " 27%|██▋       | 38/140 [00:14<00:37,  2.72it/s]\u001b[A\n",
            " 28%|██▊       | 39/140 [00:14<00:37,  2.72it/s]\u001b[A\n",
            " 29%|██▊       | 40/140 [00:14<00:36,  2.72it/s]\u001b[A\n",
            " 29%|██▉       | 41/140 [00:15<00:36,  2.72it/s]\u001b[A\n",
            " 30%|███       | 42/140 [00:15<00:36,  2.69it/s]\u001b[A\n",
            " 31%|███       | 43/140 [00:16<00:36,  2.69it/s]\u001b[A\n",
            " 31%|███▏      | 44/140 [00:16<00:35,  2.70it/s]\u001b[A\n",
            " 32%|███▏      | 45/140 [00:16<00:35,  2.68it/s]\u001b[A\n",
            " 33%|███▎      | 46/140 [00:17<00:34,  2.70it/s]\u001b[A\n",
            " 34%|███▎      | 47/140 [00:17<00:34,  2.71it/s]\u001b[A\n",
            " 34%|███▍      | 48/140 [00:17<00:33,  2.73it/s]\u001b[A\n",
            " 35%|███▌      | 49/140 [00:18<00:33,  2.72it/s]\u001b[A\n",
            " 36%|███▌      | 50/140 [00:18<00:32,  2.75it/s]\u001b[A\n",
            " 36%|███▋      | 51/140 [00:19<00:32,  2.72it/s]\u001b[A\n",
            " 37%|███▋      | 52/140 [00:19<00:31,  2.76it/s]\u001b[A\n",
            " 38%|███▊      | 53/140 [00:19<00:32,  2.71it/s]\u001b[A\n",
            " 39%|███▊      | 54/140 [00:20<00:31,  2.71it/s]\u001b[A\n",
            " 39%|███▉      | 55/140 [00:20<00:31,  2.73it/s]\u001b[A\n",
            " 40%|████      | 56/140 [00:20<00:30,  2.74it/s]\u001b[A\n",
            " 41%|████      | 57/140 [00:21<00:30,  2.73it/s]\u001b[A\n",
            " 41%|████▏     | 58/140 [00:21<00:29,  2.73it/s]\u001b[A\n",
            " 42%|████▏     | 59/140 [00:21<00:29,  2.74it/s]\u001b[A\n",
            " 43%|████▎     | 60/140 [00:22<00:29,  2.74it/s]\u001b[A\n",
            " 44%|████▎     | 61/140 [00:22<00:28,  2.73it/s]\u001b[A\n",
            " 44%|████▍     | 62/140 [00:23<00:29,  2.66it/s]\u001b[A\n",
            " 45%|████▌     | 63/140 [00:23<00:29,  2.63it/s]\u001b[A\n",
            " 46%|████▌     | 64/140 [00:23<00:28,  2.65it/s]\u001b[A\n",
            " 46%|████▋     | 65/140 [00:24<00:28,  2.65it/s]\u001b[A\n",
            " 47%|████▋     | 66/140 [00:24<00:27,  2.70it/s]\u001b[A\n",
            " 48%|████▊     | 67/140 [00:24<00:27,  2.70it/s]\u001b[A\n",
            " 49%|████▊     | 68/140 [00:25<00:26,  2.70it/s]\u001b[A\n",
            " 49%|████▉     | 69/140 [00:25<00:26,  2.68it/s]\u001b[A\n",
            " 50%|█████     | 70/140 [00:26<00:25,  2.70it/s]\u001b[A\n",
            " 51%|█████     | 71/140 [00:26<00:26,  2.65it/s]\u001b[A\n",
            " 51%|█████▏    | 72/140 [00:26<00:25,  2.67it/s]\u001b[A\n",
            " 52%|█████▏    | 73/140 [00:27<00:25,  2.67it/s]\u001b[A\n",
            " 53%|█████▎    | 74/140 [00:27<00:24,  2.69it/s]\u001b[A\n",
            " 54%|█████▎    | 75/140 [00:27<00:23,  2.71it/s]\u001b[A\n",
            " 54%|█████▍    | 76/140 [00:28<00:23,  2.71it/s]\u001b[A\n",
            " 55%|█████▌    | 77/140 [00:28<00:23,  2.72it/s]\u001b[A\n",
            " 56%|█████▌    | 78/140 [00:29<00:22,  2.70it/s]\u001b[A\n",
            " 56%|█████▋    | 79/140 [00:29<00:22,  2.68it/s]\u001b[A\n",
            " 57%|█████▋    | 80/140 [00:29<00:22,  2.68it/s]\u001b[A\n",
            " 58%|█████▊    | 81/140 [00:30<00:22,  2.67it/s]\u001b[A\n",
            " 59%|█████▊    | 82/140 [00:30<00:21,  2.69it/s]\u001b[A\n",
            " 59%|█████▉    | 83/140 [00:30<00:21,  2.67it/s]\u001b[A\n",
            " 60%|██████    | 84/140 [00:31<00:21,  2.65it/s]\u001b[A\n",
            " 61%|██████    | 85/140 [00:31<00:20,  2.62it/s]\u001b[A\n",
            " 61%|██████▏   | 86/140 [00:32<00:20,  2.60it/s]\u001b[A\n",
            " 62%|██████▏   | 87/140 [00:32<00:20,  2.62it/s]\u001b[A\n",
            " 63%|██████▎   | 88/140 [00:32<00:19,  2.62it/s]\u001b[A\n",
            " 64%|██████▎   | 89/140 [00:33<00:19,  2.63it/s]\u001b[A\n",
            " 64%|██████▍   | 90/140 [00:33<00:18,  2.64it/s]\u001b[A\n",
            " 65%|██████▌   | 91/140 [00:33<00:18,  2.63it/s]\u001b[A\n",
            " 66%|██████▌   | 92/140 [00:34<00:18,  2.62it/s]\u001b[A\n",
            " 66%|██████▋   | 93/140 [00:34<00:17,  2.63it/s]\u001b[A\n",
            " 67%|██████▋   | 94/140 [00:35<00:17,  2.62it/s]\u001b[A\n",
            " 68%|██████▊   | 95/140 [00:35<00:17,  2.59it/s]\u001b[A\n",
            " 69%|██████▊   | 96/140 [00:35<00:16,  2.60it/s]\u001b[A\n",
            " 69%|██████▉   | 97/140 [00:36<00:16,  2.61it/s]\u001b[A\n",
            " 70%|███████   | 98/140 [00:36<00:16,  2.59it/s]\u001b[A\n",
            " 71%|███████   | 99/140 [00:37<00:15,  2.66it/s]\u001b[A\n",
            " 71%|███████▏  | 100/140 [00:37<00:15,  2.66it/s]\u001b[A\n",
            " 72%|███████▏  | 101/140 [00:37<00:14,  2.65it/s]\u001b[A\n",
            " 73%|███████▎  | 102/140 [00:38<00:14,  2.69it/s]\u001b[A\n",
            " 74%|███████▎  | 103/140 [00:38<00:13,  2.71it/s]\u001b[A\n",
            " 74%|███████▍  | 104/140 [00:38<00:13,  2.72it/s]\u001b[A\n",
            " 75%|███████▌  | 105/140 [00:39<00:12,  2.70it/s]\u001b[A\n",
            " 76%|███████▌  | 106/140 [00:39<00:12,  2.67it/s]\u001b[A\n",
            " 76%|███████▋  | 107/140 [00:39<00:12,  2.70it/s]\u001b[A\n",
            " 77%|███████▋  | 108/140 [00:40<00:11,  2.70it/s]\u001b[A\n",
            " 78%|███████▊  | 109/140 [00:40<00:11,  2.71it/s]\u001b[A\n",
            " 79%|███████▊  | 110/140 [00:41<00:11,  2.69it/s]\u001b[A\n",
            " 79%|███████▉  | 111/140 [00:41<00:10,  2.70it/s]\u001b[A\n",
            " 80%|████████  | 112/140 [00:41<00:10,  2.69it/s]\u001b[A\n",
            " 81%|████████  | 113/140 [00:42<00:09,  2.71it/s]\u001b[A\n",
            " 81%|████████▏ | 114/140 [00:42<00:09,  2.69it/s]\u001b[A\n",
            " 82%|████████▏ | 115/140 [00:42<00:09,  2.71it/s]\u001b[A\n",
            " 83%|████████▎ | 116/140 [00:43<00:08,  2.68it/s]\u001b[A\n",
            " 84%|████████▎ | 117/140 [00:43<00:08,  2.69it/s]\u001b[A\n",
            " 84%|████████▍ | 118/140 [00:44<00:08,  2.68it/s]\u001b[A\n",
            " 85%|████████▌ | 119/140 [00:44<00:07,  2.68it/s]\u001b[A\n",
            " 86%|████████▌ | 120/140 [00:44<00:07,  2.66it/s]\u001b[A\n",
            " 86%|████████▋ | 121/140 [00:45<00:07,  2.67it/s]\u001b[A\n",
            " 87%|████████▋ | 122/140 [00:45<00:06,  2.68it/s]\u001b[A\n",
            " 88%|████████▊ | 123/140 [00:45<00:06,  2.70it/s]\u001b[A\n",
            " 89%|████████▊ | 124/140 [00:46<00:05,  2.71it/s]\u001b[A\n",
            " 89%|████████▉ | 125/140 [00:46<00:05,  2.66it/s]\u001b[A\n",
            " 90%|█████████ | 126/140 [00:47<00:05,  2.65it/s]\u001b[A\n",
            " 91%|█████████ | 127/140 [00:47<00:04,  2.67it/s]\u001b[A\n",
            " 91%|█████████▏| 128/140 [00:47<00:04,  2.69it/s]\u001b[A\n",
            " 92%|█████████▏| 129/140 [00:48<00:04,  2.70it/s]\u001b[A\n",
            " 93%|█████████▎| 130/140 [00:48<00:03,  2.68it/s]\u001b[A\n",
            " 94%|█████████▎| 131/140 [00:48<00:03,  2.70it/s]\u001b[A\n",
            " 94%|█████████▍| 132/140 [00:49<00:02,  2.68it/s]\u001b[A\n",
            " 95%|█████████▌| 133/140 [00:49<00:02,  2.69it/s]\u001b[A\n",
            " 96%|█████████▌| 134/140 [00:50<00:02,  2.69it/s]\u001b[A\n",
            " 96%|█████████▋| 135/140 [00:50<00:01,  2.73it/s]\u001b[A\n",
            " 97%|█████████▋| 136/140 [00:50<00:01,  2.72it/s]\u001b[A\n",
            " 98%|█████████▊| 137/140 [00:51<00:01,  2.72it/s]\u001b[A\n",
            " 99%|█████████▊| 138/140 [00:51<00:00,  2.70it/s]\u001b[A\n",
            " 99%|█████████▉| 139/140 [00:51<00:00,  2.70it/s]\u001b[A\n",
            "100%|██████████| 140/140 [00:52<00:00,  2.68it/s]\n",
            "100%|██████████| 5/5 [20:09<00:00, 241.88s/it]"
          ]
        },
        {
          "output_type": "stream",
          "name": "stdout",
          "text": [
            "Epoch : 4 \tTraining Loss: 33.549168 \tValidation Loss 32.881413\n"
          ]
        },
        {
          "output_type": "stream",
          "name": "stderr",
          "text": [
            "\n"
          ]
        }
      ]
    },
    {
      "cell_type": "markdown",
      "metadata": {
        "id": "BIer8yIU0sVY"
      },
      "source": [
        "# result\n",
        "학습할수록 loss값이 점점 줄어드는것 확인 그러나 더 학습시키기에 시간 및 colab의 gpu할당량에 문제가 있는거 같아서 천천히 계속 수정 해나갈 예정.\n",
        "---\n",
        "vgg16을 썼을땐 어떨까?"
      ]
    },
    {
      "cell_type": "code",
      "metadata": {
        "id": "bG2_LgQv0DzZ",
        "colab": {
          "base_uri": "https://localhost:8080/",
          "height": 67,
          "referenced_widgets": [
            "2cd865ae2c494551b4f76d8099c42e43",
            "2c3c9fbc556f4740b8cb0908cf980940",
            "e33c5184cfa74d7890a390d7e1666325",
            "c48d5d30c68c4c069331a61d021d3e44",
            "3ce4a389d0e2405bb23b1abb6385b4ba",
            "9e0c0910d5f045749b14130d9e664f7e",
            "f9a15e14ef174602a53fa2cfa0afdaeb",
            "1586f00f618842629f0e809caeaa3524",
            "bb32f8dcd23645dc902732a0b613ab4e",
            "d64f7ef59eed46ce8f5cfd2fe1d72a35",
            "b30b735d0cc3464083c0093ec1767e09"
          ]
        },
        "outputId": "d7ff6dcc-263e-4100-fc7d-49374e8c71a6"
      },
      "source": [
        "# 모델을 만들어보자\n",
        "# vgg16 선언.\n",
        "model = models.vgg16(pretrained=True)"
      ],
      "execution_count": 26,
      "outputs": [
        {
          "output_type": "stream",
          "name": "stderr",
          "text": [
            "Downloading: \"https://download.pytorch.org/models/vgg16-397923af.pth\" to /root/.cache/torch/hub/checkpoints/vgg16-397923af.pth\n"
          ]
        },
        {
          "output_type": "display_data",
          "data": {
            "application/vnd.jupyter.widget-view+json": {
              "model_id": "2cd865ae2c494551b4f76d8099c42e43",
              "version_minor": 0,
              "version_major": 2
            },
            "text/plain": [
              "  0%|          | 0.00/528M [00:00<?, ?B/s]"
            ]
          },
          "metadata": {}
        }
      ]
    },
    {
      "cell_type": "code",
      "metadata": {
        "id": "jNZc-Lx20DxX"
      },
      "source": [
        "class ASL(Dataset):\n",
        "    def __init__(self,path,cmap):\n",
        "      # 클래스 초기화 함수 ASK(path, cmap)값을 넣어서 초기설정\n",
        "        self.path = path\n",
        "        self.normalize = transforms.Normalize(mean = [0.485,0.456,0.406],std = [0.229,0.224,0.225])\n",
        "        self.cmap = cmap\n",
        "    def __len__(self):\n",
        "      # 길이를 return 하게해주는함수 len()을 쓸수있게됨\n",
        "        return len(self.path)\n",
        "    \n",
        "    def __getitem__(self,ix):\n",
        "      # 인덱스로 값을 출력할수 있게 해주는 함수\n",
        "        # opencv로 이미지를 읽어옴 opencv는 RGB가 아니라 BGR형식이기때문에 이미지에서 [:,:,::-1]로 채널을 거꾸로 읽어준다고한다.\n",
        "        im = cv2.imread(self.path[ix])[:,:,::-1]\n",
        "        # VGG16은 224,224를 인풋으로 받아온다고함.\n",
        "        im = cv2.resize(im,(224,224))\n",
        "        # 입력으로 하기위한 텐서변환.\n",
        "        im = torch.tensor(im/255)\n",
        "        # 인풋의 shape가 (width, height, channel)로 되어있는데 이걸 (channel, width, height) 형태로 변경해야하기 때문에 permute()함수를 씀.\n",
        "        im = im.permute(2,0,1)\n",
        "        # Nomalize init에서 선언한거 실행\n",
        "        im = self.normalize(im)\n",
        "        # 이미지 타겟 mapping하기위해 디렉토리에서 값을 뽑아옴\n",
        "        target = self.path[ix].split(\"/\")[-2]\n",
        "        # 매핑된값 label로 저장,\n",
        "        label = cmap[target]\n",
        "        \n",
        "        return im.float().to(device),torch.tensor(int(label)).long().to(device)    "
      ],
      "execution_count": 28,
      "outputs": []
    },
    {
      "cell_type": "code",
      "metadata": {
        "id": "qd9VonKY0DvR"
      },
      "source": [
        "# 모델의 일부를 고정하고 나머지를 훈련하려는 경우 고정하려는 매개변수의 requires_grad를 False로 설정.\n",
        "# 이경우는 전체 고정시키고 avgpool classifier를 재선언한 모델로 결국 Convolution 만 고정하려는 목적인거같다.\n",
        "for param in model.parameters():\n",
        "  param.requires_grad  = False\n",
        "\n",
        "# 원래는 (7,7)인데 (1,1)로 원본 그대로를? 하는건가?\n",
        "model.avgpool = nn.AdaptiveAvgPool2d(output_size=(1,1))\n",
        "\n",
        "model.classifier = nn.Sequential(\n",
        "    # 일자 벡터화\n",
        "    nn.Flatten(),\n",
        "    nn.Linear(512,128),\n",
        "    nn.ReLU(),\n",
        "    nn.Dropout(0.2),\n",
        "    nn.Linear(128,4),\n",
        "    nn.Softmax()\n",
        ")"
      ],
      "execution_count": 29,
      "outputs": []
    },
    {
      "cell_type": "code",
      "metadata": {
        "id": "nBCCZU7d0DtS",
        "colab": {
          "base_uri": "https://localhost:8080/"
        },
        "outputId": "6f6775a4-21d5-49a8-cbf1-3bbafb5078f8"
      },
      "source": [
        "# loss function = CrossEntropy => 다중 클래스 분류에 자주 사용되는 Loss function => log_softmax와 nll_loss가 하나의 함수로 합쳐진 형태라고함.\n",
        "\n",
        "# optimizer = Adam ==> Adam method는 Adagrad + RMSProp\n",
        "# Adam은 stepsize가 gradient의 rescaling에 영향 받지않아 gradient가 커져도 stepsize는 bound 되어있어 어떠한 objectfunction을 사용한다 하더라도 안정적으로 최적화를 위한 하강이 가능하다고 한다.\n",
        "loss_fn = nn.CrossEntropyLoss()\n",
        "optimizer = torch.optim.Adam(model.parameters(), lr=1e-3)\n",
        "model.to(device)"
      ],
      "execution_count": 30,
      "outputs": [
        {
          "output_type": "execute_result",
          "data": {
            "text/plain": [
              "VGG(\n",
              "  (features): Sequential(\n",
              "    (0): Conv2d(3, 64, kernel_size=(3, 3), stride=(1, 1), padding=(1, 1))\n",
              "    (1): ReLU(inplace=True)\n",
              "    (2): Conv2d(64, 64, kernel_size=(3, 3), stride=(1, 1), padding=(1, 1))\n",
              "    (3): ReLU(inplace=True)\n",
              "    (4): MaxPool2d(kernel_size=2, stride=2, padding=0, dilation=1, ceil_mode=False)\n",
              "    (5): Conv2d(64, 128, kernel_size=(3, 3), stride=(1, 1), padding=(1, 1))\n",
              "    (6): ReLU(inplace=True)\n",
              "    (7): Conv2d(128, 128, kernel_size=(3, 3), stride=(1, 1), padding=(1, 1))\n",
              "    (8): ReLU(inplace=True)\n",
              "    (9): MaxPool2d(kernel_size=2, stride=2, padding=0, dilation=1, ceil_mode=False)\n",
              "    (10): Conv2d(128, 256, kernel_size=(3, 3), stride=(1, 1), padding=(1, 1))\n",
              "    (11): ReLU(inplace=True)\n",
              "    (12): Conv2d(256, 256, kernel_size=(3, 3), stride=(1, 1), padding=(1, 1))\n",
              "    (13): ReLU(inplace=True)\n",
              "    (14): Conv2d(256, 256, kernel_size=(3, 3), stride=(1, 1), padding=(1, 1))\n",
              "    (15): ReLU(inplace=True)\n",
              "    (16): MaxPool2d(kernel_size=2, stride=2, padding=0, dilation=1, ceil_mode=False)\n",
              "    (17): Conv2d(256, 512, kernel_size=(3, 3), stride=(1, 1), padding=(1, 1))\n",
              "    (18): ReLU(inplace=True)\n",
              "    (19): Conv2d(512, 512, kernel_size=(3, 3), stride=(1, 1), padding=(1, 1))\n",
              "    (20): ReLU(inplace=True)\n",
              "    (21): Conv2d(512, 512, kernel_size=(3, 3), stride=(1, 1), padding=(1, 1))\n",
              "    (22): ReLU(inplace=True)\n",
              "    (23): MaxPool2d(kernel_size=2, stride=2, padding=0, dilation=1, ceil_mode=False)\n",
              "    (24): Conv2d(512, 512, kernel_size=(3, 3), stride=(1, 1), padding=(1, 1))\n",
              "    (25): ReLU(inplace=True)\n",
              "    (26): Conv2d(512, 512, kernel_size=(3, 3), stride=(1, 1), padding=(1, 1))\n",
              "    (27): ReLU(inplace=True)\n",
              "    (28): Conv2d(512, 512, kernel_size=(3, 3), stride=(1, 1), padding=(1, 1))\n",
              "    (29): ReLU(inplace=True)\n",
              "    (30): MaxPool2d(kernel_size=2, stride=2, padding=0, dilation=1, ceil_mode=False)\n",
              "  )\n",
              "  (avgpool): AdaptiveAvgPool2d(output_size=(1, 1))\n",
              "  (classifier): Sequential(\n",
              "    (0): Flatten(start_dim=1, end_dim=-1)\n",
              "    (1): Linear(in_features=512, out_features=128, bias=True)\n",
              "    (2): ReLU()\n",
              "    (3): Dropout(p=0.2, inplace=False)\n",
              "    (4): Linear(in_features=128, out_features=4, bias=True)\n",
              "    (5): Softmax(dim=None)\n",
              "  )\n",
              ")"
            ]
          },
          "metadata": {},
          "execution_count": 30
        }
      ]
    },
    {
      "cell_type": "code",
      "metadata": {
        "colab": {
          "base_uri": "https://localhost:8080/"
        },
        "id": "ye9iWlNr27hD",
        "outputId": "ad86f801-d1bd-4341-816e-ac117777e70d"
      },
      "source": [
        "from torchsummary import summary\n",
        "# 만들어진 모델 어떻게 돌아가는지 테스트 및 성능 해보는거같음.\n",
        "summary(model,  input_size=(3,224,224))"
      ],
      "execution_count": 32,
      "outputs": [
        {
          "output_type": "stream",
          "name": "stdout",
          "text": [
            "----------------------------------------------------------------\n",
            "        Layer (type)               Output Shape         Param #\n",
            "================================================================\n",
            "            Conv2d-1         [-1, 64, 224, 224]           1,792\n",
            "              ReLU-2         [-1, 64, 224, 224]               0\n",
            "            Conv2d-3         [-1, 64, 224, 224]          36,928\n",
            "              ReLU-4         [-1, 64, 224, 224]               0\n",
            "         MaxPool2d-5         [-1, 64, 112, 112]               0\n",
            "            Conv2d-6        [-1, 128, 112, 112]          73,856\n",
            "              ReLU-7        [-1, 128, 112, 112]               0\n",
            "            Conv2d-8        [-1, 128, 112, 112]         147,584\n",
            "              ReLU-9        [-1, 128, 112, 112]               0\n",
            "        MaxPool2d-10          [-1, 128, 56, 56]               0\n",
            "           Conv2d-11          [-1, 256, 56, 56]         295,168\n",
            "             ReLU-12          [-1, 256, 56, 56]               0\n",
            "           Conv2d-13          [-1, 256, 56, 56]         590,080\n",
            "             ReLU-14          [-1, 256, 56, 56]               0\n",
            "           Conv2d-15          [-1, 256, 56, 56]         590,080\n",
            "             ReLU-16          [-1, 256, 56, 56]               0\n",
            "        MaxPool2d-17          [-1, 256, 28, 28]               0\n",
            "           Conv2d-18          [-1, 512, 28, 28]       1,180,160\n",
            "             ReLU-19          [-1, 512, 28, 28]               0\n",
            "           Conv2d-20          [-1, 512, 28, 28]       2,359,808\n",
            "             ReLU-21          [-1, 512, 28, 28]               0\n",
            "           Conv2d-22          [-1, 512, 28, 28]       2,359,808\n",
            "             ReLU-23          [-1, 512, 28, 28]               0\n",
            "        MaxPool2d-24          [-1, 512, 14, 14]               0\n",
            "           Conv2d-25          [-1, 512, 14, 14]       2,359,808\n",
            "             ReLU-26          [-1, 512, 14, 14]               0\n",
            "           Conv2d-27          [-1, 512, 14, 14]       2,359,808\n",
            "             ReLU-28          [-1, 512, 14, 14]               0\n",
            "           Conv2d-29          [-1, 512, 14, 14]       2,359,808\n",
            "             ReLU-30          [-1, 512, 14, 14]               0\n",
            "        MaxPool2d-31            [-1, 512, 7, 7]               0\n",
            "AdaptiveAvgPool2d-32            [-1, 512, 1, 1]               0\n",
            "          Flatten-33                  [-1, 512]               0\n",
            "           Linear-34                  [-1, 128]          65,664\n",
            "             ReLU-35                  [-1, 128]               0\n",
            "          Dropout-36                  [-1, 128]               0\n",
            "           Linear-37                    [-1, 4]             516\n",
            "          Softmax-38                    [-1, 4]               0\n",
            "================================================================\n",
            "Total params: 14,780,868\n",
            "Trainable params: 66,180\n",
            "Non-trainable params: 14,714,688\n",
            "----------------------------------------------------------------\n",
            "Input size (MB): 0.57\n",
            "Forward/backward pass size (MB): 218.41\n",
            "Params size (MB): 56.38\n",
            "Estimated Total Size (MB): 275.36\n",
            "----------------------------------------------------------------\n"
          ]
        },
        {
          "output_type": "stream",
          "name": "stderr",
          "text": [
            "/usr/local/lib/python3.7/dist-packages/torch/nn/modules/container.py:139: UserWarning: Implicit dimension choice for softmax has been deprecated. Change the call to include dim=X as an argument.\n",
            "  input = module(input)\n"
          ]
        }
      ]
    },
    {
      "cell_type": "code",
      "metadata": {
        "colab": {
          "base_uri": "https://localhost:8080/"
        },
        "id": "eujSxc6k27fI",
        "outputId": "a73f7c25-69f0-4e19-ba09-2165f6d8ecf7"
      },
      "source": [
        "# 이제 학습 시켜보자 (실제 데이터)\n",
        "train_losses_vgg, valid_losses_vgg = [],[]\n",
        "# 15epoch 수행 예정\n",
        "n_epochs=5\n",
        "\n",
        "for epochs in tqdm(range(n_epochs)):\n",
        "  # train, val loss값 초기화\n",
        "  train_loss=0.0\n",
        "  val_loss=0.0\n",
        "  # 모델을 학습 모드로 변환 / 평가 모드는 model.eval() 로 할 수 있다.\n",
        "  model.train()\n",
        "  for data, target in tqdm(train_dl):\n",
        "    # 파이토치는 미분을 통해 얻은 기울기를 이전에 계산된 기울기 값에 누적시키는 특징이 있습니다\n",
        "    # 그렇기 때문에 optimizer.zero_grad()를 통해 미분값을 계속 0으로 초기화\n",
        "    optimizer.zero_grad()\n",
        "    # data에 대한 예측값 생성\n",
        "    prediction = model(data)\n",
        "    # 예측과 target에 대한 loss function수행\n",
        "    loss = loss_fn(prediction, target)\n",
        "    # loss에 backwoar()를 계산하면 모델을 구성하는 파라미터에 대한 gradient를 계산한다.\n",
        "    # backward()는 암묵적으로 loss값이 스칼라라고 가정하기때문에 scalar값으로 만들어주어야함.\n",
        "    # backpropagation으로 하는듯.\n",
        "    loss.backward()\n",
        "    # optimizer가 step()메소드를 통해 parameter를 업데이터한다.\n",
        "    optimizer.step()\n",
        "    train_loss += loss.item() * data.size(0)\n",
        "\n",
        "  # batch normalization 이나 dropout이 들어있는 모델은 batchsize에 따라 결과가 달라진다던가 실행 시킬때마다 결과가 달라져 학습에 영향을 미침 (드롭아웃 및 배치 정규화를 평가 모드로 설정하여야 합니다. 이것을 하지 않으면 추론 결과가 일관성 없게 출력)\n",
        "  # 훈련후 결과 계산만을 위해 model.eval()을 실행 시켜줘야한다고함.\n",
        "  model.eval()\n",
        "\n",
        "  for data, target in val_dl:\n",
        "    prediction = model(data)\n",
        "    loss = loss_fn(prediction, target)\n",
        "    val_loss += loss.item() * data.size(0)\n",
        "  \n",
        "  # for문에서 train_loss에 모든 loss의 합을 더햇으므로 최종 loss는 갯수만큼 나눠야겟죠?\n",
        "  train_loss = train_loss / len(train_dl)\n",
        "  val_loss = val_loss / len(val_dl)\n",
        "\n",
        "  # loss 리스트에 append\n",
        "  train_losses_vgg.append(train_loss)\n",
        "  valid_losses_vgg.append(val_loss)\n",
        "\n",
        "  print(\"Epoch : {} \\tTraining Loss: {:.6f} \\tValidation Loss {:.6f}\".format(epochs,train_loss,val_loss))\n"
      ],
      "execution_count": 33,
      "outputs": [
        {
          "output_type": "stream",
          "name": "stderr",
          "text": [
            "  0%|          | 0/5 [00:00<?, ?it/s]\n",
            "  0%|          | 0/140 [00:00<?, ?it/s]\u001b[A/usr/local/lib/python3.7/dist-packages/torch/nn/modules/container.py:139: UserWarning: Implicit dimension choice for softmax has been deprecated. Change the call to include dim=X as an argument.\n",
            "  input = module(input)\n",
            "\n",
            "  1%|          | 1/140 [00:00<01:53,  1.22it/s]\u001b[A\n",
            "  1%|▏         | 2/140 [00:01<01:50,  1.25it/s]\u001b[A\n",
            "  2%|▏         | 3/140 [00:02<01:48,  1.26it/s]\u001b[A\n",
            "  3%|▎         | 4/140 [00:03<01:47,  1.27it/s]\u001b[A\n",
            "  4%|▎         | 5/140 [00:03<01:45,  1.28it/s]\u001b[A\n",
            "  4%|▍         | 6/140 [00:04<01:44,  1.28it/s]\u001b[A\n",
            "  5%|▌         | 7/140 [00:05<01:43,  1.29it/s]\u001b[A\n",
            "  6%|▌         | 8/140 [00:06<01:43,  1.28it/s]\u001b[A\n",
            "  6%|▋         | 9/140 [00:07<01:42,  1.28it/s]\u001b[A\n",
            "  7%|▋         | 10/140 [00:07<01:41,  1.28it/s]\u001b[A\n",
            "  8%|▊         | 11/140 [00:08<01:40,  1.29it/s]\u001b[A\n",
            "  9%|▊         | 12/140 [00:09<01:38,  1.30it/s]\u001b[A\n",
            "  9%|▉         | 13/140 [00:10<01:38,  1.29it/s]\u001b[A\n",
            " 10%|█         | 14/140 [00:10<01:37,  1.29it/s]\u001b[A\n",
            " 11%|█         | 15/140 [00:11<01:36,  1.29it/s]\u001b[A\n",
            " 11%|█▏        | 16/140 [00:12<01:36,  1.29it/s]\u001b[A\n",
            " 12%|█▏        | 17/140 [00:13<01:35,  1.29it/s]\u001b[A\n",
            " 13%|█▎        | 18/140 [00:14<01:34,  1.29it/s]\u001b[A\n",
            " 14%|█▎        | 19/140 [00:14<01:33,  1.29it/s]\u001b[A\n",
            " 14%|█▍        | 20/140 [00:15<01:33,  1.28it/s]\u001b[A\n",
            " 15%|█▌        | 21/140 [00:16<01:32,  1.29it/s]\u001b[A\n",
            " 16%|█▌        | 22/140 [00:17<01:31,  1.29it/s]\u001b[A\n",
            " 16%|█▋        | 23/140 [00:17<01:30,  1.29it/s]\u001b[A\n",
            " 17%|█▋        | 24/140 [00:18<01:29,  1.29it/s]\u001b[A\n",
            " 18%|█▊        | 25/140 [00:19<01:28,  1.30it/s]\u001b[A\n",
            " 19%|█▊        | 26/140 [00:20<01:27,  1.30it/s]\u001b[A\n",
            " 19%|█▉        | 27/140 [00:20<01:27,  1.29it/s]\u001b[A\n",
            " 20%|██        | 28/140 [00:21<01:26,  1.30it/s]\u001b[A\n",
            " 21%|██        | 29/140 [00:22<01:25,  1.29it/s]\u001b[A\n",
            " 21%|██▏       | 30/140 [00:23<01:24,  1.30it/s]\u001b[A\n",
            " 22%|██▏       | 31/140 [00:24<01:23,  1.30it/s]\u001b[A\n",
            " 23%|██▎       | 32/140 [00:24<01:23,  1.29it/s]\u001b[A\n",
            " 24%|██▎       | 33/140 [00:25<01:22,  1.29it/s]\u001b[A\n",
            " 24%|██▍       | 34/140 [00:26<01:22,  1.29it/s]\u001b[A\n",
            " 25%|██▌       | 35/140 [00:27<01:21,  1.28it/s]\u001b[A\n",
            " 26%|██▌       | 36/140 [00:27<01:21,  1.28it/s]\u001b[A\n",
            " 26%|██▋       | 37/140 [00:28<01:20,  1.28it/s]\u001b[A\n",
            " 27%|██▋       | 38/140 [00:29<01:19,  1.28it/s]\u001b[A\n",
            " 28%|██▊       | 39/140 [00:30<01:18,  1.29it/s]\u001b[A\n",
            " 29%|██▊       | 40/140 [00:31<01:17,  1.29it/s]\u001b[A\n",
            " 29%|██▉       | 41/140 [00:31<01:16,  1.30it/s]\u001b[A\n",
            " 30%|███       | 42/140 [00:32<01:15,  1.30it/s]\u001b[A\n",
            " 31%|███       | 43/140 [00:33<01:14,  1.30it/s]\u001b[A\n",
            " 31%|███▏      | 44/140 [00:34<01:13,  1.30it/s]\u001b[A\n",
            " 32%|███▏      | 45/140 [00:34<01:12,  1.30it/s]\u001b[A\n",
            " 33%|███▎      | 46/140 [00:35<01:12,  1.30it/s]\u001b[A\n",
            " 34%|███▎      | 47/140 [00:36<01:11,  1.30it/s]\u001b[A\n",
            " 34%|███▍      | 48/140 [00:37<01:10,  1.30it/s]\u001b[A\n",
            " 35%|███▌      | 49/140 [00:37<01:09,  1.30it/s]\u001b[A\n",
            " 36%|███▌      | 50/140 [00:38<01:09,  1.29it/s]\u001b[A\n",
            " 36%|███▋      | 51/140 [00:39<01:08,  1.30it/s]\u001b[A\n",
            " 37%|███▋      | 52/140 [00:40<01:08,  1.28it/s]\u001b[A\n",
            " 38%|███▊      | 53/140 [00:41<01:07,  1.29it/s]\u001b[A\n",
            " 39%|███▊      | 54/140 [00:41<01:06,  1.29it/s]\u001b[A\n",
            " 39%|███▉      | 55/140 [00:42<01:05,  1.30it/s]\u001b[A\n",
            " 40%|████      | 56/140 [00:43<01:04,  1.29it/s]\u001b[A\n",
            " 41%|████      | 57/140 [00:44<01:04,  1.29it/s]\u001b[A\n",
            " 41%|████▏     | 58/140 [00:44<01:03,  1.29it/s]\u001b[A\n",
            " 42%|████▏     | 59/140 [00:45<01:02,  1.30it/s]\u001b[A\n",
            " 43%|████▎     | 60/140 [00:46<01:01,  1.30it/s]\u001b[A\n",
            " 44%|████▎     | 61/140 [00:47<01:00,  1.30it/s]\u001b[A\n",
            " 44%|████▍     | 62/140 [00:47<00:59,  1.30it/s]\u001b[A\n",
            " 45%|████▌     | 63/140 [00:48<00:58,  1.31it/s]\u001b[A\n",
            " 46%|████▌     | 64/140 [00:49<00:58,  1.30it/s]\u001b[A\n",
            " 46%|████▋     | 65/140 [00:50<00:57,  1.30it/s]\u001b[A\n",
            " 47%|████▋     | 66/140 [00:51<00:57,  1.30it/s]\u001b[A\n",
            " 48%|████▊     | 67/140 [00:51<00:56,  1.29it/s]\u001b[A\n",
            " 49%|████▊     | 68/140 [00:52<00:56,  1.28it/s]\u001b[A\n",
            " 49%|████▉     | 69/140 [00:53<00:54,  1.29it/s]\u001b[A\n",
            " 50%|█████     | 70/140 [00:54<00:54,  1.29it/s]\u001b[A\n",
            " 51%|█████     | 71/140 [00:54<00:53,  1.30it/s]\u001b[A\n",
            " 51%|█████▏    | 72/140 [00:55<00:52,  1.30it/s]\u001b[A\n",
            " 52%|█████▏    | 73/140 [00:56<00:51,  1.31it/s]\u001b[A\n",
            " 53%|█████▎    | 74/140 [00:57<00:50,  1.30it/s]\u001b[A\n",
            " 54%|█████▎    | 75/140 [00:57<00:49,  1.31it/s]\u001b[A\n",
            " 54%|█████▍    | 76/140 [00:58<00:48,  1.31it/s]\u001b[A\n",
            " 55%|█████▌    | 77/140 [00:59<00:48,  1.30it/s]\u001b[A\n",
            " 56%|█████▌    | 78/140 [01:00<00:47,  1.30it/s]\u001b[A\n",
            " 56%|█████▋    | 79/140 [01:01<00:46,  1.30it/s]\u001b[A\n",
            " 57%|█████▋    | 80/140 [01:01<00:45,  1.31it/s]\u001b[A\n",
            " 58%|█████▊    | 81/140 [01:02<00:45,  1.29it/s]\u001b[A\n",
            " 59%|█████▊    | 82/140 [01:03<00:44,  1.29it/s]\u001b[A\n",
            " 59%|█████▉    | 83/140 [01:04<00:43,  1.30it/s]\u001b[A\n",
            " 60%|██████    | 84/140 [01:04<00:43,  1.30it/s]\u001b[A\n",
            " 61%|██████    | 85/140 [01:05<00:42,  1.30it/s]\u001b[A\n",
            " 61%|██████▏   | 86/140 [01:06<00:41,  1.31it/s]\u001b[A\n",
            " 62%|██████▏   | 87/140 [01:07<00:40,  1.31it/s]\u001b[A\n",
            " 63%|██████▎   | 88/140 [01:07<00:39,  1.31it/s]\u001b[A\n",
            " 64%|██████▎   | 89/140 [01:08<00:39,  1.30it/s]\u001b[A\n",
            " 64%|██████▍   | 90/140 [01:09<00:38,  1.31it/s]\u001b[A\n",
            " 65%|██████▌   | 91/140 [01:10<00:37,  1.30it/s]\u001b[A\n",
            " 66%|██████▌   | 92/140 [01:11<00:36,  1.30it/s]\u001b[A\n",
            " 66%|██████▋   | 93/140 [01:11<00:35,  1.31it/s]\u001b[A\n",
            " 67%|██████▋   | 94/140 [01:12<00:35,  1.31it/s]\u001b[A\n",
            " 68%|██████▊   | 95/140 [01:13<00:34,  1.32it/s]\u001b[A\n",
            " 69%|██████▊   | 96/140 [01:14<00:33,  1.32it/s]\u001b[A\n",
            " 69%|██████▉   | 97/140 [01:14<00:32,  1.32it/s]\u001b[A\n",
            " 70%|███████   | 98/140 [01:15<00:31,  1.32it/s]\u001b[A\n",
            " 71%|███████   | 99/140 [01:16<00:31,  1.32it/s]\u001b[A\n",
            " 71%|███████▏  | 100/140 [01:17<00:30,  1.32it/s]\u001b[A\n",
            " 72%|███████▏  | 101/140 [01:17<00:29,  1.31it/s]\u001b[A\n",
            " 73%|███████▎  | 102/140 [01:18<00:29,  1.31it/s]\u001b[A\n",
            " 74%|███████▎  | 103/140 [01:19<00:28,  1.31it/s]\u001b[A\n",
            " 74%|███████▍  | 104/140 [01:20<00:27,  1.30it/s]\u001b[A\n",
            " 75%|███████▌  | 105/140 [01:20<00:26,  1.31it/s]\u001b[A\n",
            " 76%|███████▌  | 106/140 [01:21<00:25,  1.31it/s]\u001b[A\n",
            " 76%|███████▋  | 107/140 [01:22<00:25,  1.31it/s]\u001b[A\n",
            " 77%|███████▋  | 108/140 [01:23<00:24,  1.31it/s]\u001b[A\n",
            " 78%|███████▊  | 109/140 [01:24<00:23,  1.31it/s]\u001b[A\n",
            " 79%|███████▊  | 110/140 [01:24<00:22,  1.31it/s]\u001b[A\n",
            " 79%|███████▉  | 111/140 [01:25<00:22,  1.31it/s]\u001b[A\n",
            " 80%|████████  | 112/140 [01:26<00:21,  1.31it/s]\u001b[A\n",
            " 81%|████████  | 113/140 [01:27<00:20,  1.30it/s]\u001b[A\n",
            " 81%|████████▏ | 114/140 [01:27<00:20,  1.30it/s]\u001b[A\n",
            " 82%|████████▏ | 115/140 [01:28<00:19,  1.30it/s]\u001b[A\n",
            " 83%|████████▎ | 116/140 [01:29<00:18,  1.30it/s]\u001b[A\n",
            " 84%|████████▎ | 117/140 [01:30<00:17,  1.29it/s]\u001b[A\n",
            " 84%|████████▍ | 118/140 [01:30<00:17,  1.28it/s]\u001b[A\n",
            " 85%|████████▌ | 119/140 [01:31<00:16,  1.29it/s]\u001b[A\n",
            " 86%|████████▌ | 120/140 [01:32<00:15,  1.29it/s]\u001b[A\n",
            " 86%|████████▋ | 121/140 [01:33<00:14,  1.29it/s]\u001b[A\n",
            " 87%|████████▋ | 122/140 [01:34<00:13,  1.30it/s]\u001b[A\n",
            " 88%|████████▊ | 123/140 [01:34<00:13,  1.30it/s]\u001b[A\n",
            " 89%|████████▊ | 124/140 [01:35<00:12,  1.30it/s]\u001b[A\n",
            " 89%|████████▉ | 125/140 [01:36<00:11,  1.30it/s]\u001b[A\n",
            " 90%|█████████ | 126/140 [01:37<00:10,  1.30it/s]\u001b[A\n",
            " 91%|█████████ | 127/140 [01:37<00:09,  1.31it/s]\u001b[A\n",
            " 91%|█████████▏| 128/140 [01:38<00:09,  1.30it/s]\u001b[A\n",
            " 92%|█████████▏| 129/140 [01:39<00:08,  1.30it/s]\u001b[A\n",
            " 93%|█████████▎| 130/140 [01:40<00:07,  1.30it/s]\u001b[A\n",
            " 94%|█████████▎| 131/140 [01:40<00:06,  1.30it/s]\u001b[A\n",
            " 94%|█████████▍| 132/140 [01:41<00:06,  1.30it/s]\u001b[A\n",
            " 95%|█████████▌| 133/140 [01:42<00:05,  1.31it/s]\u001b[A\n",
            " 96%|█████████▌| 134/140 [01:43<00:04,  1.31it/s]\u001b[A\n",
            " 96%|█████████▋| 135/140 [01:43<00:03,  1.31it/s]\u001b[A\n",
            " 97%|█████████▋| 136/140 [01:44<00:03,  1.31it/s]\u001b[A\n",
            " 98%|█████████▊| 137/140 [01:45<00:02,  1.31it/s]\u001b[A\n",
            " 99%|█████████▊| 138/140 [01:46<00:01,  1.31it/s]\u001b[A\n",
            " 99%|█████████▉| 139/140 [01:47<00:00,  1.31it/s]\u001b[A\n",
            "100%|██████████| 140/140 [01:47<00:00,  1.30it/s]\n",
            " 20%|██        | 1/5 [02:13<08:54, 133.72s/it]"
          ]
        },
        {
          "output_type": "stream",
          "name": "stdout",
          "text": [
            "Epoch : 0 \tTraining Loss: 38.598718 \tValidation Loss 32.267852\n"
          ]
        },
        {
          "output_type": "stream",
          "name": "stderr",
          "text": [
            "\n",
            "  0%|          | 0/140 [00:00<?, ?it/s]\u001b[A\n",
            "  1%|          | 1/140 [00:00<01:45,  1.32it/s]\u001b[A\n",
            "  1%|▏         | 2/140 [00:01<01:43,  1.33it/s]\u001b[A\n",
            "  2%|▏         | 3/140 [00:02<01:44,  1.31it/s]\u001b[A\n",
            "  3%|▎         | 4/140 [00:03<01:42,  1.32it/s]\u001b[A\n",
            "  4%|▎         | 5/140 [00:03<01:43,  1.31it/s]\u001b[A\n",
            "  4%|▍         | 6/140 [00:04<01:42,  1.31it/s]\u001b[A\n",
            "  5%|▌         | 7/140 [00:05<01:41,  1.31it/s]\u001b[A\n",
            "  6%|▌         | 8/140 [00:06<01:39,  1.32it/s]\u001b[A\n",
            "  6%|▋         | 9/140 [00:06<01:39,  1.32it/s]\u001b[A\n",
            "  7%|▋         | 10/140 [00:07<01:38,  1.32it/s]\u001b[A\n",
            "  8%|▊         | 11/140 [00:08<01:37,  1.32it/s]\u001b[A\n",
            "  9%|▊         | 12/140 [00:09<01:37,  1.32it/s]\u001b[A\n",
            "  9%|▉         | 13/140 [00:09<01:36,  1.32it/s]\u001b[A\n",
            " 10%|█         | 14/140 [00:10<01:35,  1.32it/s]\u001b[A\n",
            " 11%|█         | 15/140 [00:11<01:34,  1.32it/s]\u001b[A\n",
            " 11%|█▏        | 16/140 [00:12<01:33,  1.32it/s]\u001b[A\n",
            " 12%|█▏        | 17/140 [00:12<01:33,  1.32it/s]\u001b[A\n",
            " 13%|█▎        | 18/140 [00:13<01:32,  1.32it/s]\u001b[A\n",
            " 14%|█▎        | 19/140 [00:14<01:32,  1.31it/s]\u001b[A\n",
            " 14%|█▍        | 20/140 [00:15<01:31,  1.32it/s]\u001b[A\n",
            " 15%|█▌        | 21/140 [00:15<01:30,  1.32it/s]\u001b[A\n",
            " 16%|█▌        | 22/140 [00:16<01:29,  1.32it/s]\u001b[A\n",
            " 16%|█▋        | 23/140 [00:17<01:28,  1.32it/s]\u001b[A\n",
            " 17%|█▋        | 24/140 [00:18<01:27,  1.32it/s]\u001b[A\n",
            " 18%|█▊        | 25/140 [00:18<01:27,  1.31it/s]\u001b[A\n",
            " 19%|█▊        | 26/140 [00:19<01:27,  1.31it/s]\u001b[A\n",
            " 19%|█▉        | 27/140 [00:20<01:26,  1.30it/s]\u001b[A\n",
            " 20%|██        | 28/140 [00:21<01:25,  1.31it/s]\u001b[A\n",
            " 21%|██        | 29/140 [00:22<01:25,  1.30it/s]\u001b[A\n",
            " 21%|██▏       | 30/140 [00:22<01:24,  1.30it/s]\u001b[A\n",
            " 22%|██▏       | 31/140 [00:23<01:23,  1.30it/s]\u001b[A\n",
            " 23%|██▎       | 32/140 [00:24<01:22,  1.31it/s]\u001b[A\n",
            " 24%|██▎       | 33/140 [00:25<01:21,  1.31it/s]\u001b[A\n",
            " 24%|██▍       | 34/140 [00:25<01:20,  1.31it/s]\u001b[A\n",
            " 25%|██▌       | 35/140 [00:26<01:20,  1.30it/s]\u001b[A\n",
            " 26%|██▌       | 36/140 [00:27<01:19,  1.31it/s]\u001b[A\n",
            " 26%|██▋       | 37/140 [00:28<01:18,  1.31it/s]\u001b[A\n",
            " 27%|██▋       | 38/140 [00:28<01:17,  1.32it/s]\u001b[A\n",
            " 28%|██▊       | 39/140 [00:29<01:16,  1.31it/s]\u001b[A\n",
            " 29%|██▊       | 40/140 [00:30<01:16,  1.31it/s]\u001b[A\n",
            " 29%|██▉       | 41/140 [00:31<01:15,  1.31it/s]\u001b[A\n",
            " 30%|███       | 42/140 [00:31<01:14,  1.31it/s]\u001b[A\n",
            " 31%|███       | 43/140 [00:32<01:14,  1.29it/s]\u001b[A\n",
            " 31%|███▏      | 44/140 [00:33<01:13,  1.30it/s]\u001b[A\n",
            " 32%|███▏      | 45/140 [00:34<01:13,  1.30it/s]\u001b[A\n",
            " 33%|███▎      | 46/140 [00:35<01:11,  1.31it/s]\u001b[A\n",
            " 34%|███▎      | 47/140 [00:35<01:11,  1.30it/s]\u001b[A\n",
            " 34%|███▍      | 48/140 [00:36<01:10,  1.31it/s]\u001b[A\n",
            " 35%|███▌      | 49/140 [00:37<01:09,  1.31it/s]\u001b[A\n",
            " 36%|███▌      | 50/140 [00:38<01:08,  1.32it/s]\u001b[A\n",
            " 36%|███▋      | 51/140 [00:38<01:07,  1.31it/s]\u001b[A\n",
            " 37%|███▋      | 52/140 [00:39<01:06,  1.32it/s]\u001b[A\n",
            " 38%|███▊      | 53/140 [00:40<01:06,  1.31it/s]\u001b[A\n",
            " 39%|███▊      | 54/140 [00:41<01:05,  1.32it/s]\u001b[A\n",
            " 39%|███▉      | 55/140 [00:41<01:05,  1.31it/s]\u001b[A\n",
            " 40%|████      | 56/140 [00:42<01:03,  1.32it/s]\u001b[A\n",
            " 41%|████      | 57/140 [00:43<01:03,  1.32it/s]\u001b[A\n",
            " 41%|████▏     | 58/140 [00:44<01:02,  1.32it/s]\u001b[A\n",
            " 42%|████▏     | 59/140 [00:44<01:01,  1.32it/s]\u001b[A\n",
            " 43%|████▎     | 60/140 [00:45<01:01,  1.31it/s]\u001b[A\n",
            " 44%|████▎     | 61/140 [00:46<01:00,  1.32it/s]\u001b[A\n",
            " 44%|████▍     | 62/140 [00:47<00:58,  1.33it/s]\u001b[A\n",
            " 45%|████▌     | 63/140 [00:47<00:58,  1.32it/s]\u001b[A\n",
            " 46%|████▌     | 64/140 [00:48<00:57,  1.33it/s]\u001b[A\n",
            " 46%|████▋     | 65/140 [00:49<00:56,  1.32it/s]\u001b[A\n",
            " 47%|████▋     | 66/140 [00:50<00:55,  1.33it/s]\u001b[A\n",
            " 48%|████▊     | 67/140 [00:50<00:55,  1.32it/s]\u001b[A\n",
            " 49%|████▊     | 68/140 [00:51<00:54,  1.33it/s]\u001b[A\n",
            " 49%|████▉     | 69/140 [00:52<00:53,  1.32it/s]\u001b[A\n",
            " 50%|█████     | 70/140 [00:53<00:52,  1.33it/s]\u001b[A\n",
            " 51%|█████     | 71/140 [00:54<00:52,  1.31it/s]\u001b[A\n",
            " 51%|█████▏    | 72/140 [00:54<00:51,  1.31it/s]\u001b[A\n",
            " 52%|█████▏    | 73/140 [00:55<00:51,  1.31it/s]\u001b[A\n",
            " 53%|█████▎    | 74/140 [00:56<00:50,  1.31it/s]\u001b[A\n",
            " 54%|█████▎    | 75/140 [00:57<00:50,  1.30it/s]\u001b[A\n",
            " 54%|█████▍    | 76/140 [00:57<00:49,  1.31it/s]\u001b[A\n",
            " 55%|█████▌    | 77/140 [00:58<00:48,  1.30it/s]\u001b[A\n",
            " 56%|█████▌    | 78/140 [00:59<00:47,  1.31it/s]\u001b[A\n",
            " 56%|█████▋    | 79/140 [01:00<00:47,  1.30it/s]\u001b[A\n",
            " 57%|█████▋    | 80/140 [01:00<00:45,  1.31it/s]\u001b[A\n",
            " 58%|█████▊    | 81/140 [01:01<00:45,  1.30it/s]\u001b[A\n",
            " 59%|█████▊    | 82/140 [01:02<00:44,  1.31it/s]\u001b[A\n",
            " 59%|█████▉    | 83/140 [01:03<00:43,  1.31it/s]\u001b[A\n",
            " 60%|██████    | 84/140 [01:03<00:42,  1.32it/s]\u001b[A\n",
            " 61%|██████    | 85/140 [01:04<00:41,  1.31it/s]\u001b[A\n",
            " 61%|██████▏   | 86/140 [01:05<00:40,  1.33it/s]\u001b[A\n",
            " 62%|██████▏   | 87/140 [01:06<00:40,  1.32it/s]\u001b[A\n",
            " 63%|██████▎   | 88/140 [01:06<00:39,  1.33it/s]\u001b[A\n",
            " 64%|██████▎   | 89/140 [01:07<00:38,  1.31it/s]\u001b[A\n",
            " 64%|██████▍   | 90/140 [01:08<00:37,  1.32it/s]\u001b[A\n",
            " 65%|██████▌   | 91/140 [01:09<00:37,  1.31it/s]\u001b[A\n",
            " 66%|██████▌   | 92/140 [01:10<00:36,  1.32it/s]\u001b[A\n",
            " 66%|██████▋   | 93/140 [01:10<00:35,  1.31it/s]\u001b[A\n",
            " 67%|██████▋   | 94/140 [01:11<00:34,  1.32it/s]\u001b[A\n",
            " 68%|██████▊   | 95/140 [01:12<00:34,  1.30it/s]\u001b[A\n",
            " 69%|██████▊   | 96/140 [01:13<00:33,  1.31it/s]\u001b[A\n",
            " 69%|██████▉   | 97/140 [01:13<00:32,  1.31it/s]\u001b[A\n",
            " 70%|███████   | 98/140 [01:14<00:31,  1.32it/s]\u001b[A\n",
            " 71%|███████   | 99/140 [01:15<00:31,  1.30it/s]\u001b[A\n",
            " 71%|███████▏  | 100/140 [01:16<00:30,  1.32it/s]\u001b[A\n",
            " 72%|███████▏  | 101/140 [01:16<00:29,  1.32it/s]\u001b[A\n",
            " 73%|███████▎  | 102/140 [01:17<00:28,  1.32it/s]\u001b[A\n",
            " 74%|███████▎  | 103/140 [01:18<00:28,  1.32it/s]\u001b[A\n",
            " 74%|███████▍  | 104/140 [01:19<00:27,  1.32it/s]\u001b[A\n",
            " 75%|███████▌  | 105/140 [01:19<00:26,  1.32it/s]\u001b[A\n",
            " 76%|███████▌  | 106/140 [01:20<00:25,  1.31it/s]\u001b[A\n",
            " 76%|███████▋  | 107/140 [01:21<00:25,  1.31it/s]\u001b[A\n",
            " 77%|███████▋  | 108/140 [01:22<00:24,  1.31it/s]\u001b[A\n",
            " 78%|███████▊  | 109/140 [01:22<00:23,  1.31it/s]\u001b[A\n",
            " 79%|███████▊  | 110/140 [01:23<00:23,  1.30it/s]\u001b[A\n",
            " 79%|███████▉  | 111/140 [01:24<00:22,  1.30it/s]\u001b[A\n",
            " 80%|████████  | 112/140 [01:25<00:21,  1.32it/s]\u001b[A\n",
            " 81%|████████  | 113/140 [01:26<00:20,  1.32it/s]\u001b[A\n",
            " 81%|████████▏ | 114/140 [01:26<00:19,  1.32it/s]\u001b[A\n",
            " 82%|████████▏ | 115/140 [01:27<00:19,  1.30it/s]\u001b[A\n",
            " 83%|████████▎ | 116/140 [01:28<00:18,  1.30it/s]\u001b[A\n",
            " 84%|████████▎ | 117/140 [01:29<00:17,  1.29it/s]\u001b[A\n",
            " 84%|████████▍ | 118/140 [01:29<00:16,  1.29it/s]\u001b[A\n",
            " 85%|████████▌ | 119/140 [01:30<00:16,  1.29it/s]\u001b[A\n",
            " 86%|████████▌ | 120/140 [01:31<00:15,  1.30it/s]\u001b[A\n",
            " 86%|████████▋ | 121/140 [01:32<00:14,  1.29it/s]\u001b[A\n",
            " 87%|████████▋ | 122/140 [01:32<00:13,  1.30it/s]\u001b[A\n",
            " 88%|████████▊ | 123/140 [01:33<00:13,  1.29it/s]\u001b[A\n",
            " 89%|████████▊ | 124/140 [01:34<00:12,  1.31it/s]\u001b[A\n",
            " 89%|████████▉ | 125/140 [01:35<00:11,  1.29it/s]\u001b[A\n",
            " 90%|█████████ | 126/140 [01:36<00:10,  1.30it/s]\u001b[A\n",
            " 91%|█████████ | 127/140 [01:36<00:10,  1.30it/s]\u001b[A\n",
            " 91%|█████████▏| 128/140 [01:37<00:09,  1.30it/s]\u001b[A\n",
            " 92%|█████████▏| 129/140 [01:38<00:08,  1.30it/s]\u001b[A\n",
            " 93%|█████████▎| 130/140 [01:39<00:07,  1.31it/s]\u001b[A\n",
            " 94%|█████████▎| 131/140 [01:39<00:06,  1.31it/s]\u001b[A\n",
            " 94%|█████████▍| 132/140 [01:40<00:06,  1.32it/s]\u001b[A\n",
            " 95%|█████████▌| 133/140 [01:41<00:05,  1.31it/s]\u001b[A\n",
            " 96%|█████████▌| 134/140 [01:42<00:04,  1.32it/s]\u001b[A\n",
            " 96%|█████████▋| 135/140 [01:42<00:03,  1.32it/s]\u001b[A\n",
            " 97%|█████████▋| 136/140 [01:43<00:03,  1.31it/s]\u001b[A\n",
            " 98%|█████████▊| 137/140 [01:44<00:02,  1.31it/s]\u001b[A\n",
            " 99%|█████████▊| 138/140 [01:45<00:01,  1.31it/s]\u001b[A\n",
            " 99%|█████████▉| 139/140 [01:45<00:00,  1.31it/s]\u001b[A\n",
            "100%|██████████| 140/140 [01:46<00:00,  1.31it/s]\n",
            " 40%|████      | 2/5 [04:26<06:39, 133.08s/it]"
          ]
        },
        {
          "output_type": "stream",
          "name": "stdout",
          "text": [
            "Epoch : 1 \tTraining Loss: 29.943269 \tValidation Loss 27.894802\n"
          ]
        },
        {
          "output_type": "stream",
          "name": "stderr",
          "text": [
            "\n",
            "  0%|          | 0/140 [00:00<?, ?it/s]\u001b[A\n",
            "  1%|          | 1/140 [00:00<01:44,  1.32it/s]\u001b[A\n",
            "  1%|▏         | 2/140 [00:01<01:45,  1.31it/s]\u001b[A\n",
            "  2%|▏         | 3/140 [00:02<01:45,  1.30it/s]\u001b[A\n",
            "  3%|▎         | 4/140 [00:03<01:44,  1.30it/s]\u001b[A\n",
            "  4%|▎         | 5/140 [00:03<01:43,  1.30it/s]\u001b[A\n",
            "  4%|▍         | 6/140 [00:04<01:43,  1.29it/s]\u001b[A\n",
            "  5%|▌         | 7/140 [00:05<01:41,  1.31it/s]\u001b[A\n",
            "  6%|▌         | 8/140 [00:06<01:40,  1.31it/s]\u001b[A\n",
            "  6%|▋         | 9/140 [00:06<01:39,  1.31it/s]\u001b[A\n",
            "  7%|▋         | 10/140 [00:07<01:39,  1.31it/s]\u001b[A\n",
            "  8%|▊         | 11/140 [00:08<01:39,  1.29it/s]\u001b[A\n",
            "  9%|▊         | 12/140 [00:09<01:38,  1.30it/s]\u001b[A\n",
            "  9%|▉         | 13/140 [00:09<01:37,  1.31it/s]\u001b[A\n",
            " 10%|█         | 14/140 [00:10<01:36,  1.30it/s]\u001b[A\n",
            " 11%|█         | 15/140 [00:11<01:35,  1.31it/s]\u001b[A\n",
            " 11%|█▏        | 16/140 [00:12<01:34,  1.31it/s]\u001b[A\n",
            " 12%|█▏        | 17/140 [00:13<01:33,  1.31it/s]\u001b[A\n",
            " 13%|█▎        | 18/140 [00:13<01:33,  1.30it/s]\u001b[A\n",
            " 14%|█▎        | 19/140 [00:14<01:32,  1.31it/s]\u001b[A\n",
            " 14%|█▍        | 20/140 [00:15<01:31,  1.30it/s]\u001b[A\n",
            " 15%|█▌        | 21/140 [00:16<01:31,  1.30it/s]\u001b[A\n",
            " 16%|█▌        | 22/140 [00:16<01:30,  1.30it/s]\u001b[A\n",
            " 16%|█▋        | 23/140 [00:17<01:29,  1.31it/s]\u001b[A\n",
            " 17%|█▋        | 24/140 [00:18<01:28,  1.31it/s]\u001b[A\n",
            " 18%|█▊        | 25/140 [00:19<01:28,  1.30it/s]\u001b[A\n",
            " 19%|█▊        | 26/140 [00:19<01:27,  1.30it/s]\u001b[A\n",
            " 19%|█▉        | 27/140 [00:20<01:27,  1.30it/s]\u001b[A\n",
            " 20%|██        | 28/140 [00:21<01:25,  1.31it/s]\u001b[A\n",
            " 21%|██        | 29/140 [00:22<01:24,  1.31it/s]\u001b[A\n",
            " 21%|██▏       | 30/140 [00:22<01:23,  1.31it/s]\u001b[A\n",
            " 22%|██▏       | 31/140 [00:23<01:23,  1.31it/s]\u001b[A\n",
            " 23%|██▎       | 32/140 [00:24<01:22,  1.30it/s]\u001b[A\n",
            " 24%|██▎       | 33/140 [00:25<01:22,  1.30it/s]\u001b[A\n",
            " 24%|██▍       | 34/140 [00:26<01:21,  1.30it/s]\u001b[A\n",
            " 25%|██▌       | 35/140 [00:26<01:20,  1.31it/s]\u001b[A\n",
            " 26%|██▌       | 36/140 [00:27<01:19,  1.31it/s]\u001b[A\n",
            " 26%|██▋       | 37/140 [00:28<01:18,  1.32it/s]\u001b[A\n",
            " 27%|██▋       | 38/140 [00:29<01:17,  1.31it/s]\u001b[A\n",
            " 28%|██▊       | 39/140 [00:29<01:16,  1.31it/s]\u001b[A\n",
            " 29%|██▊       | 40/140 [00:30<01:16,  1.31it/s]\u001b[A\n",
            " 29%|██▉       | 41/140 [00:31<01:15,  1.31it/s]\u001b[A\n",
            " 30%|███       | 42/140 [00:32<01:14,  1.31it/s]\u001b[A\n",
            " 31%|███       | 43/140 [00:32<01:13,  1.32it/s]\u001b[A\n",
            " 31%|███▏      | 44/140 [00:33<01:12,  1.32it/s]\u001b[A\n",
            " 32%|███▏      | 45/140 [00:34<01:12,  1.31it/s]\u001b[A\n",
            " 33%|███▎      | 46/140 [00:35<01:11,  1.32it/s]\u001b[A\n",
            " 34%|███▎      | 47/140 [00:35<01:10,  1.32it/s]\u001b[A\n",
            " 34%|███▍      | 48/140 [00:36<01:09,  1.32it/s]\u001b[A\n",
            " 35%|███▌      | 49/140 [00:37<01:09,  1.31it/s]\u001b[A\n",
            " 36%|███▌      | 50/140 [00:38<01:09,  1.30it/s]\u001b[A\n",
            " 36%|███▋      | 51/140 [00:39<01:08,  1.31it/s]\u001b[A\n",
            " 37%|███▋      | 52/140 [00:39<01:07,  1.30it/s]\u001b[A\n",
            " 38%|███▊      | 53/140 [00:40<01:07,  1.29it/s]\u001b[A\n",
            " 39%|███▊      | 54/140 [00:41<01:06,  1.30it/s]\u001b[A\n",
            " 39%|███▉      | 55/140 [00:42<01:05,  1.30it/s]\u001b[A\n",
            " 40%|████      | 56/140 [00:42<01:04,  1.30it/s]\u001b[A\n",
            " 41%|████      | 57/140 [00:43<01:03,  1.30it/s]\u001b[A\n",
            " 41%|████▏     | 58/140 [00:44<01:02,  1.31it/s]\u001b[A\n",
            " 42%|████▏     | 59/140 [00:45<01:01,  1.31it/s]\u001b[A\n",
            " 43%|████▎     | 60/140 [00:45<01:00,  1.31it/s]\u001b[A\n",
            " 44%|████▎     | 61/140 [00:46<01:00,  1.31it/s]\u001b[A\n",
            " 44%|████▍     | 62/140 [00:47<00:59,  1.32it/s]\u001b[A\n",
            " 45%|████▌     | 63/140 [00:48<00:58,  1.31it/s]\u001b[A\n",
            " 46%|████▌     | 64/140 [00:48<00:57,  1.32it/s]\u001b[A\n",
            " 46%|████▋     | 65/140 [00:49<00:57,  1.31it/s]\u001b[A\n",
            " 47%|████▋     | 66/140 [00:50<00:56,  1.32it/s]\u001b[A\n",
            " 48%|████▊     | 67/140 [00:51<00:55,  1.31it/s]\u001b[A\n",
            " 49%|████▊     | 68/140 [00:51<00:54,  1.32it/s]\u001b[A\n",
            " 49%|████▉     | 69/140 [00:52<00:54,  1.31it/s]\u001b[A\n",
            " 50%|█████     | 70/140 [00:53<00:53,  1.30it/s]\u001b[A\n",
            " 51%|█████     | 71/140 [00:54<00:52,  1.31it/s]\u001b[A\n",
            " 51%|█████▏    | 72/140 [00:55<00:52,  1.31it/s]\u001b[A\n",
            " 52%|█████▏    | 73/140 [00:55<00:51,  1.31it/s]\u001b[A\n",
            " 53%|█████▎    | 74/140 [00:56<00:50,  1.31it/s]\u001b[A\n",
            " 54%|█████▎    | 75/140 [00:57<00:49,  1.30it/s]\u001b[A\n",
            " 54%|█████▍    | 76/140 [00:58<00:49,  1.30it/s]\u001b[A\n",
            " 55%|█████▌    | 77/140 [00:58<00:48,  1.30it/s]\u001b[A\n",
            " 56%|█████▌    | 78/140 [00:59<00:47,  1.30it/s]\u001b[A\n",
            " 56%|█████▋    | 79/140 [01:00<00:46,  1.30it/s]\u001b[A\n",
            " 57%|█████▋    | 80/140 [01:01<00:46,  1.30it/s]\u001b[A\n",
            " 58%|█████▊    | 81/140 [01:01<00:45,  1.30it/s]\u001b[A\n",
            " 59%|█████▊    | 82/140 [01:02<00:44,  1.30it/s]\u001b[A\n",
            " 59%|█████▉    | 83/140 [01:03<00:43,  1.30it/s]\u001b[A\n",
            " 60%|██████    | 84/140 [01:04<00:43,  1.30it/s]\u001b[A\n",
            " 61%|██████    | 85/140 [01:05<00:42,  1.30it/s]\u001b[A\n",
            " 61%|██████▏   | 86/140 [01:05<00:41,  1.29it/s]\u001b[A\n",
            " 62%|██████▏   | 87/140 [01:06<00:41,  1.29it/s]\u001b[A\n",
            " 63%|██████▎   | 88/140 [01:07<00:40,  1.29it/s]\u001b[A\n",
            " 64%|██████▎   | 89/140 [01:08<00:39,  1.29it/s]\u001b[A\n",
            " 64%|██████▍   | 90/140 [01:08<00:38,  1.29it/s]\u001b[A\n",
            " 65%|██████▌   | 91/140 [01:09<00:38,  1.29it/s]\u001b[A\n",
            " 66%|██████▌   | 92/140 [01:10<00:36,  1.30it/s]\u001b[A\n",
            " 66%|██████▋   | 93/140 [01:11<00:36,  1.30it/s]\u001b[A\n",
            " 67%|██████▋   | 94/140 [01:12<00:35,  1.30it/s]\u001b[A\n",
            " 68%|██████▊   | 95/140 [01:12<00:34,  1.31it/s]\u001b[A\n",
            " 69%|██████▊   | 96/140 [01:13<00:33,  1.31it/s]\u001b[A\n",
            " 69%|██████▉   | 97/140 [01:14<00:32,  1.31it/s]\u001b[A\n",
            " 70%|███████   | 98/140 [01:15<00:31,  1.31it/s]\u001b[A\n",
            " 71%|███████   | 99/140 [01:15<00:31,  1.31it/s]\u001b[A\n",
            " 71%|███████▏  | 100/140 [01:16<00:30,  1.30it/s]\u001b[A\n",
            " 72%|███████▏  | 101/140 [01:17<00:29,  1.31it/s]\u001b[A\n",
            " 73%|███████▎  | 102/140 [01:18<00:29,  1.31it/s]\u001b[A\n",
            " 74%|███████▎  | 103/140 [01:18<00:28,  1.31it/s]\u001b[A\n",
            " 74%|███████▍  | 104/140 [01:19<00:27,  1.31it/s]\u001b[A\n",
            " 75%|███████▌  | 105/140 [01:20<00:26,  1.31it/s]\u001b[A\n",
            " 76%|███████▌  | 106/140 [01:21<00:25,  1.31it/s]\u001b[A\n",
            " 76%|███████▋  | 107/140 [01:21<00:25,  1.30it/s]\u001b[A\n",
            " 77%|███████▋  | 108/140 [01:22<00:24,  1.30it/s]\u001b[A\n",
            " 78%|███████▊  | 109/140 [01:23<00:23,  1.31it/s]\u001b[A\n",
            " 79%|███████▊  | 110/140 [01:24<00:22,  1.31it/s]\u001b[A\n",
            " 79%|███████▉  | 111/140 [01:25<00:22,  1.30it/s]\u001b[A\n",
            " 80%|████████  | 112/140 [01:25<00:21,  1.30it/s]\u001b[A\n",
            " 81%|████████  | 113/140 [01:26<00:20,  1.29it/s]\u001b[A\n",
            " 81%|████████▏ | 114/140 [01:27<00:19,  1.30it/s]\u001b[A\n",
            " 82%|████████▏ | 115/140 [01:28<00:19,  1.30it/s]\u001b[A\n",
            " 83%|████████▎ | 116/140 [01:28<00:18,  1.31it/s]\u001b[A\n",
            " 84%|████████▎ | 117/140 [01:29<00:17,  1.31it/s]\u001b[A\n",
            " 84%|████████▍ | 118/140 [01:30<00:16,  1.31it/s]\u001b[A\n",
            " 85%|████████▌ | 119/140 [01:31<00:16,  1.31it/s]\u001b[A\n",
            " 86%|████████▌ | 120/140 [01:31<00:15,  1.31it/s]\u001b[A\n",
            " 86%|████████▋ | 121/140 [01:32<00:14,  1.31it/s]\u001b[A\n",
            " 87%|████████▋ | 122/140 [01:33<00:13,  1.31it/s]\u001b[A\n",
            " 88%|████████▊ | 123/140 [01:34<00:12,  1.31it/s]\u001b[A\n",
            " 89%|████████▊ | 124/140 [01:34<00:12,  1.31it/s]\u001b[A\n",
            " 89%|████████▉ | 125/140 [01:35<00:11,  1.32it/s]\u001b[A\n",
            " 90%|█████████ | 126/140 [01:36<00:10,  1.32it/s]\u001b[A\n",
            " 91%|█████████ | 127/140 [01:37<00:09,  1.32it/s]\u001b[A\n",
            " 91%|█████████▏| 128/140 [01:37<00:09,  1.32it/s]\u001b[A\n",
            " 92%|█████████▏| 129/140 [01:38<00:08,  1.33it/s]\u001b[A\n",
            " 93%|█████████▎| 130/140 [01:39<00:07,  1.32it/s]\u001b[A\n",
            " 94%|█████████▎| 131/140 [01:40<00:06,  1.32it/s]\u001b[A\n",
            " 94%|█████████▍| 132/140 [01:41<00:06,  1.32it/s]\u001b[A\n",
            " 95%|█████████▌| 133/140 [01:41<00:05,  1.32it/s]\u001b[A\n",
            " 96%|█████████▌| 134/140 [01:42<00:04,  1.31it/s]\u001b[A\n",
            " 96%|█████████▋| 135/140 [01:43<00:03,  1.31it/s]\u001b[A\n",
            " 97%|█████████▋| 136/140 [01:44<00:03,  1.31it/s]\u001b[A\n",
            " 98%|█████████▊| 137/140 [01:44<00:02,  1.31it/s]\u001b[A\n",
            " 99%|█████████▊| 138/140 [01:45<00:01,  1.31it/s]\u001b[A\n",
            " 99%|█████████▉| 139/140 [01:46<00:00,  1.31it/s]\u001b[A\n",
            "100%|██████████| 140/140 [01:47<00:00,  1.31it/s]\n",
            " 60%|██████    | 3/5 [06:39<04:26, 133.06s/it]"
          ]
        },
        {
          "output_type": "stream",
          "name": "stdout",
          "text": [
            "Epoch : 2 \tTraining Loss: 27.154134 \tValidation Loss 26.453198\n"
          ]
        },
        {
          "output_type": "stream",
          "name": "stderr",
          "text": [
            "\n",
            "  0%|          | 0/140 [00:00<?, ?it/s]\u001b[A\n",
            "  1%|          | 1/140 [00:00<01:44,  1.33it/s]\u001b[A\n",
            "  1%|▏         | 2/140 [00:01<01:46,  1.30it/s]\u001b[A\n",
            "  2%|▏         | 3/140 [00:02<01:43,  1.33it/s]\u001b[A\n",
            "  3%|▎         | 4/140 [00:03<01:43,  1.31it/s]\u001b[A\n",
            "  4%|▎         | 5/140 [00:03<01:43,  1.30it/s]\u001b[A\n",
            "  4%|▍         | 6/140 [00:04<01:42,  1.31it/s]\u001b[A\n",
            "  5%|▌         | 7/140 [00:05<01:41,  1.31it/s]\u001b[A\n",
            "  6%|▌         | 8/140 [00:06<01:40,  1.31it/s]\u001b[A\n",
            "  6%|▋         | 9/140 [00:06<01:40,  1.31it/s]\u001b[A\n",
            "  7%|▋         | 10/140 [00:07<01:40,  1.30it/s]\u001b[A\n",
            "  8%|▊         | 11/140 [00:08<01:39,  1.30it/s]\u001b[A\n",
            "  9%|▊         | 12/140 [00:09<01:38,  1.30it/s]\u001b[A\n",
            "  9%|▉         | 13/140 [00:09<01:36,  1.31it/s]\u001b[A\n",
            " 10%|█         | 14/140 [00:10<01:36,  1.30it/s]\u001b[A\n",
            " 11%|█         | 15/140 [00:11<01:35,  1.31it/s]\u001b[A\n",
            " 11%|█▏        | 16/140 [00:12<01:35,  1.31it/s]\u001b[A\n",
            " 12%|█▏        | 17/140 [00:12<01:33,  1.31it/s]\u001b[A\n",
            " 13%|█▎        | 18/140 [00:13<01:33,  1.30it/s]\u001b[A\n",
            " 14%|█▎        | 19/140 [00:14<01:32,  1.30it/s]\u001b[A\n",
            " 14%|█▍        | 20/140 [00:15<01:32,  1.30it/s]\u001b[A\n",
            " 15%|█▌        | 21/140 [00:16<01:32,  1.29it/s]\u001b[A\n",
            " 16%|█▌        | 22/140 [00:16<01:31,  1.29it/s]\u001b[A\n",
            " 16%|█▋        | 23/140 [00:17<01:29,  1.30it/s]\u001b[A\n",
            " 17%|█▋        | 24/140 [00:18<01:29,  1.29it/s]\u001b[A\n",
            " 18%|█▊        | 25/140 [00:19<01:28,  1.30it/s]\u001b[A\n",
            " 19%|█▊        | 26/140 [00:19<01:28,  1.29it/s]\u001b[A\n",
            " 19%|█▉        | 27/140 [00:20<01:26,  1.30it/s]\u001b[A\n",
            " 20%|██        | 28/140 [00:21<01:26,  1.30it/s]\u001b[A\n",
            " 21%|██        | 29/140 [00:22<01:25,  1.30it/s]\u001b[A\n",
            " 21%|██▏       | 30/140 [00:23<01:24,  1.30it/s]\u001b[A\n",
            " 22%|██▏       | 31/140 [00:23<01:23,  1.31it/s]\u001b[A\n",
            " 23%|██▎       | 32/140 [00:24<01:22,  1.31it/s]\u001b[A\n",
            " 24%|██▎       | 33/140 [00:25<01:22,  1.30it/s]\u001b[A\n",
            " 24%|██▍       | 34/140 [00:26<01:21,  1.30it/s]\u001b[A\n",
            " 25%|██▌       | 35/140 [00:26<01:19,  1.31it/s]\u001b[A\n",
            " 26%|██▌       | 36/140 [00:27<01:19,  1.30it/s]\u001b[A\n",
            " 26%|██▋       | 37/140 [00:28<01:18,  1.31it/s]\u001b[A\n",
            " 27%|██▋       | 38/140 [00:29<01:18,  1.29it/s]\u001b[A\n",
            " 28%|██▊       | 39/140 [00:29<01:17,  1.31it/s]\u001b[A\n",
            " 29%|██▊       | 40/140 [00:30<01:17,  1.30it/s]\u001b[A\n",
            " 29%|██▉       | 41/140 [00:31<01:15,  1.31it/s]\u001b[A\n",
            " 30%|███       | 42/140 [00:32<01:15,  1.30it/s]\u001b[A\n",
            " 31%|███       | 43/140 [00:32<01:14,  1.31it/s]\u001b[A\n",
            " 31%|███▏      | 44/140 [00:33<01:13,  1.31it/s]\u001b[A\n",
            " 32%|███▏      | 45/140 [00:34<01:12,  1.32it/s]\u001b[A\n",
            " 33%|███▎      | 46/140 [00:35<01:11,  1.31it/s]\u001b[A\n",
            " 34%|███▎      | 47/140 [00:36<01:11,  1.31it/s]\u001b[A\n",
            " 34%|███▍      | 48/140 [00:36<01:10,  1.31it/s]\u001b[A\n",
            " 35%|███▌      | 49/140 [00:37<01:09,  1.31it/s]\u001b[A\n",
            " 36%|███▌      | 50/140 [00:38<01:08,  1.31it/s]\u001b[A\n",
            " 36%|███▋      | 51/140 [00:39<01:07,  1.31it/s]\u001b[A\n",
            " 37%|███▋      | 52/140 [00:39<01:07,  1.31it/s]\u001b[A\n",
            " 38%|███▊      | 53/140 [00:40<01:05,  1.33it/s]\u001b[A\n",
            " 39%|███▊      | 54/140 [00:41<01:05,  1.32it/s]\u001b[A\n",
            " 39%|███▉      | 55/140 [00:42<01:04,  1.32it/s]\u001b[A\n",
            " 40%|████      | 56/140 [00:42<01:03,  1.32it/s]\u001b[A\n",
            " 41%|████      | 57/140 [00:43<01:02,  1.32it/s]\u001b[A\n",
            " 41%|████▏     | 58/140 [00:44<01:01,  1.32it/s]\u001b[A\n",
            " 42%|████▏     | 59/140 [00:45<01:00,  1.33it/s]\u001b[A\n",
            " 43%|████▎     | 60/140 [00:45<01:00,  1.32it/s]\u001b[A\n",
            " 44%|████▎     | 61/140 [00:46<00:59,  1.33it/s]\u001b[A\n",
            " 44%|████▍     | 62/140 [00:47<00:59,  1.32it/s]\u001b[A\n",
            " 45%|████▌     | 63/140 [00:48<00:58,  1.33it/s]\u001b[A\n",
            " 46%|████▌     | 64/140 [00:48<00:57,  1.32it/s]\u001b[A\n",
            " 46%|████▋     | 65/140 [00:49<00:56,  1.33it/s]\u001b[A\n",
            " 47%|████▋     | 66/140 [00:50<00:56,  1.30it/s]\u001b[A\n",
            " 48%|████▊     | 67/140 [00:51<00:55,  1.31it/s]\u001b[A\n",
            " 49%|████▊     | 68/140 [00:51<00:55,  1.30it/s]\u001b[A\n",
            " 49%|████▉     | 69/140 [00:52<00:54,  1.31it/s]\u001b[A\n",
            " 50%|█████     | 70/140 [00:53<00:53,  1.30it/s]\u001b[A\n",
            " 51%|█████     | 71/140 [00:54<00:52,  1.31it/s]\u001b[A\n",
            " 51%|█████▏    | 72/140 [00:55<00:52,  1.30it/s]\u001b[A\n",
            " 52%|█████▏    | 73/140 [00:55<00:51,  1.31it/s]\u001b[A\n",
            " 53%|█████▎    | 74/140 [00:56<00:50,  1.31it/s]\u001b[A\n",
            " 54%|█████▎    | 75/140 [00:57<00:49,  1.31it/s]\u001b[A\n",
            " 54%|█████▍    | 76/140 [00:58<00:48,  1.31it/s]\u001b[A\n",
            " 55%|█████▌    | 77/140 [00:58<00:47,  1.31it/s]\u001b[A\n",
            " 56%|█████▌    | 78/140 [00:59<00:47,  1.31it/s]\u001b[A\n",
            " 56%|█████▋    | 79/140 [01:00<00:46,  1.31it/s]\u001b[A\n",
            " 57%|█████▋    | 80/140 [01:01<00:46,  1.29it/s]\u001b[A\n",
            " 58%|█████▊    | 81/140 [01:01<00:45,  1.29it/s]\u001b[A\n",
            " 59%|█████▊    | 82/140 [01:02<00:45,  1.29it/s]\u001b[A\n",
            " 59%|█████▉    | 83/140 [01:03<00:44,  1.29it/s]\u001b[A\n",
            " 60%|██████    | 84/140 [01:04<00:43,  1.29it/s]\u001b[A\n",
            " 61%|██████    | 85/140 [01:05<00:42,  1.30it/s]\u001b[A\n",
            " 61%|██████▏   | 86/140 [01:05<00:41,  1.30it/s]\u001b[A\n",
            " 62%|██████▏   | 87/140 [01:06<00:40,  1.31it/s]\u001b[A\n",
            " 63%|██████▎   | 88/140 [01:07<00:39,  1.31it/s]\u001b[A\n",
            " 64%|██████▎   | 89/140 [01:08<00:38,  1.32it/s]\u001b[A\n",
            " 64%|██████▍   | 90/140 [01:08<00:38,  1.31it/s]\u001b[A\n",
            " 65%|██████▌   | 91/140 [01:09<00:37,  1.32it/s]\u001b[A\n",
            " 66%|██████▌   | 92/140 [01:10<00:36,  1.31it/s]\u001b[A\n",
            " 66%|██████▋   | 93/140 [01:11<00:35,  1.32it/s]\u001b[A\n",
            " 67%|██████▋   | 94/140 [01:11<00:35,  1.30it/s]\u001b[A\n",
            " 68%|██████▊   | 95/140 [01:12<00:34,  1.31it/s]\u001b[A\n",
            " 69%|██████▊   | 96/140 [01:13<00:33,  1.30it/s]\u001b[A\n",
            " 69%|██████▉   | 97/140 [01:14<00:32,  1.31it/s]\u001b[A\n",
            " 70%|███████   | 98/140 [01:14<00:32,  1.30it/s]\u001b[A\n",
            " 71%|███████   | 99/140 [01:15<00:31,  1.30it/s]\u001b[A\n",
            " 71%|███████▏  | 100/140 [01:16<00:30,  1.30it/s]\u001b[A\n",
            " 72%|███████▏  | 101/140 [01:17<00:30,  1.30it/s]\u001b[A\n",
            " 73%|███████▎  | 102/140 [01:18<00:29,  1.30it/s]\u001b[A\n",
            " 74%|███████▎  | 103/140 [01:18<00:28,  1.31it/s]\u001b[A\n",
            " 74%|███████▍  | 104/140 [01:19<00:27,  1.30it/s]\u001b[A\n",
            " 75%|███████▌  | 105/140 [01:20<00:26,  1.31it/s]\u001b[A\n",
            " 76%|███████▌  | 106/140 [01:21<00:25,  1.31it/s]\u001b[A\n",
            " 76%|███████▋  | 107/140 [01:21<00:25,  1.32it/s]\u001b[A\n",
            " 77%|███████▋  | 108/140 [01:22<00:24,  1.32it/s]\u001b[A\n",
            " 78%|███████▊  | 109/140 [01:23<00:23,  1.31it/s]\u001b[A\n",
            " 79%|███████▊  | 110/140 [01:24<00:23,  1.29it/s]\u001b[A\n",
            " 79%|███████▉  | 111/140 [01:24<00:22,  1.30it/s]\u001b[A\n",
            " 80%|████████  | 112/140 [01:25<00:21,  1.30it/s]\u001b[A\n",
            " 81%|████████  | 113/140 [01:26<00:20,  1.31it/s]\u001b[A\n",
            " 81%|████████▏ | 114/140 [01:27<00:19,  1.30it/s]\u001b[A\n",
            " 82%|████████▏ | 115/140 [01:28<00:19,  1.29it/s]\u001b[A\n",
            " 83%|████████▎ | 116/140 [01:28<00:18,  1.30it/s]\u001b[A\n",
            " 84%|████████▎ | 117/140 [01:29<00:17,  1.31it/s]\u001b[A\n",
            " 84%|████████▍ | 118/140 [01:30<00:16,  1.31it/s]\u001b[A\n",
            " 85%|████████▌ | 119/140 [01:31<00:16,  1.31it/s]\u001b[A\n",
            " 86%|████████▌ | 120/140 [01:31<00:15,  1.31it/s]\u001b[A\n",
            " 86%|████████▋ | 121/140 [01:32<00:14,  1.31it/s]\u001b[A\n",
            " 87%|████████▋ | 122/140 [01:33<00:13,  1.31it/s]\u001b[A\n",
            " 88%|████████▊ | 123/140 [01:34<00:12,  1.32it/s]\u001b[A\n",
            " 89%|████████▊ | 124/140 [01:34<00:12,  1.32it/s]\u001b[A\n",
            " 89%|████████▉ | 125/140 [01:35<00:11,  1.32it/s]\u001b[A\n",
            " 90%|█████████ | 126/140 [01:36<00:10,  1.32it/s]\u001b[A\n",
            " 91%|█████████ | 127/140 [01:37<00:09,  1.31it/s]\u001b[A\n",
            " 91%|█████████▏| 128/140 [01:37<00:09,  1.30it/s]\u001b[A\n",
            " 92%|█████████▏| 129/140 [01:38<00:08,  1.31it/s]\u001b[A\n",
            " 93%|█████████▎| 130/140 [01:39<00:07,  1.30it/s]\u001b[A\n",
            " 94%|█████████▎| 131/140 [01:40<00:06,  1.31it/s]\u001b[A\n",
            " 94%|█████████▍| 132/140 [01:40<00:06,  1.31it/s]\u001b[A\n",
            " 95%|█████████▌| 133/140 [01:41<00:05,  1.31it/s]\u001b[A\n",
            " 96%|█████████▌| 134/140 [01:42<00:04,  1.31it/s]\u001b[A\n",
            " 96%|█████████▋| 135/140 [01:43<00:03,  1.30it/s]\u001b[A\n",
            " 97%|█████████▋| 136/140 [01:44<00:03,  1.30it/s]\u001b[A\n",
            " 98%|█████████▊| 137/140 [01:44<00:02,  1.31it/s]\u001b[A\n",
            " 99%|█████████▊| 138/140 [01:45<00:01,  1.31it/s]\u001b[A\n",
            " 99%|█████████▉| 139/140 [01:46<00:00,  1.31it/s]\u001b[A\n",
            "100%|██████████| 140/140 [01:47<00:00,  1.31it/s]\n",
            " 80%|████████  | 4/5 [08:52<02:13, 133.02s/it]"
          ]
        },
        {
          "output_type": "stream",
          "name": "stdout",
          "text": [
            "Epoch : 3 \tTraining Loss: 26.092997 \tValidation Loss 25.880967\n"
          ]
        },
        {
          "output_type": "stream",
          "name": "stderr",
          "text": [
            "\n",
            "  0%|          | 0/140 [00:00<?, ?it/s]\u001b[A\n",
            "  1%|          | 1/140 [00:00<01:46,  1.31it/s]\u001b[A\n",
            "  1%|▏         | 2/140 [00:01<01:46,  1.30it/s]\u001b[A\n",
            "  2%|▏         | 3/140 [00:02<01:45,  1.30it/s]\u001b[A\n",
            "  3%|▎         | 4/140 [00:03<01:45,  1.29it/s]\u001b[A\n",
            "  4%|▎         | 5/140 [00:03<01:45,  1.28it/s]\u001b[A\n",
            "  4%|▍         | 6/140 [00:04<01:44,  1.29it/s]\u001b[A\n",
            "  5%|▌         | 7/140 [00:05<01:42,  1.30it/s]\u001b[A\n",
            "  6%|▌         | 8/140 [00:06<01:42,  1.29it/s]\u001b[A\n",
            "  6%|▋         | 9/140 [00:06<01:41,  1.29it/s]\u001b[A\n",
            "  7%|▋         | 10/140 [00:07<01:40,  1.29it/s]\u001b[A\n",
            "  8%|▊         | 11/140 [00:08<01:40,  1.29it/s]\u001b[A\n",
            "  9%|▊         | 12/140 [00:09<01:39,  1.29it/s]\u001b[A\n",
            "  9%|▉         | 13/140 [00:10<01:38,  1.29it/s]\u001b[A\n",
            " 10%|█         | 14/140 [00:10<01:37,  1.29it/s]\u001b[A\n",
            " 11%|█         | 15/140 [00:11<01:36,  1.29it/s]\u001b[A\n",
            " 11%|█▏        | 16/140 [00:12<01:35,  1.30it/s]\u001b[A\n",
            " 12%|█▏        | 17/140 [00:13<01:34,  1.30it/s]\u001b[A\n",
            " 13%|█▎        | 18/140 [00:13<01:34,  1.29it/s]\u001b[A\n",
            " 14%|█▎        | 19/140 [00:14<01:33,  1.29it/s]\u001b[A\n",
            " 14%|█▍        | 20/140 [00:15<01:32,  1.29it/s]\u001b[A\n",
            " 15%|█▌        | 21/140 [00:16<01:32,  1.29it/s]\u001b[A\n",
            " 16%|█▌        | 22/140 [00:17<01:31,  1.30it/s]\u001b[A\n",
            " 16%|█▋        | 23/140 [00:17<01:29,  1.30it/s]\u001b[A\n",
            " 17%|█▋        | 24/140 [00:18<01:29,  1.30it/s]\u001b[A\n",
            " 18%|█▊        | 25/140 [00:19<01:28,  1.30it/s]\u001b[A\n",
            " 19%|█▊        | 26/140 [00:20<01:27,  1.30it/s]\u001b[A\n",
            " 19%|█▉        | 27/140 [00:20<01:26,  1.31it/s]\u001b[A\n",
            " 20%|██        | 28/140 [00:21<01:26,  1.29it/s]\u001b[A\n",
            " 21%|██        | 29/140 [00:22<01:25,  1.29it/s]\u001b[A\n",
            " 21%|██▏       | 30/140 [00:23<01:25,  1.29it/s]\u001b[A\n",
            " 22%|██▏       | 31/140 [00:23<01:24,  1.30it/s]\u001b[A\n",
            " 23%|██▎       | 32/140 [00:24<01:22,  1.30it/s]\u001b[A\n",
            " 24%|██▎       | 33/140 [00:25<01:21,  1.31it/s]\u001b[A\n",
            " 24%|██▍       | 34/140 [00:26<01:21,  1.30it/s]\u001b[A\n",
            " 25%|██▌       | 35/140 [00:27<01:20,  1.31it/s]\u001b[A\n",
            " 26%|██▌       | 36/140 [00:27<01:19,  1.31it/s]\u001b[A\n",
            " 26%|██▋       | 37/140 [00:28<01:18,  1.31it/s]\u001b[A\n",
            " 27%|██▋       | 38/140 [00:29<01:18,  1.30it/s]\u001b[A\n",
            " 28%|██▊       | 39/140 [00:30<01:18,  1.29it/s]\u001b[A\n",
            " 29%|██▊       | 40/140 [00:30<01:17,  1.29it/s]\u001b[A\n",
            " 29%|██▉       | 41/140 [00:31<01:16,  1.29it/s]\u001b[A\n",
            " 30%|███       | 42/140 [00:32<01:16,  1.29it/s]\u001b[A\n",
            " 31%|███       | 43/140 [00:33<01:15,  1.29it/s]\u001b[A\n",
            " 31%|███▏      | 44/140 [00:33<01:14,  1.29it/s]\u001b[A\n",
            " 32%|███▏      | 45/140 [00:34<01:13,  1.30it/s]\u001b[A\n",
            " 33%|███▎      | 46/140 [00:35<01:12,  1.29it/s]\u001b[A\n",
            " 34%|███▎      | 47/140 [00:36<01:11,  1.29it/s]\u001b[A\n",
            " 34%|███▍      | 48/140 [00:37<01:10,  1.30it/s]\u001b[A\n",
            " 35%|███▌      | 49/140 [00:37<01:10,  1.29it/s]\u001b[A\n",
            " 36%|███▌      | 50/140 [00:38<01:09,  1.30it/s]\u001b[A\n",
            " 36%|███▋      | 51/140 [00:39<01:08,  1.30it/s]\u001b[A\n",
            " 37%|███▋      | 52/140 [00:40<01:07,  1.30it/s]\u001b[A\n",
            " 38%|███▊      | 53/140 [00:40<01:06,  1.31it/s]\u001b[A\n",
            " 39%|███▊      | 54/140 [00:41<01:05,  1.31it/s]\u001b[A\n",
            " 39%|███▉      | 55/140 [00:42<01:05,  1.30it/s]\u001b[A\n",
            " 40%|████      | 56/140 [00:43<01:04,  1.30it/s]\u001b[A\n",
            " 41%|████      | 57/140 [00:43<01:03,  1.30it/s]\u001b[A\n",
            " 41%|████▏     | 58/140 [00:44<01:03,  1.30it/s]\u001b[A\n",
            " 42%|████▏     | 59/140 [00:45<01:02,  1.30it/s]\u001b[A\n",
            " 43%|████▎     | 60/140 [00:46<01:01,  1.30it/s]\u001b[A\n",
            " 44%|████▎     | 61/140 [00:47<01:00,  1.31it/s]\u001b[A\n",
            " 44%|████▍     | 62/140 [00:47<00:59,  1.30it/s]\u001b[A\n",
            " 45%|████▌     | 63/140 [00:48<00:59,  1.30it/s]\u001b[A\n",
            " 46%|████▌     | 64/140 [00:49<00:58,  1.30it/s]\u001b[A\n",
            " 46%|████▋     | 65/140 [00:50<00:57,  1.30it/s]\u001b[A\n",
            " 47%|████▋     | 66/140 [00:50<00:56,  1.30it/s]\u001b[A\n",
            " 48%|████▊     | 67/140 [00:51<00:56,  1.29it/s]\u001b[A\n",
            " 49%|████▊     | 68/140 [00:52<00:55,  1.29it/s]\u001b[A\n",
            " 49%|████▉     | 69/140 [00:53<00:54,  1.29it/s]\u001b[A\n",
            " 50%|█████     | 70/140 [00:54<00:54,  1.29it/s]\u001b[A\n",
            " 51%|█████     | 71/140 [00:54<00:53,  1.29it/s]\u001b[A\n",
            " 51%|█████▏    | 72/140 [00:55<00:52,  1.30it/s]\u001b[A\n",
            " 52%|█████▏    | 73/140 [00:56<00:51,  1.30it/s]\u001b[A\n",
            " 53%|█████▎    | 74/140 [00:57<00:50,  1.30it/s]\u001b[A\n",
            " 54%|█████▎    | 75/140 [00:57<00:50,  1.29it/s]\u001b[A\n",
            " 54%|█████▍    | 76/140 [00:58<00:49,  1.29it/s]\u001b[A\n",
            " 55%|█████▌    | 77/140 [00:59<00:48,  1.30it/s]\u001b[A\n",
            " 56%|█████▌    | 78/140 [01:00<00:48,  1.29it/s]\u001b[A\n",
            " 56%|█████▋    | 79/140 [01:00<00:46,  1.30it/s]\u001b[A\n",
            " 57%|█████▋    | 80/140 [01:01<00:46,  1.30it/s]\u001b[A\n",
            " 58%|█████▊    | 81/140 [01:02<00:45,  1.31it/s]\u001b[A\n",
            " 59%|█████▊    | 82/140 [01:03<00:44,  1.30it/s]\u001b[A\n",
            " 59%|█████▉    | 83/140 [01:03<00:43,  1.31it/s]\u001b[A\n",
            " 60%|██████    | 84/140 [01:04<00:43,  1.30it/s]\u001b[A\n",
            " 61%|██████    | 85/140 [01:05<00:42,  1.30it/s]\u001b[A\n",
            " 61%|██████▏   | 86/140 [01:06<00:41,  1.30it/s]\u001b[A\n",
            " 62%|██████▏   | 87/140 [01:07<00:40,  1.30it/s]\u001b[A\n",
            " 63%|██████▎   | 88/140 [01:07<00:40,  1.29it/s]\u001b[A\n",
            " 64%|██████▎   | 89/140 [01:08<00:39,  1.30it/s]\u001b[A\n",
            " 64%|██████▍   | 90/140 [01:09<00:38,  1.30it/s]\u001b[A\n",
            " 65%|██████▌   | 91/140 [01:10<00:37,  1.31it/s]\u001b[A\n",
            " 66%|██████▌   | 92/140 [01:10<00:36,  1.31it/s]\u001b[A\n",
            " 66%|██████▋   | 93/140 [01:11<00:36,  1.30it/s]\u001b[A\n",
            " 67%|██████▋   | 94/140 [01:12<00:35,  1.29it/s]\u001b[A\n",
            " 68%|██████▊   | 95/140 [01:13<00:34,  1.29it/s]\u001b[A\n",
            " 69%|██████▊   | 96/140 [01:14<00:33,  1.30it/s]\u001b[A\n",
            " 69%|██████▉   | 97/140 [01:14<00:32,  1.31it/s]\u001b[A\n",
            " 70%|███████   | 98/140 [01:15<00:31,  1.31it/s]\u001b[A\n",
            " 71%|███████   | 99/140 [01:16<00:31,  1.31it/s]\u001b[A\n",
            " 71%|███████▏  | 100/140 [01:17<00:30,  1.30it/s]\u001b[A\n",
            " 72%|███████▏  | 101/140 [01:17<00:29,  1.30it/s]\u001b[A\n",
            " 73%|███████▎  | 102/140 [01:18<00:29,  1.30it/s]\u001b[A\n",
            " 74%|███████▎  | 103/140 [01:19<00:28,  1.30it/s]\u001b[A\n",
            " 74%|███████▍  | 104/140 [01:20<00:27,  1.30it/s]\u001b[A\n",
            " 75%|███████▌  | 105/140 [01:20<00:26,  1.31it/s]\u001b[A\n",
            " 76%|███████▌  | 106/140 [01:21<00:26,  1.31it/s]\u001b[A\n",
            " 76%|███████▋  | 107/140 [01:22<00:25,  1.31it/s]\u001b[A\n",
            " 77%|███████▋  | 108/140 [01:23<00:24,  1.30it/s]\u001b[A\n",
            " 78%|███████▊  | 109/140 [01:23<00:23,  1.30it/s]\u001b[A\n",
            " 79%|███████▊  | 110/140 [01:24<00:22,  1.31it/s]\u001b[A\n",
            " 79%|███████▉  | 111/140 [01:25<00:22,  1.30it/s]\u001b[A\n",
            " 80%|████████  | 112/140 [01:26<00:21,  1.31it/s]\u001b[A\n",
            " 81%|████████  | 113/140 [01:27<00:20,  1.31it/s]\u001b[A\n",
            " 81%|████████▏ | 114/140 [01:27<00:19,  1.30it/s]\u001b[A\n",
            " 82%|████████▏ | 115/140 [01:28<00:19,  1.31it/s]\u001b[A\n",
            " 83%|████████▎ | 116/140 [01:29<00:18,  1.29it/s]\u001b[A\n",
            " 84%|████████▎ | 117/140 [01:30<00:17,  1.29it/s]\u001b[A\n",
            " 84%|████████▍ | 118/140 [01:30<00:17,  1.29it/s]\u001b[A\n",
            " 85%|████████▌ | 119/140 [01:31<00:16,  1.29it/s]\u001b[A\n",
            " 86%|████████▌ | 120/140 [01:32<00:15,  1.30it/s]\u001b[A\n",
            " 86%|████████▋ | 121/140 [01:33<00:14,  1.30it/s]\u001b[A\n",
            " 87%|████████▋ | 122/140 [01:34<00:13,  1.29it/s]\u001b[A\n",
            " 88%|████████▊ | 123/140 [01:34<00:13,  1.30it/s]\u001b[A\n",
            " 89%|████████▊ | 124/140 [01:35<00:12,  1.30it/s]\u001b[A\n",
            " 89%|████████▉ | 125/140 [01:36<00:11,  1.30it/s]\u001b[A\n",
            " 90%|█████████ | 126/140 [01:37<00:10,  1.29it/s]\u001b[A\n",
            " 91%|█████████ | 127/140 [01:37<00:09,  1.31it/s]\u001b[A\n",
            " 91%|█████████▏| 128/140 [01:38<00:09,  1.30it/s]\u001b[A\n",
            " 92%|█████████▏| 129/140 [01:39<00:08,  1.29it/s]\u001b[A\n",
            " 93%|█████████▎| 130/140 [01:40<00:07,  1.30it/s]\u001b[A\n",
            " 94%|█████████▎| 131/140 [01:40<00:06,  1.30it/s]\u001b[A\n",
            " 94%|█████████▍| 132/140 [01:41<00:06,  1.31it/s]\u001b[A\n",
            " 95%|█████████▌| 133/140 [01:42<00:05,  1.30it/s]\u001b[A\n",
            " 96%|█████████▌| 134/140 [01:43<00:04,  1.30it/s]\u001b[A\n",
            " 96%|█████████▋| 135/140 [01:44<00:03,  1.29it/s]\u001b[A\n",
            " 97%|█████████▋| 136/140 [01:44<00:03,  1.29it/s]\u001b[A\n",
            " 98%|█████████▊| 137/140 [01:45<00:02,  1.29it/s]\u001b[A\n",
            " 99%|█████████▊| 138/140 [01:46<00:01,  1.30it/s]\u001b[A\n",
            " 99%|█████████▉| 139/140 [01:47<00:00,  1.29it/s]\u001b[A\n",
            "100%|██████████| 140/140 [01:47<00:00,  1.30it/s]\n",
            "100%|██████████| 5/5 [11:06<00:00, 133.22s/it]"
          ]
        },
        {
          "output_type": "stream",
          "name": "stdout",
          "text": [
            "Epoch : 4 \tTraining Loss: 25.558442 \tValidation Loss 25.448865\n"
          ]
        },
        {
          "output_type": "stream",
          "name": "stderr",
          "text": [
            "\n"
          ]
        }
      ]
    },
    {
      "cell_type": "code",
      "metadata": {
        "colab": {
          "base_uri": "https://localhost:8080/"
        },
        "id": "MHz-aYTn27dY",
        "outputId": "9a6f29b1-3199-49a9-d4c2-180ee0686c2c"
      },
      "source": [
        "train_losses, train_losses_vgg"
      ],
      "execution_count": 34,
      "outputs": [
        {
          "output_type": "execute_result",
          "data": {
            "text/plain": [
              "([37.06379743303572,\n",
              "  38.56453493663243,\n",
              "  35.436877850123814,\n",
              "  35.046438162667414,\n",
              "  33.549167960030694],\n",
              " [38.598717771257675,\n",
              "  29.94326902117048,\n",
              "  27.154133565085274,\n",
              "  26.092997482844762,\n",
              "  25.55844192504883])"
            ]
          },
          "metadata": {},
          "execution_count": 34
        }
      ]
    },
    {
      "cell_type": "code",
      "metadata": {
        "colab": {
          "base_uri": "https://localhost:8080/",
          "height": 281
        },
        "id": "-f4WYLXm27bS",
        "outputId": "9e339935-a9b5-4996-9f3a-d4105f6f5517"
      },
      "source": [
        "plt.figure()\n",
        "plt.plot(train_losses)\n",
        "plt.plot(train_losses_vgg)\n",
        "plt.legend(['normal_CNN','VGG_CNN'])\n",
        "plt.title('compare two model')\n",
        "plt.show()"
      ],
      "execution_count": 38,
      "outputs": [
        {
          "output_type": "display_data",
          "data": {
            "image/png": "[encoded data removed]",
            "text/plain": [
              "<Figure size 432x288 with 1 Axes>"
            ]
          },
          "metadata": {
            "needs_background": "light"
          }
        }
      ]
    },
    {
      "cell_type": "code",
      "metadata": {
        "colab": {
          "base_uri": "https://localhost:8080/",
          "height": 268
        },
        "id": "3lJ0VhZZ27ZX",
        "outputId": "6e5f2d08-4d39-4b1c-930f-913b2742edef"
      },
      "source": [
        "plt.figure()\n",
        "plt.plot(valid_losses)\n",
        "plt.plot(valid_losses_vgg)\n",
        "plt.legend(['normal_CNN_val','VGG_CNN_val'])\n",
        "plt.show()"
      ],
      "execution_count": 39,
      "outputs": [
        {
          "output_type": "display_data",
          "data": {
            "image/png": "[encoded data removed]",
            "text/plain": [
              "<Figure size 432x288 with 1 Axes>"
            ]
          },
          "metadata": {
            "needs_background": "light"
          }
        }
      ]
    },
    {
      "cell_type": "code",
      "metadata": {
        "id": "uXIEEiWe0DrM"
      },
      "source": [
        "# VGG모델이 성과가 더 좋음,."
      ],
      "execution_count": null,
      "outputs": []
    },
    {
      "cell_type": "code",
      "metadata": {
        "colab": {
          "base_uri": "https://localhost:8080/"
        },
        "id": "TqehZxlF6qsK",
        "outputId": "e93760cd-7169-4be2-8c68-9532c38a1256"
      },
      "source": [
        "# val acc????\n",
        "\n",
        "correct = 0\n",
        "total = 0\n",
        "\n",
        "with torch.no_grad():\n",
        "    for data in val_dl:\n",
        "        images,labels = data\n",
        "        outputs = model(images)\n",
        "        _,predicted = torch.max(outputs.data,1)\n",
        "        total += labels.size(0)\n",
        "        correct += (predicted == labels).sum().item()\n",
        "print('Accuracy of the network on the test images: %d %%' % (\n",
        "    100 * correct / total))"
      ],
      "execution_count": 40,
      "outputs": [
        {
          "output_type": "stream",
          "name": "stderr",
          "text": [
            "/usr/local/lib/python3.7/dist-packages/torch/nn/modules/container.py:139: UserWarning: Implicit dimension choice for softmax has been deprecated. Change the call to include dim=X as an argument.\n",
            "  input = module(input)\n"
          ]
        },
        {
          "output_type": "stream",
          "name": "stdout",
          "text": [
            "Accuracy of the network on the test images: 97 %\n"
          ]
        }
      ]
    },
    {
      "cell_type": "code",
      "metadata": {
        "id": "m4hcQDvD6qqI"
      },
      "source": [
        ""
      ],
      "execution_count": null,
      "outputs": []
    },
    {
      "cell_type": "code",
      "metadata": {
        "id": "H5F_Vsh66qoH"
      },
      "source": [
        ""
      ],
      "execution_count": null,
      "outputs": []
    },
    {
      "cell_type": "code",
      "metadata": {
        "id": "Xt__HtJ56qmI"
      },
      "source": [
        ""
      ],
      "execution_count": null,
      "outputs": []
    },
    {
      "cell_type": "code",
      "metadata": {
        "colab": {
          "base_uri": "https://localhost:8080/"
        },
        "id": "6WLFlTE9ub8P",
        "outputId": "5ac06bfb-e499-4c15-d730-732a8c3f313b"
      },
      "source": [
        "a = torch.zeros(1,3,256,256)\n",
        "a.shape"
      ],
      "execution_count": null,
      "outputs": [
        {
          "output_type": "execute_result",
          "data": {
            "text/plain": [
              "torch.Size([1, 3, 256, 256])"
            ]
          },
          "metadata": {},
          "execution_count": 96
        }
      ]
    },
    {
      "cell_type": "code",
      "metadata": {
        "id": "O0g0W4r0mAb7"
      },
      "source": [
        "c1 = nn.Conv2d(3,32, kernel_size=3, stride=1, padding=1)\n",
        "c2 = nn.Conv2d(32,64, kernel_size=3, stride=1, padding=1)\n",
        "c3 = nn.Conv2d(64,128, kernel_size=3, stride=1, padding=1)\n",
        "\n",
        "ln1= nn.Linear(32*32*128,64)\n",
        "ln2 = nn.Linear(64,4)\n",
        "\n",
        "pool1 = nn.MaxPool2d(kernel_size=2, stride=2)"
      ],
      "execution_count": null,
      "outputs": []
    },
    {
      "cell_type": "code",
      "metadata": {
        "colab": {
          "base_uri": "https://localhost:8080/"
        },
        "id": "D7-S991_uZVK",
        "outputId": "6d027976-97b8-48a4-84fa-474132a9474e"
      },
      "source": [
        "out = c1(a)\n",
        "print(out.shape)\n",
        "out = pool1(out)\n",
        "print(out.shape)\n",
        "\n",
        "out = c2(out)\n",
        "print(out.shape)\n",
        "out = pool1(out)\n",
        "print(out.shape)\n",
        "\n",
        "out = c3(out)\n",
        "print(out.shape)\n",
        "out = pool1(out)\n",
        "print(out.shape)\n",
        "\n",
        "\n",
        "out = out.view(out.size(0), -1)\n",
        "print(out.shape)\n",
        "\n",
        "out = ln1(out)\n",
        "print(out.shape)\n",
        "\n",
        "out = ln2(out)\n",
        "print(out.shape)\n"
      ],
      "execution_count": null,
      "outputs": [
        {
          "output_type": "stream",
          "name": "stdout",
          "text": [
            "torch.Size([1, 32, 256, 256])\n",
            "torch.Size([1, 32, 128, 128])\n",
            "torch.Size([1, 64, 128, 128])\n",
            "torch.Size([1, 64, 64, 64])\n",
            "torch.Size([1, 128, 64, 64])\n",
            "torch.Size([1, 128, 32, 32])\n",
            "torch.Size([1, 131072])\n",
            "torch.Size([1, 64])\n",
            "torch.Size([1, 4])\n"
          ]
        }
      ]
    },
    {
      "cell_type": "code",
      "metadata": {
        "id": "9_NsdHTE1qMt"
      },
      "source": [
        ""
      ],
      "execution_count": null,
      "outputs": []
    },
    {
      "cell_type": "code",
      "metadata": {
        "colab": {
          "base_uri": "https://localhost:8080/"
        },
        "id": "M9_Eo-vput2n",
        "outputId": "66793749-bd07-43be-f0f8-312f2e4dee49"
      },
      "source": [
        ""
      ],
      "execution_count": null,
      "outputs": [
        {
          "output_type": "stream",
          "name": "stderr",
          "text": [
            "/usr/local/lib/python3.7/dist-packages/torch/nn/functional.py:718: UserWarning: Named tensors and all their associated APIs are an experimental feature and subject to change. Please do not use them for anything important until they are released as stable. (Triggered internally at  /pytorch/c10/core/TensorImpl.h:1156.)\n",
            "  return torch.max_pool2d(input, kernel_size, stride, padding, dilation, ceil_mode)\n"
          ]
        },
        {
          "output_type": "execute_result",
          "data": {
            "text/plain": [
              "torch.Size([1, 32, 128, 128])"
            ]
          },
          "metadata": {},
          "execution_count": 90
        }
      ]
    },
    {
      "cell_type": "code",
      "metadata": {
        "id": "1PGyw-3Luy6p"
      },
      "source": [
        ""
      ],
      "execution_count": null,
      "outputs": []
    }
  ]
}